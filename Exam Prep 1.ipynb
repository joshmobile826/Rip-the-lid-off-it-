{
 "cells": [
  {
   "cell_type": "markdown",
   "metadata": {},
   "source": [
    "# Basic Python Syntax"
   ]
  },
  {
   "cell_type": "code",
   "execution_count": 33,
   "metadata": {},
   "outputs": [
    {
     "name": "stdout",
     "output_type": "stream",
     "text": [
      "lower: [0, 1, 2, 3, 4]\n",
      "upper: [5, 6, 7, 8, 9]\n"
     ]
    }
   ],
   "source": [
    "# set the midpoint\n",
    "midpoint = 5\n",
    "\n",
    "# make two empty lists\n",
    "lower = []; upper = []\n",
    "\n",
    "# split the numbers into lower and upper\n",
    "for i in range(10):\n",
    "    if (i < midpoint):\n",
    "        lower.append(i)\n",
    "    else:\n",
    "        upper.append(i)\n",
    "        \n",
    "print(\"lower:\", lower)\n",
    "print(\"upper:\", upper)\n"
   ]
  },
  {
   "cell_type": "code",
   "execution_count": 35,
   "metadata": {},
   "outputs": [],
   "source": [
    "x=1+2\n",
    "x = 1 + 2\n",
    "x             =        1    +                2"
   ]
  },
  {
   "cell_type": "code",
   "execution_count": 37,
   "metadata": {},
   "outputs": [
    {
     "data": {
      "text/plain": [
       "14"
      ]
     },
     "execution_count": 37,
     "metadata": {},
     "output_type": "execute_result"
    }
   ],
   "source": [
    "2 * (3 + 4)"
   ]
  },
  {
   "cell_type": "code",
   "execution_count": 38,
   "metadata": {},
   "outputs": [
    {
     "name": "stdout",
     "output_type": "stream",
     "text": [
      "first value: 1\n"
     ]
    }
   ],
   "source": [
    "print('first value:', 1)"
   ]
  },
  {
   "cell_type": "code",
   "execution_count": 39,
   "metadata": {},
   "outputs": [
    {
     "name": "stdout",
     "output_type": "stream",
     "text": [
      "second value: 2\n"
     ]
    }
   ],
   "source": [
    "print('second value:', 2)"
   ]
  },
  {
   "cell_type": "code",
   "execution_count": 40,
   "metadata": {},
   "outputs": [
    {
     "name": "stdout",
     "output_type": "stream",
     "text": [
      "[1, 2, 3, 4]\n"
     ]
    }
   ],
   "source": [
    "L = [4,2,3,1]\n",
    "L.sort()\n",
    "print(L)"
   ]
  },
  {
   "cell_type": "markdown",
   "metadata": {},
   "source": [
    "# Variables and Objects"
   ]
  },
  {
   "cell_type": "code",
   "execution_count": 41,
   "metadata": {},
   "outputs": [],
   "source": [
    "x = 1         # x is an integer\n",
    "x = 'hello'   # now x is a string\n",
    "x = [1, 2, 3] # now x is a list"
   ]
  },
  {
   "cell_type": "code",
   "execution_count": 43,
   "metadata": {},
   "outputs": [],
   "source": [
    "x = [1, 2, 3]\n",
    "y = x"
   ]
  },
  {
   "cell_type": "code",
   "execution_count": 44,
   "metadata": {},
   "outputs": [
    {
     "name": "stdout",
     "output_type": "stream",
     "text": [
      "[1, 2, 3]\n"
     ]
    }
   ],
   "source": [
    "print(y)"
   ]
  },
  {
   "cell_type": "code",
   "execution_count": 45,
   "metadata": {},
   "outputs": [
    {
     "name": "stdout",
     "output_type": "stream",
     "text": [
      "[1, 2, 3, 4]\n"
     ]
    }
   ],
   "source": [
    "x.append(4) # append 4 to the list pointed to by x\n",
    "print(y) # y's list is modified as well!"
   ]
  },
  {
   "cell_type": "code",
   "execution_count": 46,
   "metadata": {},
   "outputs": [
    {
     "name": "stdout",
     "output_type": "stream",
     "text": [
      "[1, 2, 3, 4]\n"
     ]
    }
   ],
   "source": [
    "x = \"something else\"\n",
    "print(y)"
   ]
  },
  {
   "cell_type": "code",
   "execution_count": 47,
   "metadata": {},
   "outputs": [
    {
     "name": "stdout",
     "output_type": "stream",
     "text": [
      "x = 15\n",
      "y = 10\n"
     ]
    }
   ],
   "source": [
    "x = 10\n",
    "y = x\n",
    "x += 5  # add 5 to x's value, and assign it to x\n",
    "print(\"x =\", x)\n",
    "print(\"y =\", y)"
   ]
  },
  {
   "cell_type": "code",
   "execution_count": 48,
   "metadata": {},
   "outputs": [
    {
     "data": {
      "text/plain": [
       "int"
      ]
     },
     "execution_count": 48,
     "metadata": {},
     "output_type": "execute_result"
    }
   ],
   "source": [
    "x = 4\n",
    "type(x)"
   ]
  },
  {
   "cell_type": "code",
   "execution_count": 49,
   "metadata": {},
   "outputs": [
    {
     "data": {
      "text/plain": [
       "str"
      ]
     },
     "execution_count": 49,
     "metadata": {},
     "output_type": "execute_result"
    }
   ],
   "source": [
    "x = 'hello'\n",
    "type(x)"
   ]
  },
  {
   "cell_type": "code",
   "execution_count": 50,
   "metadata": {},
   "outputs": [
    {
     "data": {
      "text/plain": [
       "float"
      ]
     },
     "execution_count": 50,
     "metadata": {},
     "output_type": "execute_result"
    }
   ],
   "source": [
    "x = 3.14159\n",
    "type(x)"
   ]
  },
  {
   "cell_type": "code",
   "execution_count": 51,
   "metadata": {},
   "outputs": [
    {
     "name": "stdout",
     "output_type": "stream",
     "text": [
      "[1, 2, 3, 100]\n"
     ]
    }
   ],
   "source": [
    "L = [1, 2, 3]\n",
    "L.append(100)\n",
    "print(L)"
   ]
  },
  {
   "cell_type": "code",
   "execution_count": 52,
   "metadata": {},
   "outputs": [
    {
     "name": "stdout",
     "output_type": "stream",
     "text": [
      "4.5 + 0.0 i\n"
     ]
    }
   ],
   "source": [
    "x = 4.5\n",
    "print(x.real, \"+\", x.imag, 'i')"
   ]
  },
  {
   "cell_type": "code",
   "execution_count": 53,
   "metadata": {},
   "outputs": [
    {
     "data": {
      "text/plain": [
       "False"
      ]
     },
     "execution_count": 53,
     "metadata": {},
     "output_type": "execute_result"
    }
   ],
   "source": [
    "x = 4.5\n",
    "x.is_integer()"
   ]
  },
  {
   "cell_type": "code",
   "execution_count": 54,
   "metadata": {},
   "outputs": [
    {
     "data": {
      "text/plain": [
       "True"
      ]
     },
     "execution_count": 54,
     "metadata": {},
     "output_type": "execute_result"
    }
   ],
   "source": [
    "x = 4.0\n",
    "x.is_integer()"
   ]
  },
  {
   "cell_type": "code",
   "execution_count": 55,
   "metadata": {},
   "outputs": [
    {
     "data": {
      "text/plain": [
       "builtin_function_or_method"
      ]
     },
     "execution_count": 55,
     "metadata": {},
     "output_type": "execute_result"
    }
   ],
   "source": [
    "type(x.is_integer)"
   ]
  },
  {
   "cell_type": "markdown",
   "metadata": {},
   "source": [
    "# Operators"
   ]
  },
  {
   "cell_type": "markdown",
   "metadata": {},
   "source": [
    "**Operator\tName\tDescription**\n",
    "\n",
    "a + b\tAddition\tSum of a and b\n",
    "\n",
    "a - b\tSubtraction\tDifference of a and b\n",
    "\n",
    "a * b\tMultiplication\tProduct of a and b\n",
    "\n",
    "a / b\tTrue division\tQuotient of a and b\n",
    "\n",
    "a // b\tFloor division\tQuotient of a and b, removing fractional parts\n",
    "\n",
    "a % b\tModulus\tInteger remainder after division of a by b\n",
    "\n",
    "a ** b\tExponentiation\ta raised to the power of b\n",
    "\n",
    "-a\tNegation\tThe negative of a\n",
    "\n",
    "+a\tUnary plus\ta unchanged (rarely used)"
   ]
  },
  {
   "cell_type": "markdown",
   "metadata": {},
   "source": [
    "**Operator\tName\tDescription**\n",
    "\n",
    "a & b\tBitwise AND\tBits defined in both a and b\n",
    "\n",
    "a | b\tBitwise OR\tBits defined in a or b or both\n",
    "\n",
    "a ^ b\tBitwise XOR\tBits defined in a or b but not both\n",
    "\n",
    "a << b\tBit shift left\tShift bits of a left by b units\n",
    "\n",
    "a >> b\tBit shift right\tShift bits of a right by b units\n",
    "\n",
    "~a\tBitwise NOT\tBitwise negation of a"
   ]
  },
  {
   "cell_type": "markdown",
   "metadata": {},
   "source": [
    "a += b\ta -= b\ta *= b\ta /= b\n",
    "\n",
    "a //= b\ta %= b\ta **= b\ta &= b\n",
    "\n",
    "a |= b\ta ^= b\ta <<= b\ta >>= b"
   ]
  },
  {
   "cell_type": "markdown",
   "metadata": {},
   "source": [
    "**Operation\tDescription\t\tOperation\tDescription**\n",
    "\n",
    "a == b\ta equal to b\t\ta != b\ta not equal to b\n",
    "\n",
    "a < b\ta less than b\t\ta > b\ta greater than b\n",
    "\n",
    "a <= b\ta less than or equal to b\t\ta >= b\ta greater than or equal to b"
   ]
  },
  {
   "cell_type": "markdown",
   "metadata": {},
   "source": [
    "**Operator\tDescription**\n",
    "\n",
    "a is b\tTrue if a and b are identical objects\n",
    "\n",
    "a is not b\tTrue if a and b are not identical objects\n",
    "\n",
    "a in b\tTrue if a is a member of b\n",
    "\n",
    "a not in b\tTrue if a is not a member of b"
   ]
  },
  {
   "cell_type": "code",
   "execution_count": 56,
   "metadata": {},
   "outputs": [
    {
     "data": {
      "text/plain": [
       "42.0"
      ]
     },
     "execution_count": 56,
     "metadata": {},
     "output_type": "execute_result"
    }
   ],
   "source": [
    "# addition, subtraction, multiplication\n",
    "(4 + 8) * (6.5 - 3)"
   ]
  },
  {
   "cell_type": "code",
   "execution_count": 57,
   "metadata": {},
   "outputs": [
    {
     "name": "stdout",
     "output_type": "stream",
     "text": [
      "5.5\n"
     ]
    }
   ],
   "source": [
    "# True division\n",
    "print(11 / 2)"
   ]
  },
  {
   "cell_type": "code",
   "execution_count": 58,
   "metadata": {},
   "outputs": [
    {
     "name": "stdout",
     "output_type": "stream",
     "text": [
      "5\n"
     ]
    }
   ],
   "source": [
    "# Floor division\n",
    "print(11 // 2)"
   ]
  },
  {
   "cell_type": "code",
   "execution_count": 59,
   "metadata": {},
   "outputs": [
    {
     "data": {
      "text/plain": [
       "'0b1010'"
      ]
     },
     "execution_count": 59,
     "metadata": {},
     "output_type": "execute_result"
    }
   ],
   "source": [
    "bin(10)"
   ]
  },
  {
   "cell_type": "code",
   "execution_count": 60,
   "metadata": {},
   "outputs": [
    {
     "data": {
      "text/plain": [
       "'0b100'"
      ]
     },
     "execution_count": 60,
     "metadata": {},
     "output_type": "execute_result"
    }
   ],
   "source": [
    "bin(4)"
   ]
  },
  {
   "cell_type": "code",
   "execution_count": 61,
   "metadata": {},
   "outputs": [
    {
     "data": {
      "text/plain": [
       "14"
      ]
     },
     "execution_count": 61,
     "metadata": {},
     "output_type": "execute_result"
    }
   ],
   "source": [
    "4 | 10"
   ]
  },
  {
   "cell_type": "code",
   "execution_count": 62,
   "metadata": {},
   "outputs": [
    {
     "data": {
      "text/plain": [
       "'0b1110'"
      ]
     },
     "execution_count": 62,
     "metadata": {},
     "output_type": "execute_result"
    }
   ],
   "source": [
    "bin(4 | 10)"
   ]
  },
  {
   "cell_type": "code",
   "execution_count": 63,
   "metadata": {},
   "outputs": [
    {
     "name": "stdout",
     "output_type": "stream",
     "text": [
      "24\n"
     ]
    }
   ],
   "source": [
    "a = 24\n",
    "print(a)"
   ]
  },
  {
   "cell_type": "code",
   "execution_count": 64,
   "metadata": {},
   "outputs": [
    {
     "data": {
      "text/plain": [
       "26"
      ]
     },
     "execution_count": 64,
     "metadata": {},
     "output_type": "execute_result"
    }
   ],
   "source": [
    "a + 2"
   ]
  },
  {
   "cell_type": "code",
   "execution_count": 65,
   "metadata": {},
   "outputs": [
    {
     "name": "stdout",
     "output_type": "stream",
     "text": [
      "26\n"
     ]
    }
   ],
   "source": [
    "a += 2  # equivalent to a = a + 2\n",
    "print(a)"
   ]
  },
  {
   "cell_type": "code",
   "execution_count": 66,
   "metadata": {},
   "outputs": [
    {
     "data": {
      "text/plain": [
       "True"
      ]
     },
     "execution_count": 66,
     "metadata": {},
     "output_type": "execute_result"
    }
   ],
   "source": [
    "# 25 is odd\n",
    "25 % 2 == 1"
   ]
  },
  {
   "cell_type": "code",
   "execution_count": 67,
   "metadata": {},
   "outputs": [
    {
     "data": {
      "text/plain": [
       "False"
      ]
     },
     "execution_count": 67,
     "metadata": {},
     "output_type": "execute_result"
    }
   ],
   "source": [
    "# 66 is odd\n",
    "66 % 2 == 1"
   ]
  },
  {
   "cell_type": "code",
   "execution_count": 68,
   "metadata": {},
   "outputs": [
    {
     "data": {
      "text/plain": [
       "True"
      ]
     },
     "execution_count": 68,
     "metadata": {},
     "output_type": "execute_result"
    }
   ],
   "source": [
    "# check if a is between 15 and 30\n",
    "a = 25\n",
    "15 < a < 30"
   ]
  },
  {
   "cell_type": "code",
   "execution_count": 69,
   "metadata": {},
   "outputs": [
    {
     "data": {
      "text/plain": [
       "True"
      ]
     },
     "execution_count": 69,
     "metadata": {},
     "output_type": "execute_result"
    }
   ],
   "source": [
    "#flipping bits\n",
    "-1 == ~0"
   ]
  },
  {
   "cell_type": "code",
   "execution_count": 70,
   "metadata": {},
   "outputs": [
    {
     "data": {
      "text/plain": [
       "True"
      ]
     },
     "execution_count": 70,
     "metadata": {},
     "output_type": "execute_result"
    }
   ],
   "source": [
    "x = 4\n",
    "(x < 6) and (x > 2)"
   ]
  },
  {
   "cell_type": "code",
   "execution_count": 71,
   "metadata": {},
   "outputs": [
    {
     "data": {
      "text/plain": [
       "True"
      ]
     },
     "execution_count": 71,
     "metadata": {},
     "output_type": "execute_result"
    }
   ],
   "source": [
    "(x > 10) or (x % 2 == 0)"
   ]
  },
  {
   "cell_type": "code",
   "execution_count": 72,
   "metadata": {},
   "outputs": [
    {
     "data": {
      "text/plain": [
       "False"
      ]
     },
     "execution_count": 72,
     "metadata": {},
     "output_type": "execute_result"
    }
   ],
   "source": [
    "not (x < 6)"
   ]
  },
  {
   "cell_type": "code",
   "execution_count": 73,
   "metadata": {},
   "outputs": [
    {
     "data": {
      "text/plain": [
       "False"
      ]
     },
     "execution_count": 73,
     "metadata": {},
     "output_type": "execute_result"
    }
   ],
   "source": [
    "# (x > 1) xor (x < 10)\n",
    "(x > 1) != (x < 10)"
   ]
  },
  {
   "cell_type": "code",
   "execution_count": 74,
   "metadata": {},
   "outputs": [],
   "source": [
    "a = [1, 2, 3]\n",
    "b = [1, 2, 3]"
   ]
  },
  {
   "cell_type": "code",
   "execution_count": 75,
   "metadata": {},
   "outputs": [
    {
     "data": {
      "text/plain": [
       "True"
      ]
     },
     "execution_count": 75,
     "metadata": {},
     "output_type": "execute_result"
    }
   ],
   "source": [
    "a == b"
   ]
  },
  {
   "cell_type": "code",
   "execution_count": 76,
   "metadata": {},
   "outputs": [
    {
     "data": {
      "text/plain": [
       "False"
      ]
     },
     "execution_count": 76,
     "metadata": {},
     "output_type": "execute_result"
    }
   ],
   "source": [
    "a is b"
   ]
  },
  {
   "cell_type": "code",
   "execution_count": 77,
   "metadata": {},
   "outputs": [
    {
     "data": {
      "text/plain": [
       "True"
      ]
     },
     "execution_count": 77,
     "metadata": {},
     "output_type": "execute_result"
    }
   ],
   "source": [
    "a is not b"
   ]
  },
  {
   "cell_type": "code",
   "execution_count": 78,
   "metadata": {},
   "outputs": [
    {
     "data": {
      "text/plain": [
       "True"
      ]
     },
     "execution_count": 78,
     "metadata": {},
     "output_type": "execute_result"
    }
   ],
   "source": [
    "a = [1, 2, 3]\n",
    "b = a\n",
    "a is b"
   ]
  },
  {
   "cell_type": "code",
   "execution_count": 79,
   "metadata": {},
   "outputs": [
    {
     "data": {
      "text/plain": [
       "True"
      ]
     },
     "execution_count": 79,
     "metadata": {},
     "output_type": "execute_result"
    }
   ],
   "source": [
    "1 in [1, 2, 3]"
   ]
  },
  {
   "cell_type": "code",
   "execution_count": 80,
   "metadata": {},
   "outputs": [
    {
     "data": {
      "text/plain": [
       "False"
      ]
     },
     "execution_count": 80,
     "metadata": {},
     "output_type": "execute_result"
    }
   ],
   "source": [
    "2 not in [1, 2, 3]"
   ]
  },
  {
   "cell_type": "markdown",
   "metadata": {},
   "source": [
    "# Simple Values"
   ]
  },
  {
   "cell_type": "code",
   "execution_count": 81,
   "metadata": {},
   "outputs": [
    {
     "data": {
      "text/plain": [
       "int"
      ]
     },
     "execution_count": 81,
     "metadata": {},
     "output_type": "execute_result"
    }
   ],
   "source": [
    "x = 1\n",
    "type(x)"
   ]
  },
  {
   "cell_type": "code",
   "execution_count": 82,
   "metadata": {},
   "outputs": [
    {
     "data": {
      "text/plain": [
       "1606938044258990275541962092341162602522202993782792835301376"
      ]
     },
     "execution_count": 82,
     "metadata": {},
     "output_type": "execute_result"
    }
   ],
   "source": [
    "2 ** 200"
   ]
  },
  {
   "cell_type": "code",
   "execution_count": 83,
   "metadata": {},
   "outputs": [
    {
     "data": {
      "text/plain": [
       "2.5"
      ]
     },
     "execution_count": 83,
     "metadata": {},
     "output_type": "execute_result"
    }
   ],
   "source": [
    "5 / 2"
   ]
  },
  {
   "cell_type": "code",
   "execution_count": 84,
   "metadata": {},
   "outputs": [
    {
     "data": {
      "text/plain": [
       "2"
      ]
     },
     "execution_count": 84,
     "metadata": {},
     "output_type": "execute_result"
    }
   ],
   "source": [
    "5 // 2"
   ]
  },
  {
   "cell_type": "code",
   "execution_count": 85,
   "metadata": {},
   "outputs": [
    {
     "name": "stdout",
     "output_type": "stream",
     "text": [
      "True\n"
     ]
    }
   ],
   "source": [
    "x = 0.000005\n",
    "y = 5e-6\n",
    "print(x == y)"
   ]
  },
  {
   "cell_type": "code",
   "execution_count": 86,
   "metadata": {},
   "outputs": [
    {
     "name": "stdout",
     "output_type": "stream",
     "text": [
      "True\n"
     ]
    }
   ],
   "source": [
    "x = 1400000.00\n",
    "y = 1.4e6\n",
    "print(x == y)"
   ]
  },
  {
   "cell_type": "code",
   "execution_count": 87,
   "metadata": {},
   "outputs": [
    {
     "data": {
      "text/plain": [
       "1.0"
      ]
     },
     "execution_count": 87,
     "metadata": {},
     "output_type": "execute_result"
    }
   ],
   "source": [
    "float(1)"
   ]
  },
  {
   "cell_type": "code",
   "execution_count": 88,
   "metadata": {},
   "outputs": [
    {
     "data": {
      "text/plain": [
       "False"
      ]
     },
     "execution_count": 88,
     "metadata": {},
     "output_type": "execute_result"
    }
   ],
   "source": [
    "0.1 + 0.2 == 0.3"
   ]
  },
  {
   "cell_type": "code",
   "execution_count": 89,
   "metadata": {},
   "outputs": [
    {
     "name": "stdout",
     "output_type": "stream",
     "text": [
      "0.1 = 0.10000000000000001\n",
      "0.2 = 0.20000000000000001\n",
      "0.3 = 0.29999999999999999\n"
     ]
    }
   ],
   "source": [
    "print(\"0.1 = {0:.17f}\".format(0.1))\n",
    "print(\"0.2 = {0:.17f}\".format(0.2))\n",
    "print(\"0.3 = {0:.17f}\".format(0.3))"
   ]
  },
  {
   "cell_type": "code",
   "execution_count": 90,
   "metadata": {},
   "outputs": [
    {
     "data": {
      "text/plain": [
       "(1+2j)"
      ]
     },
     "execution_count": 90,
     "metadata": {},
     "output_type": "execute_result"
    }
   ],
   "source": [
    "complex(1, 2)"
   ]
  },
  {
   "cell_type": "code",
   "execution_count": 91,
   "metadata": {},
   "outputs": [
    {
     "data": {
      "text/plain": [
       "(1+2j)"
      ]
     },
     "execution_count": 91,
     "metadata": {},
     "output_type": "execute_result"
    }
   ],
   "source": [
    "1 + 2j"
   ]
  },
  {
   "cell_type": "code",
   "execution_count": 92,
   "metadata": {},
   "outputs": [],
   "source": [
    "c = 3 + 4j"
   ]
  },
  {
   "cell_type": "code",
   "execution_count": 93,
   "metadata": {},
   "outputs": [
    {
     "data": {
      "text/plain": [
       "3.0"
      ]
     },
     "execution_count": 93,
     "metadata": {},
     "output_type": "execute_result"
    }
   ],
   "source": [
    "c.real  # real part"
   ]
  },
  {
   "cell_type": "code",
   "execution_count": 94,
   "metadata": {},
   "outputs": [
    {
     "data": {
      "text/plain": [
       "4.0"
      ]
     },
     "execution_count": 94,
     "metadata": {},
     "output_type": "execute_result"
    }
   ],
   "source": [
    "c.imag  # imaginary part"
   ]
  },
  {
   "cell_type": "code",
   "execution_count": 95,
   "metadata": {},
   "outputs": [
    {
     "data": {
      "text/plain": [
       "(3-4j)"
      ]
     },
     "execution_count": 95,
     "metadata": {},
     "output_type": "execute_result"
    }
   ],
   "source": [
    "c.conjugate()  # complex conjugate"
   ]
  },
  {
   "cell_type": "code",
   "execution_count": 96,
   "metadata": {},
   "outputs": [
    {
     "data": {
      "text/plain": [
       "5.0"
      ]
     },
     "execution_count": 96,
     "metadata": {},
     "output_type": "execute_result"
    }
   ],
   "source": [
    "abs(c)  # magnitude, i.e. sqrt(c.real ** 2 + c.imag ** 2)"
   ]
  },
  {
   "cell_type": "code",
   "execution_count": 97,
   "metadata": {},
   "outputs": [],
   "source": [
    "message = \"what do you like?\"\n",
    "response = 'spam'"
   ]
  },
  {
   "cell_type": "code",
   "execution_count": 98,
   "metadata": {},
   "outputs": [
    {
     "data": {
      "text/plain": [
       "4"
      ]
     },
     "execution_count": 98,
     "metadata": {},
     "output_type": "execute_result"
    }
   ],
   "source": [
    "# length of string\n",
    "len(response)"
   ]
  },
  {
   "cell_type": "code",
   "execution_count": 99,
   "metadata": {},
   "outputs": [
    {
     "data": {
      "text/plain": [
       "'SPAM'"
      ]
     },
     "execution_count": 99,
     "metadata": {},
     "output_type": "execute_result"
    }
   ],
   "source": [
    "# Make upper-case. See also str.lower()\n",
    "response.upper()"
   ]
  },
  {
   "cell_type": "code",
   "execution_count": 100,
   "metadata": {},
   "outputs": [
    {
     "data": {
      "text/plain": [
       "'What do you like?'"
      ]
     },
     "execution_count": 100,
     "metadata": {},
     "output_type": "execute_result"
    }
   ],
   "source": [
    "# Capitalize. See also str.title()\n",
    "message.capitalize()"
   ]
  },
  {
   "cell_type": "code",
   "execution_count": 101,
   "metadata": {},
   "outputs": [
    {
     "data": {
      "text/plain": [
       "'what do you like?spam'"
      ]
     },
     "execution_count": 101,
     "metadata": {},
     "output_type": "execute_result"
    }
   ],
   "source": [
    "# concatenation with +\n",
    "message + response"
   ]
  },
  {
   "cell_type": "code",
   "execution_count": 102,
   "metadata": {},
   "outputs": [
    {
     "data": {
      "text/plain": [
       "'spamspamspamspamspam'"
      ]
     },
     "execution_count": 102,
     "metadata": {},
     "output_type": "execute_result"
    }
   ],
   "source": [
    "# multiplication is multiple concatenation\n",
    "5 * response"
   ]
  },
  {
   "cell_type": "code",
   "execution_count": 103,
   "metadata": {},
   "outputs": [
    {
     "data": {
      "text/plain": [
       "'w'"
      ]
     },
     "execution_count": 103,
     "metadata": {},
     "output_type": "execute_result"
    }
   ],
   "source": [
    "# Access individual characters (zero-based indexing)\n",
    "message[0]"
   ]
  },
  {
   "cell_type": "code",
   "execution_count": 104,
   "metadata": {},
   "outputs": [
    {
     "data": {
      "text/plain": [
       "NoneType"
      ]
     },
     "execution_count": 104,
     "metadata": {},
     "output_type": "execute_result"
    }
   ],
   "source": [
    "type(None)"
   ]
  },
  {
   "cell_type": "code",
   "execution_count": 105,
   "metadata": {},
   "outputs": [
    {
     "name": "stdout",
     "output_type": "stream",
     "text": [
      "abc\n"
     ]
    }
   ],
   "source": [
    "return_value = print('abc')"
   ]
  },
  {
   "cell_type": "code",
   "execution_count": 106,
   "metadata": {},
   "outputs": [
    {
     "name": "stdout",
     "output_type": "stream",
     "text": [
      "None\n"
     ]
    }
   ],
   "source": [
    "print(return_value)"
   ]
  },
  {
   "cell_type": "code",
   "execution_count": 107,
   "metadata": {},
   "outputs": [
    {
     "data": {
      "text/plain": [
       "True"
      ]
     },
     "execution_count": 107,
     "metadata": {},
     "output_type": "execute_result"
    }
   ],
   "source": [
    "result = (4 < 5)\n",
    "result"
   ]
  },
  {
   "cell_type": "code",
   "execution_count": 108,
   "metadata": {},
   "outputs": [
    {
     "data": {
      "text/plain": [
       "bool"
      ]
     },
     "execution_count": 108,
     "metadata": {},
     "output_type": "execute_result"
    }
   ],
   "source": [
    "type(result)"
   ]
  },
  {
   "cell_type": "code",
   "execution_count": 109,
   "metadata": {},
   "outputs": [
    {
     "name": "stdout",
     "output_type": "stream",
     "text": [
      "True False\n"
     ]
    }
   ],
   "source": [
    "print(True, False)"
   ]
  },
  {
   "cell_type": "code",
   "execution_count": 110,
   "metadata": {},
   "outputs": [
    {
     "data": {
      "text/plain": [
       "True"
      ]
     },
     "execution_count": 110,
     "metadata": {},
     "output_type": "execute_result"
    }
   ],
   "source": [
    "#bool() on numeric type is Flase if == 0, True otherwise\n",
    "bool(2014)"
   ]
  },
  {
   "cell_type": "code",
   "execution_count": 111,
   "metadata": {},
   "outputs": [
    {
     "data": {
      "text/plain": [
       "False"
      ]
     },
     "execution_count": 111,
     "metadata": {},
     "output_type": "execute_result"
    }
   ],
   "source": [
    "bool(0)"
   ]
  },
  {
   "cell_type": "code",
   "execution_count": 112,
   "metadata": {},
   "outputs": [
    {
     "data": {
      "text/plain": [
       "True"
      ]
     },
     "execution_count": 112,
     "metadata": {},
     "output_type": "execute_result"
    }
   ],
   "source": [
    "bool(3.1415)"
   ]
  },
  {
   "cell_type": "code",
   "execution_count": 113,
   "metadata": {},
   "outputs": [
    {
     "data": {
      "text/plain": [
       "False"
      ]
     },
     "execution_count": 113,
     "metadata": {},
     "output_type": "execute_result"
    }
   ],
   "source": [
    "#bool()type of none is always False\n",
    "bool(None)"
   ]
  },
  {
   "cell_type": "code",
   "execution_count": 114,
   "metadata": {},
   "outputs": [
    {
     "data": {
      "text/plain": [
       "False"
      ]
     },
     "execution_count": 114,
     "metadata": {},
     "output_type": "execute_result"
    }
   ],
   "source": [
    "#bool() on empty strings are always False, True for else|\n",
    "bool(\"\")"
   ]
  },
  {
   "cell_type": "code",
   "execution_count": 115,
   "metadata": {},
   "outputs": [
    {
     "data": {
      "text/plain": [
       "True"
      ]
     },
     "execution_count": 115,
     "metadata": {},
     "output_type": "execute_result"
    }
   ],
   "source": [
    "bool(\"abc\")"
   ]
  },
  {
   "cell_type": "markdown",
   "metadata": {},
   "source": [
    "# Built-In Data Structures"
   ]
  },
  {
   "cell_type": "code",
   "execution_count": 118,
   "metadata": {},
   "outputs": [
    {
     "data": {
      "text/plain": [
       "True"
      ]
     },
     "execution_count": 118,
     "metadata": {},
     "output_type": "execute_result"
    }
   ],
   "source": [
    "#for sequences, empty = False, else is true\n",
    "bool([1, 2, 3])"
   ]
  },
  {
   "cell_type": "code",
   "execution_count": 119,
   "metadata": {},
   "outputs": [
    {
     "data": {
      "text/plain": [
       "False"
      ]
     },
     "execution_count": 119,
     "metadata": {},
     "output_type": "execute_result"
    }
   ],
   "source": [
    "bool([])"
   ]
  },
  {
   "cell_type": "code",
   "execution_count": 32,
   "metadata": {},
   "outputs": [
    {
     "name": "stdout",
     "output_type": "stream",
     "text": [
      "[1, 'two', 3.14, [0, 3, 5]]\n"
     ]
    }
   ],
   "source": [
    "L = [1, 'two', 3.14, [0, 3, 5]]\n",
    "print(L)"
   ]
  },
  {
   "cell_type": "code",
   "execution_count": 2,
   "metadata": {},
   "outputs": [
    {
     "name": "stdout",
     "output_type": "stream",
     "text": [
      "[100, 'two', 3.14, [0, 3, 5]]\n"
     ]
    }
   ],
   "source": [
    "L[0] = 100\n",
    "print (L)"
   ]
  },
  {
   "cell_type": "code",
   "execution_count": 3,
   "metadata": {},
   "outputs": [
    {
     "data": {
      "text/plain": [
       "[100, 'two', 3.14, [0, 3, 5]]"
      ]
     },
     "execution_count": 3,
     "metadata": {},
     "output_type": "execute_result"
    }
   ],
   "source": [
    "L"
   ]
  },
  {
   "cell_type": "code",
   "execution_count": 4,
   "metadata": {},
   "outputs": [],
   "source": [
    "L[1:3] = [55, 56]"
   ]
  },
  {
   "cell_type": "code",
   "execution_count": 5,
   "metadata": {},
   "outputs": [
    {
     "data": {
      "text/plain": [
       "[100, 55, 56, [0, 3, 5]]"
      ]
     },
     "execution_count": 5,
     "metadata": {},
     "output_type": "execute_result"
    }
   ],
   "source": [
    "L"
   ]
  },
  {
   "cell_type": "code",
   "execution_count": 6,
   "metadata": {},
   "outputs": [],
   "source": [
    "t = (1, 2, 3)"
   ]
  },
  {
   "cell_type": "code",
   "execution_count": 7,
   "metadata": {},
   "outputs": [
    {
     "data": {
      "text/plain": [
       "(1, 2, 3)"
      ]
     },
     "execution_count": 7,
     "metadata": {},
     "output_type": "execute_result"
    }
   ],
   "source": [
    "t"
   ]
  },
  {
   "cell_type": "code",
   "execution_count": 8,
   "metadata": {},
   "outputs": [],
   "source": [
    "t = 1, 2, 3"
   ]
  },
  {
   "cell_type": "code",
   "execution_count": 9,
   "metadata": {},
   "outputs": [
    {
     "data": {
      "text/plain": [
       "(1, 2, 3)"
      ]
     },
     "execution_count": 9,
     "metadata": {},
     "output_type": "execute_result"
    }
   ],
   "source": [
    "t"
   ]
  },
  {
   "cell_type": "code",
   "execution_count": 10,
   "metadata": {},
   "outputs": [
    {
     "data": {
      "text/plain": [
       "3"
      ]
     },
     "execution_count": 10,
     "metadata": {},
     "output_type": "execute_result"
    }
   ],
   "source": [
    "len(t)"
   ]
  },
  {
   "cell_type": "code",
   "execution_count": 11,
   "metadata": {},
   "outputs": [
    {
     "data": {
      "text/plain": [
       "1"
      ]
     },
     "execution_count": 11,
     "metadata": {},
     "output_type": "execute_result"
    }
   ],
   "source": [
    "t[0]"
   ]
  },
  {
   "cell_type": "code",
   "execution_count": 12,
   "metadata": {},
   "outputs": [
    {
     "data": {
      "text/plain": [
       "3"
      ]
     },
     "execution_count": 12,
     "metadata": {},
     "output_type": "execute_result"
    }
   ],
   "source": [
    "t[2]"
   ]
  },
  {
   "cell_type": "code",
   "execution_count": 13,
   "metadata": {},
   "outputs": [],
   "source": [
    "numbers = {'one':1, 'two':2, 'three':3}"
   ]
  },
  {
   "cell_type": "code",
   "execution_count": 14,
   "metadata": {},
   "outputs": [
    {
     "data": {
      "text/plain": [
       "2"
      ]
     },
     "execution_count": 14,
     "metadata": {},
     "output_type": "execute_result"
    }
   ],
   "source": [
    "numbers['two']"
   ]
  },
  {
   "cell_type": "code",
   "execution_count": 15,
   "metadata": {},
   "outputs": [],
   "source": [
    "numbers['ninety'] = 90"
   ]
  },
  {
   "cell_type": "code",
   "execution_count": 16,
   "metadata": {},
   "outputs": [
    {
     "name": "stdout",
     "output_type": "stream",
     "text": [
      "{'one': 1, 'two': 2, 'three': 3, 'ninety': 90}\n"
     ]
    }
   ],
   "source": [
    "print(numbers)"
   ]
  },
  {
   "cell_type": "code",
   "execution_count": 17,
   "metadata": {},
   "outputs": [
    {
     "data": {
      "text/plain": [
       "90"
      ]
     },
     "execution_count": 17,
     "metadata": {},
     "output_type": "execute_result"
    }
   ],
   "source": [
    "numbers['ninety']"
   ]
  },
  {
   "cell_type": "code",
   "execution_count": 18,
   "metadata": {},
   "outputs": [],
   "source": [
    "primes = {2, 3, 5, 7}\n",
    "odds = {1, 3, 5, 7, 9}"
   ]
  },
  {
   "cell_type": "code",
   "execution_count": 19,
   "metadata": {},
   "outputs": [
    {
     "data": {
      "text/plain": [
       "{1, 2, 3, 5, 7, 9}"
      ]
     },
     "execution_count": 19,
     "metadata": {},
     "output_type": "execute_result"
    }
   ],
   "source": [
    "primes.union(odds)"
   ]
  },
  {
   "cell_type": "code",
   "execution_count": 20,
   "metadata": {},
   "outputs": [
    {
     "data": {
      "text/plain": [
       "{1, 2, 3, 5, 7, 9}"
      ]
     },
     "execution_count": 20,
     "metadata": {},
     "output_type": "execute_result"
    }
   ],
   "source": [
    "primes | odds"
   ]
  },
  {
   "cell_type": "code",
   "execution_count": 21,
   "metadata": {},
   "outputs": [
    {
     "data": {
      "text/plain": [
       "{3, 5, 7}"
      ]
     },
     "execution_count": 21,
     "metadata": {},
     "output_type": "execute_result"
    }
   ],
   "source": [
    "primes & odds"
   ]
  },
  {
   "cell_type": "code",
   "execution_count": 22,
   "metadata": {},
   "outputs": [
    {
     "data": {
      "text/plain": [
       "{3, 5, 7}"
      ]
     },
     "execution_count": 22,
     "metadata": {},
     "output_type": "execute_result"
    }
   ],
   "source": [
    "primes.intersection(odds)"
   ]
  },
  {
   "cell_type": "code",
   "execution_count": 23,
   "metadata": {},
   "outputs": [
    {
     "data": {
      "text/plain": [
       "{2}"
      ]
     },
     "execution_count": 23,
     "metadata": {},
     "output_type": "execute_result"
    }
   ],
   "source": [
    "primes - odds"
   ]
  },
  {
   "cell_type": "code",
   "execution_count": 24,
   "metadata": {},
   "outputs": [
    {
     "data": {
      "text/plain": [
       "{2}"
      ]
     },
     "execution_count": 24,
     "metadata": {},
     "output_type": "execute_result"
    }
   ],
   "source": [
    "primes.difference(odds)"
   ]
  },
  {
   "cell_type": "code",
   "execution_count": 25,
   "metadata": {},
   "outputs": [
    {
     "data": {
      "text/plain": [
       "{1, 2, 9}"
      ]
     },
     "execution_count": 25,
     "metadata": {},
     "output_type": "execute_result"
    }
   ],
   "source": [
    "primes ^ odds"
   ]
  },
  {
   "cell_type": "code",
   "execution_count": 26,
   "metadata": {},
   "outputs": [
    {
     "data": {
      "text/plain": [
       "{1, 2, 9}"
      ]
     },
     "execution_count": 26,
     "metadata": {},
     "output_type": "execute_result"
    }
   ],
   "source": [
    "primes.symmetric_difference(odds)"
   ]
  },
  {
   "cell_type": "markdown",
   "metadata": {},
   "source": [
    "# Control Flow"
   ]
  },
  {
   "cell_type": "code",
   "execution_count": 27,
   "metadata": {},
   "outputs": [
    {
     "name": "stdout",
     "output_type": "stream",
     "text": [
      "-15 is negative\n"
     ]
    }
   ],
   "source": [
    "x = -15\n",
    "\n",
    "if x == 0:\n",
    "    print(x, \"is zero\")\n",
    "elif x > 0:\n",
    "    print(x, \"is positive\")\n",
    "elif x < 0:\n",
    "    print(x, \"is negative\")\n",
    "else:\n",
    "    print(x, \"is unlike anything I've ever seen\")\n",
    "    "
   ]
  },
  {
   "cell_type": "code",
   "execution_count": 28,
   "metadata": {},
   "outputs": [
    {
     "name": "stdout",
     "output_type": "stream",
     "text": [
      "2 3 5 7 "
     ]
    }
   ],
   "source": [
    "for N in [2, 3, 5, 7]:\n",
    "    print(N, end=' ')"
   ]
  },
  {
   "cell_type": "code",
   "execution_count": 29,
   "metadata": {},
   "outputs": [
    {
     "name": "stdout",
     "output_type": "stream",
     "text": [
      "0 1 2 3 4 5 6 7 8 9 "
     ]
    }
   ],
   "source": [
    "for i in range(10):\n",
    "    print(i, end=' ')"
   ]
  },
  {
   "cell_type": "code",
   "execution_count": 30,
   "metadata": {},
   "outputs": [
    {
     "data": {
      "text/plain": [
       "[5, 6, 7, 8, 9]"
      ]
     },
     "execution_count": 30,
     "metadata": {},
     "output_type": "execute_result"
    }
   ],
   "source": [
    "list(range(5, 10))"
   ]
  },
  {
   "cell_type": "code",
   "execution_count": 31,
   "metadata": {},
   "outputs": [
    {
     "data": {
      "text/plain": [
       "[0, 2, 4, 6, 8]"
      ]
     },
     "execution_count": 31,
     "metadata": {},
     "output_type": "execute_result"
    }
   ],
   "source": [
    "list(range(0, 10, 2))"
   ]
  },
  {
   "cell_type": "code",
   "execution_count": 3,
   "metadata": {},
   "outputs": [
    {
     "name": "stdout",
     "output_type": "stream",
     "text": [
      "0 1 2 3 4 5 6 7 8 9 10 11 12 13 14 15 16 17 18 19 20 21 22 23 24 25 26 27 28 29 30 31 32 33 34 35 36 37 38 39 40 41 42 43 44 45 46 47 48 49 50 51 52 53 54 55 56 57 58 59 60 61 62 63 64 65 66 67 68 69 70 71 72 73 74 75 76 77 78 79 80 81 82 83 84 85 86 87 88 89 90 91 92 93 94 95 96 97 98 99 100 101 102 103 104 105 106 107 108 109 110 111 112 113 114 115 116 117 118 119 120 121 122 123 124 125 126 127 128 129 130 131 132 133 134 135 136 137 138 139 140 141 142 143 144 145 146 147 148 149 150 151 152 153 154 155 156 157 158 159 160 161 162 163 164 165 166 167 168 169 170 171 172 173 174 175 176 177 178 179 180 181 182 183 184 185 186 187 188 189 190 191 192 193 194 195 196 197 198 199 "
     ]
    }
   ],
   "source": [
    "i = 0\n",
    "while i < 200:\n",
    "    print(i, end=' ')\n",
    "    i += 1"
   ]
  },
  {
   "cell_type": "code",
   "execution_count": 4,
   "metadata": {},
   "outputs": [
    {
     "name": "stdout",
     "output_type": "stream",
     "text": [
      "1 3 5 7 9 11 13 15 17 19 "
     ]
    }
   ],
   "source": [
    "for n in range(20):\n",
    "    # if the remainder of n / 2 is 0, skip the rest of the loop\n",
    "    if n % 2 == 0:\n",
    "        continue\n",
    "    print(n, end=' ')"
   ]
  },
  {
   "cell_type": "code",
   "execution_count": 7,
   "metadata": {},
   "outputs": [
    {
     "name": "stdout",
     "output_type": "stream",
     "text": [
      "[1, 1, 2, 3, 5, 8, 13, 21, 34, 55, 89]\n"
     ]
    }
   ],
   "source": [
    "#list all fibonacci numbers up to certain value\n",
    "\n",
    "a, b = 0, 1\n",
    "amax = 100\n",
    "L = []\n",
    "\n",
    "while True:\n",
    "    (a, b) = (b, a + b)\n",
    "    if a > amax:\n",
    "        break\n",
    "    L.append(a)\n",
    "\n",
    "print(L)"
   ]
  },
  {
   "cell_type": "code",
   "execution_count": 8,
   "metadata": {},
   "outputs": [
    {
     "name": "stdout",
     "output_type": "stream",
     "text": [
      "[2, 3, 5, 7, 11, 13, 17, 19, 23, 29]\n"
     ]
    }
   ],
   "source": [
    "#finding prime numbers within range\n",
    "\n",
    "L = []\n",
    "nmax = 30\n",
    "\n",
    "for n in range(2, nmax):\n",
    "    for factor in L:\n",
    "        if n % factor == 0:\n",
    "            break\n",
    "    else: # no break\n",
    "        L.append(n)\n",
    "print(L)"
   ]
  },
  {
   "cell_type": "markdown",
   "metadata": {},
   "source": [
    "# Defining and Using Functions"
   ]
  },
  {
   "cell_type": "code",
   "execution_count": 9,
   "metadata": {},
   "outputs": [
    {
     "name": "stdout",
     "output_type": "stream",
     "text": [
      "abc\n"
     ]
    }
   ],
   "source": [
    "print('abc')"
   ]
  },
  {
   "cell_type": "code",
   "execution_count": 10,
   "metadata": {},
   "outputs": [
    {
     "name": "stdout",
     "output_type": "stream",
     "text": [
      "1 2 3\n"
     ]
    }
   ],
   "source": [
    "print(1, 2, 3)"
   ]
  },
  {
   "cell_type": "code",
   "execution_count": 12,
   "metadata": {},
   "outputs": [
    {
     "name": "stdout",
     "output_type": "stream",
     "text": [
      "1-2-3\n"
     ]
    }
   ],
   "source": [
    "print(1, 2, 3, sep='-')"
   ]
  },
  {
   "cell_type": "code",
   "execution_count": 16,
   "metadata": {},
   "outputs": [],
   "source": [
    "def fibonacci(N, a=0, b=1):\n",
    "    L = []\n",
    "    while len(L) < N:\n",
    "        a, b = b, a + b\n",
    "        L.append(a)\n",
    "    return L"
   ]
  },
  {
   "cell_type": "code",
   "execution_count": 17,
   "metadata": {},
   "outputs": [
    {
     "data": {
      "text/plain": [
       "[1, 1, 2, 3, 5, 8, 13, 21, 34, 55]"
      ]
     },
     "execution_count": 17,
     "metadata": {},
     "output_type": "execute_result"
    }
   ],
   "source": [
    "fibonacci(10)"
   ]
  },
  {
   "cell_type": "code",
   "execution_count": 18,
   "metadata": {},
   "outputs": [
    {
     "data": {
      "text/plain": [
       "[2, 2, 4, 6, 10, 16, 26, 42, 68, 110]"
      ]
     },
     "execution_count": 18,
     "metadata": {},
     "output_type": "execute_result"
    }
   ],
   "source": [
    "fibonacci(10, 0, 2)"
   ]
  },
  {
   "cell_type": "code",
   "execution_count": 19,
   "metadata": {},
   "outputs": [
    {
     "data": {
      "text/plain": [
       "[3, 4, 7, 11, 18, 29, 47, 76, 123, 199]"
      ]
     },
     "execution_count": 19,
     "metadata": {},
     "output_type": "execute_result"
    }
   ],
   "source": [
    "fibonacci(10, b=3, a=1)"
   ]
  },
  {
   "cell_type": "code",
   "execution_count": 20,
   "metadata": {},
   "outputs": [],
   "source": [
    "def catch_all(*args, **kwargs):\n",
    "    print(\"args =\", args)\n",
    "    print(\"kwargs =\", kwargs)"
   ]
  },
  {
   "cell_type": "code",
   "execution_count": 21,
   "metadata": {},
   "outputs": [
    {
     "name": "stdout",
     "output_type": "stream",
     "text": [
      "args = (1, 2, 3)\n",
      "kwargs = {'a': 4, 'b': 5}\n"
     ]
    }
   ],
   "source": [
    "catch_all(1, 2, 3, a=4, b=5)"
   ]
  },
  {
   "cell_type": "code",
   "execution_count": 22,
   "metadata": {},
   "outputs": [
    {
     "name": "stdout",
     "output_type": "stream",
     "text": [
      "args = ('a',)\n",
      "kwargs = {'keyword': 2}\n"
     ]
    }
   ],
   "source": [
    "catch_all('a', keyword=2)"
   ]
  },
  {
   "cell_type": "code",
   "execution_count": 23,
   "metadata": {},
   "outputs": [
    {
     "name": "stdout",
     "output_type": "stream",
     "text": [
      "args = (1, 2, 3)\n",
      "kwargs = {'pi': 3.14}\n"
     ]
    }
   ],
   "source": [
    "inputs = (1, 2, 3)\n",
    "keywords = {'pi': 3.14}\n",
    "\n",
    "catch_all(*inputs, **keywords)"
   ]
  },
  {
   "cell_type": "code",
   "execution_count": 24,
   "metadata": {},
   "outputs": [
    {
     "data": {
      "text/plain": [
       "3"
      ]
     },
     "execution_count": 24,
     "metadata": {},
     "output_type": "execute_result"
    }
   ],
   "source": [
    "add = lambda x, y: x + y\n",
    "add(1, 2)"
   ]
  },
  {
   "cell_type": "code",
   "execution_count": 26,
   "metadata": {},
   "outputs": [
    {
     "data": {
      "text/plain": [
       "3"
      ]
     },
     "execution_count": 26,
     "metadata": {},
     "output_type": "execute_result"
    }
   ],
   "source": [
    "def add(x, y):\n",
    "    return x + y\n",
    "add(1, 2)"
   ]
  },
  {
   "cell_type": "code",
   "execution_count": 28,
   "metadata": {},
   "outputs": [
    {
     "data": {
      "text/plain": [
       "[1, 2, 3, 4, 5, 6]"
      ]
     },
     "execution_count": 28,
     "metadata": {},
     "output_type": "execute_result"
    }
   ],
   "source": [
    "sorted([2,4,3,5,1,6])"
   ]
  },
  {
   "cell_type": "code",
   "execution_count": 27,
   "metadata": {},
   "outputs": [],
   "source": [
    "data = [{'first':'Guido', 'last':'Van Rossum', 'YOB':1956},\n",
    "        {'first':'Grace', 'last':'Hopper',     'YOB':1906},\n",
    "        {'first':'Alan',  'last':'Turing',     'YOB':1912}]"
   ]
  },
  {
   "cell_type": "code",
   "execution_count": 29,
   "metadata": {},
   "outputs": [
    {
     "data": {
      "text/plain": [
       "[{'first': 'Alan', 'last': 'Turing', 'YOB': 1912},\n",
       " {'first': 'Grace', 'last': 'Hopper', 'YOB': 1906},\n",
       " {'first': 'Guido', 'last': 'Van Rossum', 'YOB': 1956}]"
      ]
     },
     "execution_count": 29,
     "metadata": {},
     "output_type": "execute_result"
    }
   ],
   "source": [
    "# sort alphabetically by first name\n",
    "sorted(data, key=lambda item: item['first'])"
   ]
  },
  {
   "cell_type": "code",
   "execution_count": 31,
   "metadata": {},
   "outputs": [
    {
     "data": {
      "text/plain": [
       "[{'first': 'Grace', 'last': 'Hopper', 'YOB': 1906},\n",
       " {'first': 'Alan', 'last': 'Turing', 'YOB': 1912},\n",
       " {'first': 'Guido', 'last': 'Van Rossum', 'YOB': 1956}]"
      ]
     },
     "execution_count": 31,
     "metadata": {},
     "output_type": "execute_result"
    }
   ],
   "source": [
    "# sort by year of birth\n",
    "sorted(data, key=lambda item: item['YOB'])"
   ]
  },
  {
   "cell_type": "markdown",
   "metadata": {},
   "source": [
    "# Errors and Exceptions"
   ]
  },
  {
   "cell_type": "code",
   "execution_count": 120,
   "metadata": {},
   "outputs": [
    {
     "ename": "NameError",
     "evalue": "name 'Q' is not defined",
     "output_type": "error",
     "traceback": [
      "\u001b[1;31m---------------------------------------------------------------------------\u001b[0m",
      "\u001b[1;31mNameError\u001b[0m                                 Traceback (most recent call last)",
      "\u001b[1;32m<ipython-input-120-cbf1bd89097d>\u001b[0m in \u001b[0;36m<module>\u001b[1;34m\u001b[0m\n\u001b[1;32m----> 1\u001b[1;33m \u001b[0mprint\u001b[0m\u001b[1;33m(\u001b[0m\u001b[0mQ\u001b[0m\u001b[1;33m)\u001b[0m\u001b[1;33m\u001b[0m\u001b[1;33m\u001b[0m\u001b[0m\n\u001b[0m",
      "\u001b[1;31mNameError\u001b[0m: name 'Q' is not defined"
     ]
    }
   ],
   "source": [
    "print(Q)"
   ]
  },
  {
   "cell_type": "code",
   "execution_count": 121,
   "metadata": {},
   "outputs": [
    {
     "ename": "TypeError",
     "evalue": "unsupported operand type(s) for +: 'int' and 'str'",
     "output_type": "error",
     "traceback": [
      "\u001b[1;31m---------------------------------------------------------------------------\u001b[0m",
      "\u001b[1;31mTypeError\u001b[0m                                 Traceback (most recent call last)",
      "\u001b[1;32m<ipython-input-121-a51a3635a212>\u001b[0m in \u001b[0;36m<module>\u001b[1;34m\u001b[0m\n\u001b[1;32m----> 1\u001b[1;33m \u001b[1;36m1\u001b[0m \u001b[1;33m+\u001b[0m \u001b[1;34m'abc'\u001b[0m\u001b[1;33m\u001b[0m\u001b[1;33m\u001b[0m\u001b[0m\n\u001b[0m",
      "\u001b[1;31mTypeError\u001b[0m: unsupported operand type(s) for +: 'int' and 'str'"
     ]
    }
   ],
   "source": [
    "1 + 'abc'"
   ]
  },
  {
   "cell_type": "code",
   "execution_count": 122,
   "metadata": {},
   "outputs": [
    {
     "ename": "ZeroDivisionError",
     "evalue": "division by zero",
     "output_type": "error",
     "traceback": [
      "\u001b[1;31m---------------------------------------------------------------------------\u001b[0m",
      "\u001b[1;31mZeroDivisionError\u001b[0m                         Traceback (most recent call last)",
      "\u001b[1;32m<ipython-input-122-8b4ac6d3a3e1>\u001b[0m in \u001b[0;36m<module>\u001b[1;34m\u001b[0m\n\u001b[1;32m----> 1\u001b[1;33m \u001b[1;36m2\u001b[0m \u001b[1;33m/\u001b[0m \u001b[1;36m0\u001b[0m\u001b[1;33m\u001b[0m\u001b[1;33m\u001b[0m\u001b[0m\n\u001b[0m",
      "\u001b[1;31mZeroDivisionError\u001b[0m: division by zero"
     ]
    }
   ],
   "source": [
    "2 / 0"
   ]
  },
  {
   "cell_type": "code",
   "execution_count": 123,
   "metadata": {},
   "outputs": [
    {
     "ename": "IndexError",
     "evalue": "list index out of range",
     "output_type": "error",
     "traceback": [
      "\u001b[1;31m---------------------------------------------------------------------------\u001b[0m",
      "\u001b[1;31mIndexError\u001b[0m                                Traceback (most recent call last)",
      "\u001b[1;32m<ipython-input-123-354067ebdc84>\u001b[0m in \u001b[0;36m<module>\u001b[1;34m\u001b[0m\n\u001b[0;32m      1\u001b[0m \u001b[0mL\u001b[0m \u001b[1;33m=\u001b[0m \u001b[1;33m[\u001b[0m\u001b[1;36m1\u001b[0m\u001b[1;33m,\u001b[0m \u001b[1;36m2\u001b[0m\u001b[1;33m,\u001b[0m \u001b[1;36m3\u001b[0m\u001b[1;33m]\u001b[0m\u001b[1;33m\u001b[0m\u001b[1;33m\u001b[0m\u001b[0m\n\u001b[1;32m----> 2\u001b[1;33m \u001b[0mL\u001b[0m\u001b[1;33m[\u001b[0m\u001b[1;36m1000\u001b[0m\u001b[1;33m]\u001b[0m\u001b[1;33m\u001b[0m\u001b[1;33m\u001b[0m\u001b[0m\n\u001b[0m",
      "\u001b[1;31mIndexError\u001b[0m: list index out of range"
     ]
    }
   ],
   "source": [
    "L = [1, 2, 3]\n",
    "L[1000]"
   ]
  },
  {
   "cell_type": "code",
   "execution_count": 124,
   "metadata": {},
   "outputs": [
    {
     "name": "stdout",
     "output_type": "stream",
     "text": [
      "this gets executed first\n"
     ]
    }
   ],
   "source": [
    "try:\n",
    "    print(\"this gets executed first\")\n",
    "except:\n",
    "    print(\"this gets executed only if there is an error\")"
   ]
  },
  {
   "cell_type": "code",
   "execution_count": 125,
   "metadata": {},
   "outputs": [
    {
     "name": "stdout",
     "output_type": "stream",
     "text": [
      "let's try something:\n",
      "something bad happened!\n"
     ]
    }
   ],
   "source": [
    "try:\n",
    "    print(\"let's try something:\")\n",
    "    x = 1 / 0 # ZeroDivisionError\n",
    "except:\n",
    "    print(\"something bad happened!\")"
   ]
  },
  {
   "cell_type": "code",
   "execution_count": 129,
   "metadata": {},
   "outputs": [],
   "source": [
    "def safe_divide(a, b):\n",
    "    try:\n",
    "        return a / b\n",
    "    except:\n",
    "        return 1E100"
   ]
  },
  {
   "cell_type": "code",
   "execution_count": 130,
   "metadata": {},
   "outputs": [
    {
     "data": {
      "text/plain": [
       "0.5"
      ]
     },
     "execution_count": 130,
     "metadata": {},
     "output_type": "execute_result"
    }
   ],
   "source": [
    "safe_divide(1, 2)"
   ]
  },
  {
   "cell_type": "code",
   "execution_count": 131,
   "metadata": {},
   "outputs": [
    {
     "data": {
      "text/plain": [
       "1e+100"
      ]
     },
     "execution_count": 131,
     "metadata": {},
     "output_type": "execute_result"
    }
   ],
   "source": [
    "safe_divide(2, 0)"
   ]
  },
  {
   "cell_type": "code",
   "execution_count": 132,
   "metadata": {},
   "outputs": [
    {
     "data": {
      "text/plain": [
       "1e+100"
      ]
     },
     "execution_count": 132,
     "metadata": {},
     "output_type": "execute_result"
    }
   ],
   "source": [
    "safe_divide (1, '2')"
   ]
  },
  {
   "cell_type": "code",
   "execution_count": 133,
   "metadata": {},
   "outputs": [],
   "source": [
    "def safe_divide(a, b):\n",
    "    try:\n",
    "        return a / b\n",
    "    except ZeroDivisionError:\n",
    "        return 1E100"
   ]
  },
  {
   "cell_type": "code",
   "execution_count": 134,
   "metadata": {},
   "outputs": [
    {
     "data": {
      "text/plain": [
       "1e+100"
      ]
     },
     "execution_count": 134,
     "metadata": {},
     "output_type": "execute_result"
    }
   ],
   "source": [
    "safe_divide(1, 0)"
   ]
  },
  {
   "cell_type": "code",
   "execution_count": 135,
   "metadata": {},
   "outputs": [
    {
     "ename": "TypeError",
     "evalue": "unsupported operand type(s) for /: 'int' and 'str'",
     "output_type": "error",
     "traceback": [
      "\u001b[1;31m---------------------------------------------------------------------------\u001b[0m",
      "\u001b[1;31mTypeError\u001b[0m                                 Traceback (most recent call last)",
      "\u001b[1;32m<ipython-input-135-cbb3eb91a66d>\u001b[0m in \u001b[0;36m<module>\u001b[1;34m\u001b[0m\n\u001b[1;32m----> 1\u001b[1;33m \u001b[0msafe_divide\u001b[0m\u001b[1;33m(\u001b[0m\u001b[1;36m1\u001b[0m\u001b[1;33m,\u001b[0m \u001b[1;34m'2'\u001b[0m\u001b[1;33m)\u001b[0m\u001b[1;33m\u001b[0m\u001b[1;33m\u001b[0m\u001b[0m\n\u001b[0m",
      "\u001b[1;32m<ipython-input-133-57f0d324952e>\u001b[0m in \u001b[0;36msafe_divide\u001b[1;34m(a, b)\u001b[0m\n\u001b[0;32m      1\u001b[0m \u001b[1;32mdef\u001b[0m \u001b[0msafe_divide\u001b[0m\u001b[1;33m(\u001b[0m\u001b[0ma\u001b[0m\u001b[1;33m,\u001b[0m \u001b[0mb\u001b[0m\u001b[1;33m)\u001b[0m\u001b[1;33m:\u001b[0m\u001b[1;33m\u001b[0m\u001b[1;33m\u001b[0m\u001b[0m\n\u001b[0;32m      2\u001b[0m     \u001b[1;32mtry\u001b[0m\u001b[1;33m:\u001b[0m\u001b[1;33m\u001b[0m\u001b[1;33m\u001b[0m\u001b[0m\n\u001b[1;32m----> 3\u001b[1;33m         \u001b[1;32mreturn\u001b[0m \u001b[0ma\u001b[0m \u001b[1;33m/\u001b[0m \u001b[0mb\u001b[0m\u001b[1;33m\u001b[0m\u001b[1;33m\u001b[0m\u001b[0m\n\u001b[0m\u001b[0;32m      4\u001b[0m     \u001b[1;32mexcept\u001b[0m \u001b[0mZeroDivisionError\u001b[0m\u001b[1;33m:\u001b[0m\u001b[1;33m\u001b[0m\u001b[1;33m\u001b[0m\u001b[0m\n\u001b[0;32m      5\u001b[0m         \u001b[1;32mreturn\u001b[0m \u001b[1;36m1E100\u001b[0m\u001b[1;33m\u001b[0m\u001b[1;33m\u001b[0m\u001b[0m\n",
      "\u001b[1;31mTypeError\u001b[0m: unsupported operand type(s) for /: 'int' and 'str'"
     ]
    }
   ],
   "source": [
    "safe_divide(1, '2')"
   ]
  },
  {
   "cell_type": "code",
   "execution_count": 136,
   "metadata": {},
   "outputs": [
    {
     "ename": "RuntimeError",
     "evalue": "my error message",
     "output_type": "error",
     "traceback": [
      "\u001b[1;31m---------------------------------------------------------------------------\u001b[0m",
      "\u001b[1;31mRuntimeError\u001b[0m                              Traceback (most recent call last)",
      "\u001b[1;32m<ipython-input-136-b1834d213d3b>\u001b[0m in \u001b[0;36m<module>\u001b[1;34m\u001b[0m\n\u001b[1;32m----> 1\u001b[1;33m \u001b[1;32mraise\u001b[0m \u001b[0mRuntimeError\u001b[0m\u001b[1;33m(\u001b[0m\u001b[1;34m\"my error message\"\u001b[0m\u001b[1;33m)\u001b[0m\u001b[1;33m\u001b[0m\u001b[1;33m\u001b[0m\u001b[0m\n\u001b[0m",
      "\u001b[1;31mRuntimeError\u001b[0m: my error message"
     ]
    }
   ],
   "source": [
    "raise RuntimeError(\"my error message\")"
   ]
  },
  {
   "cell_type": "code",
   "execution_count": 137,
   "metadata": {},
   "outputs": [],
   "source": [
    "def fibonacci(N):\n",
    "    L = []\n",
    "    a, b = 0, 1\n",
    "    while len(L) < N:\n",
    "        a, b = b, a + b\n",
    "        L.append(a)\n",
    "    return L"
   ]
  },
  {
   "cell_type": "code",
   "execution_count": 138,
   "metadata": {},
   "outputs": [],
   "source": [
    "def fibonacci(N):\n",
    "    if N < 0:\n",
    "        raise ValueError(\"N must be non-negative\")\n",
    "    L = []\n",
    "    a, b = 0, 1\n",
    "    while len(L) < N:\n",
    "        a, b = b, a + b\n",
    "        L.append(a)\n",
    "    return L"
   ]
  },
  {
   "cell_type": "code",
   "execution_count": 139,
   "metadata": {},
   "outputs": [
    {
     "data": {
      "text/plain": [
       "[1, 1, 2, 3, 5, 8, 13, 21, 34, 55]"
      ]
     },
     "execution_count": 139,
     "metadata": {},
     "output_type": "execute_result"
    }
   ],
   "source": [
    "fibonacci(10)"
   ]
  },
  {
   "cell_type": "code",
   "execution_count": 140,
   "metadata": {},
   "outputs": [
    {
     "ename": "ValueError",
     "evalue": "N must be non-negative",
     "output_type": "error",
     "traceback": [
      "\u001b[1;31m---------------------------------------------------------------------------\u001b[0m",
      "\u001b[1;31mValueError\u001b[0m                                Traceback (most recent call last)",
      "\u001b[1;32m<ipython-input-140-f1ae0a8066f0>\u001b[0m in \u001b[0;36m<module>\u001b[1;34m\u001b[0m\n\u001b[1;32m----> 1\u001b[1;33m \u001b[0mfibonacci\u001b[0m\u001b[1;33m(\u001b[0m\u001b[1;33m-\u001b[0m\u001b[1;36m10\u001b[0m\u001b[1;33m)\u001b[0m\u001b[1;33m\u001b[0m\u001b[1;33m\u001b[0m\u001b[0m\n\u001b[0m",
      "\u001b[1;32m<ipython-input-138-721cefef37c2>\u001b[0m in \u001b[0;36mfibonacci\u001b[1;34m(N)\u001b[0m\n\u001b[0;32m      1\u001b[0m \u001b[1;32mdef\u001b[0m \u001b[0mfibonacci\u001b[0m\u001b[1;33m(\u001b[0m\u001b[0mN\u001b[0m\u001b[1;33m)\u001b[0m\u001b[1;33m:\u001b[0m\u001b[1;33m\u001b[0m\u001b[1;33m\u001b[0m\u001b[0m\n\u001b[0;32m      2\u001b[0m     \u001b[1;32mif\u001b[0m \u001b[0mN\u001b[0m \u001b[1;33m<\u001b[0m \u001b[1;36m0\u001b[0m\u001b[1;33m:\u001b[0m\u001b[1;33m\u001b[0m\u001b[1;33m\u001b[0m\u001b[0m\n\u001b[1;32m----> 3\u001b[1;33m         \u001b[1;32mraise\u001b[0m \u001b[0mValueError\u001b[0m\u001b[1;33m(\u001b[0m\u001b[1;34m\"N must be non-negative\"\u001b[0m\u001b[1;33m)\u001b[0m\u001b[1;33m\u001b[0m\u001b[1;33m\u001b[0m\u001b[0m\n\u001b[0m\u001b[0;32m      4\u001b[0m     \u001b[0mL\u001b[0m \u001b[1;33m=\u001b[0m \u001b[1;33m[\u001b[0m\u001b[1;33m]\u001b[0m\u001b[1;33m\u001b[0m\u001b[1;33m\u001b[0m\u001b[0m\n\u001b[0;32m      5\u001b[0m     \u001b[0ma\u001b[0m\u001b[1;33m,\u001b[0m \u001b[0mb\u001b[0m \u001b[1;33m=\u001b[0m \u001b[1;36m0\u001b[0m\u001b[1;33m,\u001b[0m \u001b[1;36m1\u001b[0m\u001b[1;33m\u001b[0m\u001b[1;33m\u001b[0m\u001b[0m\n",
      "\u001b[1;31mValueError\u001b[0m: N must be non-negative"
     ]
    }
   ],
   "source": [
    "fibonacci(-10)"
   ]
  },
  {
   "cell_type": "code",
   "execution_count": 141,
   "metadata": {},
   "outputs": [
    {
     "name": "stdout",
     "output_type": "stream",
     "text": [
      "trying this...\n",
      "Bad value: need to do something else\n"
     ]
    }
   ],
   "source": [
    "N = -10\n",
    "try:\n",
    "    print(\"trying this...\")\n",
    "    print(fibonacci(N))\n",
    "except ValueError:\n",
    "    print(\"Bad value: need to do something else\")"
   ]
  },
  {
   "cell_type": "code",
   "execution_count": 142,
   "metadata": {},
   "outputs": [
    {
     "name": "stdout",
     "output_type": "stream",
     "text": [
      "Error class is:   <class 'ZeroDivisionError'>\n",
      "Error message is: division by zero\n"
     ]
    }
   ],
   "source": [
    "try:\n",
    "    x = 1 / 0\n",
    "except ZeroDivisionError as err:\n",
    "    print(\"Error class is:  \", type(err))\n",
    "    print(\"Error message is:\", err)"
   ]
  },
  {
   "cell_type": "code",
   "execution_count": 143,
   "metadata": {},
   "outputs": [
    {
     "ename": "MySpecialError",
     "evalue": "here's the message",
     "output_type": "error",
     "traceback": [
      "\u001b[1;31m---------------------------------------------------------------------------\u001b[0m",
      "\u001b[1;31mMySpecialError\u001b[0m                            Traceback (most recent call last)",
      "\u001b[1;32m<ipython-input-143-1c1bb7b055e0>\u001b[0m in \u001b[0;36m<module>\u001b[1;34m\u001b[0m\n\u001b[0;32m      2\u001b[0m     \u001b[1;32mpass\u001b[0m\u001b[1;33m\u001b[0m\u001b[1;33m\u001b[0m\u001b[0m\n\u001b[0;32m      3\u001b[0m \u001b[1;33m\u001b[0m\u001b[0m\n\u001b[1;32m----> 4\u001b[1;33m \u001b[1;32mraise\u001b[0m \u001b[0mMySpecialError\u001b[0m\u001b[1;33m(\u001b[0m\u001b[1;34m\"here's the message\"\u001b[0m\u001b[1;33m)\u001b[0m\u001b[1;33m\u001b[0m\u001b[1;33m\u001b[0m\u001b[0m\n\u001b[0m",
      "\u001b[1;31mMySpecialError\u001b[0m: here's the message"
     ]
    }
   ],
   "source": [
    "class MySpecialError(ValueError):\n",
    "    pass\n",
    "\n",
    "raise MySpecialError(\"here's the message\")"
   ]
  },
  {
   "cell_type": "code",
   "execution_count": 144,
   "metadata": {},
   "outputs": [
    {
     "name": "stdout",
     "output_type": "stream",
     "text": [
      "do something\n",
      "do something else\n"
     ]
    }
   ],
   "source": [
    "try:\n",
    "    print(\"do something\")\n",
    "    raise MySpecialError(\"[informative error message here]\")\n",
    "except MySpecialError:\n",
    "    print(\"do something else\")"
   ]
  },
  {
   "cell_type": "code",
   "execution_count": 146,
   "metadata": {},
   "outputs": [
    {
     "name": "stdout",
     "output_type": "stream",
     "text": [
      "try something here\n",
      "this happens only if it succeeds\n",
      "this happens no matter what\n"
     ]
    }
   ],
   "source": [
    "try:\n",
    "    print(\"try something here\")\n",
    "except:\n",
    "    print(\"this happens only if it fails\")\n",
    "else:\n",
    "    print(\"this happens only if it succeeds\")\n",
    "finally:\n",
    "    print(\"this happens no matter what\")"
   ]
  },
  {
   "cell_type": "markdown",
   "metadata": {},
   "source": [
    "# Iterators"
   ]
  },
  {
   "cell_type": "code",
   "execution_count": 147,
   "metadata": {},
   "outputs": [
    {
     "name": "stdout",
     "output_type": "stream",
     "text": [
      "0 1 2 3 4 5 6 7 8 9 "
     ]
    }
   ],
   "source": [
    "for i in range(10):\n",
    "    print(i, end=' ')"
   ]
  },
  {
   "cell_type": "code",
   "execution_count": 151,
   "metadata": {},
   "outputs": [
    {
     "name": "stdout",
     "output_type": "stream",
     "text": [
      "3 5 7 9 11 "
     ]
    }
   ],
   "source": [
    "for value in [2, 4, 6, 8, 10]:\n",
    "    # do some operation\n",
    "    print(value + 1, end=' ')"
   ]
  },
  {
   "cell_type": "code",
   "execution_count": 152,
   "metadata": {},
   "outputs": [
    {
     "data": {
      "text/plain": [
       "<list_iterator at 0x22c2e091408>"
      ]
     },
     "execution_count": 152,
     "metadata": {},
     "output_type": "execute_result"
    }
   ],
   "source": [
    "iter([2, 4, 6, 8, 10])"
   ]
  },
  {
   "cell_type": "code",
   "execution_count": 154,
   "metadata": {},
   "outputs": [],
   "source": [
    "I = iter([2, 4, 6, 8, 10])"
   ]
  },
  {
   "cell_type": "code",
   "execution_count": 155,
   "metadata": {},
   "outputs": [
    {
     "name": "stdout",
     "output_type": "stream",
     "text": [
      "2\n"
     ]
    }
   ],
   "source": [
    "print(next(I))"
   ]
  },
  {
   "cell_type": "code",
   "execution_count": 156,
   "metadata": {},
   "outputs": [
    {
     "name": "stdout",
     "output_type": "stream",
     "text": [
      "4\n"
     ]
    }
   ],
   "source": [
    "print(next(I))"
   ]
  },
  {
   "cell_type": "code",
   "execution_count": 157,
   "metadata": {},
   "outputs": [
    {
     "name": "stdout",
     "output_type": "stream",
     "text": [
      "6\n"
     ]
    }
   ],
   "source": [
    "print(next(I))"
   ]
  },
  {
   "cell_type": "code",
   "execution_count": 158,
   "metadata": {},
   "outputs": [
    {
     "data": {
      "text/plain": [
       "range(0, 10)"
      ]
     },
     "execution_count": 158,
     "metadata": {},
     "output_type": "execute_result"
    }
   ],
   "source": [
    "range(10)"
   ]
  },
  {
   "cell_type": "code",
   "execution_count": 159,
   "metadata": {},
   "outputs": [
    {
     "data": {
      "text/plain": [
       "<range_iterator at 0x22c2e08fbd0>"
      ]
     },
     "execution_count": 159,
     "metadata": {},
     "output_type": "execute_result"
    }
   ],
   "source": [
    "iter(range(10))"
   ]
  },
  {
   "cell_type": "code",
   "execution_count": 160,
   "metadata": {},
   "outputs": [
    {
     "name": "stdout",
     "output_type": "stream",
     "text": [
      "0 1 2 3 4 5 6 7 8 9 "
     ]
    }
   ],
   "source": [
    "for i in range(10):\n",
    "    print(i, end=\" \")"
   ]
  },
  {
   "cell_type": "code",
   "execution_count": 161,
   "metadata": {},
   "outputs": [
    {
     "name": "stdout",
     "output_type": "stream",
     "text": [
      "0, 1, 2, 3, 4, 5, 6, 7, 8, 9, "
     ]
    }
   ],
   "source": [
    "N = 10 ** 12\n",
    "for i in range(N):\n",
    "    if i >= 10: break\n",
    "    print(i, end=', ')"
   ]
  },
  {
   "cell_type": "code",
   "execution_count": 162,
   "metadata": {},
   "outputs": [
    {
     "name": "stdout",
     "output_type": "stream",
     "text": [
      "0, 1, 2, 3, 4, 5, 6, 7, 8, 9, "
     ]
    }
   ],
   "source": [
    "from itertools import count\n",
    "\n",
    "for i in count():\n",
    "    if i >= 10:\n",
    "        break\n",
    "    print(i, end=', ')"
   ]
  },
  {
   "cell_type": "code",
   "execution_count": 163,
   "metadata": {},
   "outputs": [
    {
     "name": "stdout",
     "output_type": "stream",
     "text": [
      "0 2\n",
      "1 4\n",
      "2 6\n",
      "3 8\n",
      "4 10\n"
     ]
    }
   ],
   "source": [
    "# Often you need to iterate not only the values in an array, \n",
    "# but also keep track of the index. You might be tempted to do things this way:\n",
    "\n",
    "L = [2, 4, 6, 8, 10]\n",
    "for i in range(len(L)):\n",
    "    print(i, L[i])"
   ]
  },
  {
   "cell_type": "code",
   "execution_count": 164,
   "metadata": {},
   "outputs": [
    {
     "name": "stdout",
     "output_type": "stream",
     "text": [
      "0 2\n",
      "1 4\n",
      "2 6\n",
      "3 8\n",
      "4 10\n"
     ]
    }
   ],
   "source": [
    "# but this is a lot easier\n",
    "\n",
    "for i, val in enumerate(L):\n",
    "    print(i, val)"
   ]
  },
  {
   "cell_type": "code",
   "execution_count": 167,
   "metadata": {},
   "outputs": [
    {
     "name": "stdout",
     "output_type": "stream",
     "text": [
      "2 3\n",
      "4 6\n",
      "6 9\n",
      "8 12\n",
      "10 15\n"
     ]
    }
   ],
   "source": [
    "#Zips iterators together\n",
    "\n",
    "L = [2, 4, 6, 8, 10]\n",
    "R = [3, 6, 9, 12, 15]\n",
    "for lval, rval in zip(L, R):\n",
    "    print(lval, rval)"
   ]
  },
  {
   "cell_type": "code",
   "execution_count": 165,
   "metadata": {},
   "outputs": [
    {
     "name": "stdout",
     "output_type": "stream",
     "text": [
      "0 1 4 9 16 25 36 49 64 81 "
     ]
    }
   ],
   "source": [
    "# find the first 10 square numbers\n",
    "square = lambda x: x ** 2\n",
    "for val in map(square, range(10)):\n",
    "    print(val, end=' ')"
   ]
  },
  {
   "cell_type": "markdown",
   "metadata": {},
   "source": [
    "# find values up to 10 for which x % 2 is zero\n",
    "is_even = lambda x: x % 2 == 0\n",
    "for val in filter(is_even, range(10)):\n",
    "    print(val, end=' ')"
   ]
  },
  {
   "cell_type": "code",
   "execution_count": 169,
   "metadata": {},
   "outputs": [
    {
     "name": "stdout",
     "output_type": "stream",
     "text": [
      "0 1 2 3 4 5 6 7 8 9\n"
     ]
    }
   ],
   "source": [
    "#flexible arguments (*, **)\n",
    "\n",
    "print(*range(10))"
   ]
  },
  {
   "cell_type": "code",
   "execution_count": 170,
   "metadata": {},
   "outputs": [
    {
     "name": "stdout",
     "output_type": "stream",
     "text": [
      "0 1 4 9 16 25 36 49 64 81\n"
     ]
    }
   ],
   "source": [
    "#trickier way to do the map example from above\n",
    "\n",
    "print(*map(lambda x: x ** 2, range(10)))"
   ]
  },
  {
   "cell_type": "code",
   "execution_count": 171,
   "metadata": {},
   "outputs": [],
   "source": [
    "L1 = (1, 2, 3, 4)\n",
    "L2 = ('a', 'b', 'c', 'd')"
   ]
  },
  {
   "cell_type": "code",
   "execution_count": 174,
   "metadata": {},
   "outputs": [
    {
     "name": "stdout",
     "output_type": "stream",
     "text": [
      "(1, 'a') (2, 'b') (3, 'c') (4, 'd')\n"
     ]
    }
   ],
   "source": [
    "z = zip(L1, L2)\n",
    "print(*z)"
   ]
  },
  {
   "cell_type": "code",
   "execution_count": 175,
   "metadata": {},
   "outputs": [
    {
     "name": "stdout",
     "output_type": "stream",
     "text": [
      "(1, 2, 3, 4) ('a', 'b', 'c', 'd')\n"
     ]
    }
   ],
   "source": [
    "z = zip(L1, L2)\n",
    "new_L1, new_L2 = zip(*z)\n",
    "print(new_L1, new_L2)"
   ]
  },
  {
   "cell_type": "code",
   "execution_count": 176,
   "metadata": {},
   "outputs": [
    {
     "name": "stdout",
     "output_type": "stream",
     "text": [
      "(0, 1, 2) (0, 2, 1) (1, 0, 2) (1, 2, 0) (2, 0, 1) (2, 1, 0)\n"
     ]
    }
   ],
   "source": [
    "# permutations\n",
    "\n",
    "from itertools import permutations\n",
    "p = permutations(range(3))\n",
    "print(*p)"
   ]
  },
  {
   "cell_type": "code",
   "execution_count": 177,
   "metadata": {},
   "outputs": [
    {
     "name": "stdout",
     "output_type": "stream",
     "text": [
      "(0, 1) (0, 2) (0, 3) (1, 2) (1, 3) (2, 3)\n"
     ]
    }
   ],
   "source": [
    "# combinations\n",
    "\n",
    "from itertools import combinations\n",
    "c = combinations(range(4), 2)\n",
    "print(*c)"
   ]
  },
  {
   "cell_type": "code",
   "execution_count": 178,
   "metadata": {},
   "outputs": [
    {
     "name": "stdout",
     "output_type": "stream",
     "text": [
      "('a', 0) ('a', 1) ('a', 2) ('b', 0) ('b', 1) ('b', 2)\n"
     ]
    }
   ],
   "source": [
    "# product\n",
    "\n",
    "from itertools import product\n",
    "p = product('ab', range(3))\n",
    "print(*p)"
   ]
  },
  {
   "cell_type": "markdown",
   "metadata": {},
   "source": [
    "# List Comprehensions"
   ]
  },
  {
   "cell_type": "code",
   "execution_count": 180,
   "metadata": {},
   "outputs": [
    {
     "data": {
      "text/plain": [
       "[1, 2, 4, 5, 7, 8, 10, 11, 13, 14, 16, 17, 19]"
      ]
     },
     "execution_count": 180,
     "metadata": {},
     "output_type": "execute_result"
    }
   ],
   "source": [
    "# numbers between 1 and 20 that cannot be divided by 3\n",
    "\n",
    "[i for i in range(20) if i % 3 > 0]"
   ]
  },
  {
   "cell_type": "code",
   "execution_count": 181,
   "metadata": {},
   "outputs": [
    {
     "data": {
      "text/plain": [
       "[0, 1, 4, 9, 16, 25, 36, 49, 64, 81, 100, 121]"
      ]
     },
     "execution_count": 181,
     "metadata": {},
     "output_type": "execute_result"
    }
   ],
   "source": [
    "# instead of all this crap\n",
    "\n",
    "L = []\n",
    "for n in range(12):\n",
    "    L.append(n ** 2)\n",
    "L"
   ]
  },
  {
   "cell_type": "code",
   "execution_count": 182,
   "metadata": {},
   "outputs": [
    {
     "data": {
      "text/plain": [
       "[0, 1, 4, 9, 16, 25, 36, 49, 64, 81, 100, 121]"
      ]
     },
     "execution_count": 182,
     "metadata": {},
     "output_type": "execute_result"
    }
   ],
   "source": [
    "# just use this\n",
    "\n",
    "[n ** 2 for n in range(12)]"
   ]
  },
  {
   "cell_type": "code",
   "execution_count": 183,
   "metadata": {},
   "outputs": [
    {
     "data": {
      "text/plain": [
       "[(0, 0), (0, 1), (0, 2), (1, 0), (1, 1), (1, 2)]"
      ]
     },
     "execution_count": 183,
     "metadata": {},
     "output_type": "execute_result"
    }
   ],
   "source": [
    "# multiple iteration\n",
    "\n",
    "[(i, j) for i in range(2) for j in range(3)]"
   ]
  },
  {
   "cell_type": "code",
   "execution_count": 184,
   "metadata": {},
   "outputs": [
    {
     "data": {
      "text/plain": [
       "[1, 2, 4, 5, 7, 8, 10, 11, 13, 14, 16, 17, 19]"
      ]
     },
     "execution_count": 184,
     "metadata": {},
     "output_type": "execute_result"
    }
   ],
   "source": [
    "# you can add a conditional to the end of the expression\n",
    "\n",
    "[val for val in range(20) if val % 3 > 0]"
   ]
  },
  {
   "cell_type": "markdown",
   "metadata": {},
   "source": [
    "The expression (i % 3 > 0) evaluates to True unless val is divisible by 3. Again, the English language meaning can be immediately read off: \"Construct a list of values for each value up to 20, but only if the value is not divisible by 3\". Once you are comfortable with it, this is much easier to write – and to understand at a glance – than the equivalent loop syntax:"
   ]
  },
  {
   "cell_type": "code",
   "execution_count": 185,
   "metadata": {},
   "outputs": [
    {
     "data": {
      "text/plain": [
       "[1, 2, 4, 5, 7, 8, 10, 11, 13, 14, 16, 17, 19]"
      ]
     },
     "execution_count": 185,
     "metadata": {},
     "output_type": "execute_result"
    }
   ],
   "source": [
    "L = []\n",
    "for val in range(20):\n",
    "    if val % 3:\n",
    "        L.append(val)\n",
    "L"
   ]
  },
  {
   "cell_type": "code",
   "execution_count": 186,
   "metadata": {},
   "outputs": [
    {
     "data": {
      "text/plain": [
       "10"
      ]
     },
     "execution_count": 186,
     "metadata": {},
     "output_type": "execute_result"
    }
   ],
   "source": [
    "# conditionals on a value\n",
    "\n",
    "val = -10\n",
    "val if val >= 0 else -val"
   ]
  },
  {
   "cell_type": "code",
   "execution_count": 188,
   "metadata": {},
   "outputs": [
    {
     "data": {
      "text/plain": [
       "[1, -2, -4, 5, 7, -8, -10, 11, 13, -14, -16, 17, 19]"
      ]
     },
     "execution_count": 188,
     "metadata": {},
     "output_type": "execute_result"
    }
   ],
   "source": [
    "# in range of 20, negate values that are divisible by 2\n",
    "\n",
    "[val if val % 2 else -val\n",
    " for val in range(20) if val % 3]"
   ]
  },
  {
   "cell_type": "code",
   "execution_count": 189,
   "metadata": {},
   "outputs": [
    {
     "data": {
      "text/plain": [
       "{0, 1, 4, 9, 16, 25, 36, 49, 64, 81, 100, 121}"
      ]
     },
     "execution_count": 189,
     "metadata": {},
     "output_type": "execute_result"
    }
   ],
   "source": [
    "# set comprehension (can have no duplicates)\n",
    "\n",
    "{n**2 for n in range(12)}"
   ]
  },
  {
   "cell_type": "code",
   "execution_count": 190,
   "metadata": {},
   "outputs": [
    {
     "data": {
      "text/plain": [
       "{0, 1, 2}"
      ]
     },
     "execution_count": 190,
     "metadata": {},
     "output_type": "execute_result"
    }
   ],
   "source": [
    "{a % 3 for a in range(1000)}"
   ]
  },
  {
   "cell_type": "code",
   "execution_count": 192,
   "metadata": {},
   "outputs": [
    {
     "data": {
      "text/plain": [
       "{0: 0, 1: 1, 2: 4, 3: 9, 4: 16, 5: 25}"
      ]
     },
     "execution_count": 192,
     "metadata": {},
     "output_type": "execute_result"
    }
   ],
   "source": [
    "# : creates a direct comprehension\n",
    "\n",
    "{n:n**2 for n in range(6)}"
   ]
  },
  {
   "cell_type": "code",
   "execution_count": 193,
   "metadata": {},
   "outputs": [
    {
     "data": {
      "text/plain": [
       "<generator object <genexpr> at 0x0000022C2E110AC8>"
      ]
     },
     "execution_count": 193,
     "metadata": {},
     "output_type": "execute_result"
    }
   ],
   "source": [
    "# parenthesis instead of square brackets = generator comprehension\n",
    "\n",
    "(n**2 for n in range(12))"
   ]
  },
  {
   "cell_type": "markdown",
   "metadata": {},
   "source": [
    "# Regular Expressions"
   ]
  },
  {
   "cell_type": "code",
   "execution_count": 26,
   "metadata": {},
   "outputs": [],
   "source": [
    "s = \"sdf\\nsdf\""
   ]
  },
  {
   "cell_type": "code",
   "execution_count": 27,
   "metadata": {},
   "outputs": [
    {
     "name": "stdout",
     "output_type": "stream",
     "text": [
      "sdf\n",
      "sdf\n"
     ]
    }
   ],
   "source": [
    "print(s)"
   ]
  },
  {
   "cell_type": "code",
   "execution_count": 29,
   "metadata": {},
   "outputs": [],
   "source": [
    "s = \"s\\tdf\\nsdf\""
   ]
  },
  {
   "cell_type": "code",
   "execution_count": 30,
   "metadata": {},
   "outputs": [
    {
     "name": "stdout",
     "output_type": "stream",
     "text": [
      "s\tdf\n",
      "sdf\n"
     ]
    }
   ],
   "source": [
    "print(s)"
   ]
  },
  {
   "cell_type": "code",
   "execution_count": 31,
   "metadata": {},
   "outputs": [],
   "source": [
    "s = r\"s\\tdf\\nsdf\""
   ]
  },
  {
   "cell_type": "code",
   "execution_count": 32,
   "metadata": {},
   "outputs": [
    {
     "name": "stdout",
     "output_type": "stream",
     "text": [
      "s\\tdf\\nsdf\n"
     ]
    }
   ],
   "source": [
    "print(s)"
   ]
  },
  {
   "cell_type": "code",
   "execution_count": 33,
   "metadata": {},
   "outputs": [],
   "source": [
    "path = \"myself\\newdir\""
   ]
  },
  {
   "cell_type": "code",
   "execution_count": 34,
   "metadata": {},
   "outputs": [
    {
     "name": "stdout",
     "output_type": "stream",
     "text": [
      "myself\n",
      "ewdir\n"
     ]
    }
   ],
   "source": [
    "print(path)"
   ]
  },
  {
   "cell_type": "code",
   "execution_count": 35,
   "metadata": {},
   "outputs": [],
   "source": [
    "path = r\"myself\\newdir\""
   ]
  },
  {
   "cell_type": "code",
   "execution_count": 36,
   "metadata": {},
   "outputs": [
    {
     "name": "stdout",
     "output_type": "stream",
     "text": [
      "myself\\newdir\n"
     ]
    }
   ],
   "source": [
    "print(path)"
   ]
  },
  {
   "cell_type": "code",
   "execution_count": 37,
   "metadata": {},
   "outputs": [],
   "source": [
    "import re"
   ]
  },
  {
   "cell_type": "code",
   "execution_count": 38,
   "metadata": {},
   "outputs": [],
   "source": [
    "s = \"Mr X's phone number is 123-444-3445 and Mrs. Y's is 432-566-4444\""
   ]
  },
  {
   "cell_type": "markdown",
   "metadata": {},
   "source": [
    "# \\d = any digits\n",
    "# \\w = any alphanumeric\n",
    "# \\s = any alpha character"
   ]
  },
  {
   "cell_type": "code",
   "execution_count": 39,
   "metadata": {},
   "outputs": [
    {
     "data": {
      "text/plain": [
       "['123-444-3445', '432-566-4444']"
      ]
     },
     "execution_count": 39,
     "metadata": {},
     "output_type": "execute_result"
    }
   ],
   "source": [
    "exp = re.compile(r'\\d\\d\\d-\\d\\d\\d-\\d\\d\\d\\d')\n",
    "exp.findall(s)"
   ]
  },
  {
   "cell_type": "code",
   "execution_count": 40,
   "metadata": {},
   "outputs": [
    {
     "data": {
      "text/plain": [
       "['123-444-3445', '432-566-4444']"
      ]
     },
     "execution_count": 40,
     "metadata": {},
     "output_type": "execute_result"
    }
   ],
   "source": [
    "exp = re.compile(r'\\d{3}-\\d{3}-\\d{4}')\n",
    "exp.findall(s)"
   ]
  },
  {
   "cell_type": "code",
   "execution_count": 41,
   "metadata": {},
   "outputs": [],
   "source": [
    "s = \"Mr X's email is mrx@client.org and Mrs. Y is mrsy@client.ca\""
   ]
  },
  {
   "cell_type": "code",
   "execution_count": 42,
   "metadata": {},
   "outputs": [
    {
     "data": {
      "text/plain": [
       "['mrx@client.org', 'mrsy@client.ca']"
      ]
     },
     "execution_count": 42,
     "metadata": {},
     "output_type": "execute_result"
    }
   ],
   "source": [
    "exp = re.compile(r'\\w+@\\w+.\\w+')\n",
    "exp.findall(s)"
   ]
  },
  {
   "cell_type": "code",
   "execution_count": 43,
   "metadata": {},
   "outputs": [
    {
     "data": {
      "text/plain": [
       "['mrx@client.org', 'mrsy@client.ca']"
      ]
     },
     "execution_count": 43,
     "metadata": {},
     "output_type": "execute_result"
    }
   ],
   "source": [
    "exp = re.compile(r'\\w+@\\w+.\\w{2,3}')\n",
    "exp.findall(s)"
   ]
  },
  {
   "cell_type": "code",
   "execution_count": 44,
   "metadata": {},
   "outputs": [
    {
     "data": {
      "text/plain": [
       "['the', 'quick', 'brown', 'fox', 'jumped', 'over', 'a', 'lazy', 'dog']"
      ]
     },
     "execution_count": 44,
     "metadata": {},
     "output_type": "execute_result"
    }
   ],
   "source": [
    "line = 'the quick brown fox jumped over a lazy dog'\n",
    "line.split()"
   ]
  },
  {
   "cell_type": "code",
   "execution_count": 45,
   "metadata": {},
   "outputs": [
    {
     "data": {
      "text/plain": [
       "['the', 'quick', 'brown', 'fox', 'jumped', 'over', 'a', 'lazy', 'dog']"
      ]
     },
     "execution_count": 45,
     "metadata": {},
     "output_type": "execute_result"
    }
   ],
   "source": [
    "import re\n",
    "regex = re.compile('\\s+')\n",
    "regex.split(line)"
   ]
  },
  {
   "cell_type": "code",
   "execution_count": 46,
   "metadata": {},
   "outputs": [
    {
     "data": {
      "text/plain": [
       "['e f', 'x i', 's 9', 's o']"
      ]
     },
     "execution_count": 46,
     "metadata": {},
     "output_type": "execute_result"
    }
   ],
   "source": [
    "regex = re.compile(r'\\w\\s\\w')\n",
    "regex.findall('the fox is 9 years old')"
   ]
  },
  {
   "cell_type": "code",
   "execution_count": 47,
   "metadata": {},
   "outputs": [
    {
     "data": {
      "text/plain": [
       "\"Mr X's email is *********** and Mrs. Y is ***********\""
      ]
     },
     "execution_count": 47,
     "metadata": {},
     "output_type": "execute_result"
    }
   ],
   "source": [
    "exp.sub(\"***********\",s)"
   ]
  },
  {
   "cell_type": "code",
   "execution_count": 48,
   "metadata": {},
   "outputs": [
    {
     "data": {
      "text/plain": [
       "[\"Mr X's email is \", ' and Mrs. Y is ', '']"
      ]
     },
     "execution_count": 48,
     "metadata": {},
     "output_type": "execute_result"
    }
   ],
   "source": [
    "exp.split(s)"
   ]
  },
  {
   "cell_type": "code",
   "execution_count": 49,
   "metadata": {},
   "outputs": [
    {
     "data": {
      "text/plain": [
       "<re.Match object; span=(16, 30), match='mrx@client.org'>"
      ]
     },
     "execution_count": 49,
     "metadata": {},
     "output_type": "execute_result"
    }
   ],
   "source": [
    "exp.search(s)"
   ]
  },
  {
   "cell_type": "code",
   "execution_count": 50,
   "metadata": {},
   "outputs": [],
   "source": [
    "exp.match(s)"
   ]
  },
  {
   "cell_type": "markdown",
   "metadata": {},
   "source": [
    "The following table lists a few of these characters that are commonly useful:\n",
    "\n",
    "| Character | Description                 |.| Character | Description                     |\n",
    "|-----------|-----------------------------|-|-----------|---------------------------------|\n",
    "| ``\"\\d\"``  | Match any digit             |-| ``\"\\D\"``  | Match any non-digit             |\n",
    "| ``\"\\s\"``  | Match any whitespace        |-| ``\"\\S\"``  | Match any non-whitespace        |\n",
    "| ``\"\\w\"``  | Match any alphanumeric char |-| ``\"\\W\"``  | Match any non-alphanumeric char |\n",
    "\n",
    "This is *not* a comprehensive list or description; for more details, see Python's [regular expression syntax documentation](https://docs.python.org/3/library/re.html#re-syntax)."
   ]
  },
  {
   "cell_type": "markdown",
   "metadata": {},
   "source": [
    "# Splitting around vowels"
   ]
  },
  {
   "cell_type": "code",
   "execution_count": 51,
   "metadata": {},
   "outputs": [
    {
     "data": {
      "text/plain": [
       "['c', 'ns', 'q', '', 'nt', '', 'l']"
      ]
     },
     "execution_count": 51,
     "metadata": {},
     "output_type": "execute_result"
    }
   ],
   "source": [
    "regex = re.compile('[aeiou]')\n",
    "regex.split('consequential')"
   ]
  },
  {
   "cell_type": "markdown",
   "metadata": {},
   "source": [
    "# Matching a number/letter combination"
   ]
  },
  {
   "cell_type": "code",
   "execution_count": 52,
   "metadata": {},
   "outputs": [
    {
     "data": {
      "text/plain": [
       "['G2', 'H6']"
      ]
     },
     "execution_count": 52,
     "metadata": {},
     "output_type": "execute_result"
    }
   ],
   "source": [
    "regex = re.compile('[A-Z][0-9]')\n",
    "regex.findall('1043879, G2, H6')"
   ]
  },
  {
   "cell_type": "markdown",
   "metadata": {},
   "source": [
    "The following is a table of the repetition markers available for use in regular expressions:\n",
    "\n",
    "| Character | Description | Example |\n",
    "|-----------|-------------|---------|\n",
    "| ``?`` | Match zero or one repetitions of preceding  | ``\"ab?\"`` matches ``\"a\"`` or ``\"ab\"`` |\n",
    "| ``*`` | Match zero or more repetitions of preceding | ``\"ab*\"`` matches ``\"a\"``, ``\"ab\"``, ``\"abb\"``, ``\"abbb\"``... |\n",
    "| ``+`` | Match one or more repetitions of preceding  | ``\"ab+\"`` matches ``\"ab\"``, ``\"abb\"``, ``\"abbb\"``... but not ``\"a\"`` |\n",
    "| ``{n}`` | Match ``n`` repetitions of preeeding | ``\"ab{2}\"`` matches ``\"abb\"`` |\n",
    "| ``{m,n}`` | Match between ``m`` and ``n`` repetitions of preceding | ``\"ab{2,3}\"`` matches ``\"abb\"`` or ``\"abbb\"`` |"
   ]
  },
  {
   "cell_type": "code",
   "execution_count": 53,
   "metadata": {},
   "outputs": [],
   "source": [
    "s = \"Mr X's phone number is +123-444-3445 and Mrs. Y's is 432-566-4444\""
   ]
  },
  {
   "cell_type": "code",
   "execution_count": 54,
   "metadata": {},
   "outputs": [
    {
     "data": {
      "text/plain": [
       "['+123-444-3445', '432-566-4444']"
      ]
     },
     "execution_count": 54,
     "metadata": {},
     "output_type": "execute_result"
    }
   ],
   "source": [
    "exp = re.compile(r'\\+?\\d{3}-\\d{3}-\\d{4}')\n",
    "exp.findall(s)"
   ]
  },
  {
   "cell_type": "code",
   "execution_count": 55,
   "metadata": {},
   "outputs": [],
   "source": [
    "s = \"Mr X's phone number is 123-444-3445 and Mrs. Y's is 432-566-4444\""
   ]
  },
  {
   "cell_type": "markdown",
   "metadata": {},
   "source": [
    "# Grouping"
   ]
  },
  {
   "cell_type": "code",
   "execution_count": 56,
   "metadata": {},
   "outputs": [
    {
     "data": {
      "text/plain": [
       "['123', '432']"
      ]
     },
     "execution_count": 56,
     "metadata": {},
     "output_type": "execute_result"
    }
   ],
   "source": [
    "exp = re.compile(r'(\\d{3})-\\d{3}-\\d{4}')\n",
    "exp.findall(s)"
   ]
  },
  {
   "cell_type": "code",
   "execution_count": 57,
   "metadata": {},
   "outputs": [
    {
     "data": {
      "text/plain": [
       "[('123', '444-3445'), ('432', '566-4444')]"
      ]
     },
     "execution_count": 57,
     "metadata": {},
     "output_type": "execute_result"
    }
   ],
   "source": [
    "exp = re.compile(r'(\\d{3})-(\\d{3}-\\d{4})')\n",
    "exp.findall(s)"
   ]
  },
  {
   "cell_type": "markdown",
   "metadata": {},
   "source": [
    "# Warm Up Solutions"
   ]
  },
  {
   "cell_type": "markdown",
   "metadata": {},
   "source": [
    "1- How many seconds are in an hour?"
   ]
  },
  {
   "cell_type": "code",
   "execution_count": 1,
   "metadata": {},
   "outputs": [
    {
     "data": {
      "text/plain": [
       "3600"
      ]
     },
     "execution_count": 1,
     "metadata": {},
     "output_type": "execute_result"
    }
   ],
   "source": [
    "60 * 60"
   ]
  },
  {
   "cell_type": "markdown",
   "metadata": {},
   "source": [
    "2- Assign the result from the previous task to a variable called seconds_per_hour"
   ]
  },
  {
   "cell_type": "code",
   "execution_count": 2,
   "metadata": {},
   "outputs": [],
   "source": [
    "seconds_per_hour = 60 * 60"
   ]
  },
  {
   "cell_type": "markdown",
   "metadata": {},
   "source": [
    "3- How many seconds are in a day? Use your seconds_per_hour variable"
   ]
  },
  {
   "cell_type": "code",
   "execution_count": 3,
   "metadata": {},
   "outputs": [
    {
     "data": {
      "text/plain": [
       "86400"
      ]
     },
     "execution_count": 3,
     "metadata": {},
     "output_type": "execute_result"
    }
   ],
   "source": [
    "seconds_per_hour * 24"
   ]
  },
  {
   "cell_type": "markdown",
   "metadata": {},
   "source": [
    "4- Calculate seconds per day again, but this time save the result in a variable called seconds_per_day"
   ]
  },
  {
   "cell_type": "code",
   "execution_count": 6,
   "metadata": {},
   "outputs": [
    {
     "data": {
      "text/plain": [
       "86400"
      ]
     },
     "execution_count": 6,
     "metadata": {},
     "output_type": "execute_result"
    }
   ],
   "source": [
    "seconds_per_day = seconds_per_hour * 24\n",
    "seconds_per_day"
   ]
  },
  {
   "cell_type": "markdown",
   "metadata": {},
   "source": [
    "5- Divide seconds_per_day by seconds_per_hour. Use floating-point (/) division."
   ]
  },
  {
   "cell_type": "code",
   "execution_count": 7,
   "metadata": {},
   "outputs": [
    {
     "data": {
      "text/plain": [
       "24.0"
      ]
     },
     "execution_count": 7,
     "metadata": {},
     "output_type": "execute_result"
    }
   ],
   "source": [
    "seconds_per_day / seconds_per_hour"
   ]
  },
  {
   "cell_type": "markdown",
   "metadata": {},
   "source": [
    "6- Divide seconds_per_day by seconds_per_hour using integer (//) division. Did this number agree with the floating-point value from the previous question, aside from the final .0?"
   ]
  },
  {
   "cell_type": "code",
   "execution_count": 8,
   "metadata": {},
   "outputs": [
    {
     "data": {
      "text/plain": [
       "24"
      ]
     },
     "execution_count": 8,
     "metadata": {},
     "output_type": "execute_result"
    }
   ],
   "source": [
    "seconds_per_day // seconds_per_hour"
   ]
  },
  {
   "cell_type": "markdown",
   "metadata": {},
   "source": [
    "Add the two numbers num1 and num2"
   ]
  },
  {
   "cell_type": "code",
   "execution_count": 9,
   "metadata": {},
   "outputs": [
    {
     "data": {
      "text/plain": [
       "12"
      ]
     },
     "execution_count": 9,
     "metadata": {},
     "output_type": "execute_result"
    }
   ],
   "source": [
    "num1 = 5\n",
    "num2 = 7\n",
    "num1 + num2"
   ]
  },
  {
   "cell_type": "markdown",
   "metadata": {},
   "source": [
    "Add the two lists hard_skills and soft_skills"
   ]
  },
  {
   "cell_type": "code",
   "execution_count": 11,
   "metadata": {},
   "outputs": [
    {
     "data": {
      "text/plain": [
       "['Java', 'Python', 'Presentation', 'Leadership']"
      ]
     },
     "execution_count": 11,
     "metadata": {},
     "output_type": "execute_result"
    }
   ],
   "source": [
    "hard_skills = [\"Java\", \"Python\"]\n",
    "soft_skills = [\"Presentation\", \"Leadership\"]\n",
    "hard_skills + soft_skills"
   ]
  },
  {
   "cell_type": "markdown",
   "metadata": {},
   "source": [
    "Can you add num1 to hard_skills?"
   ]
  },
  {
   "cell_type": "code",
   "execution_count": 12,
   "metadata": {},
   "outputs": [
    {
     "ename": "TypeError",
     "evalue": "unsupported operand type(s) for +: 'int' and 'list'",
     "output_type": "error",
     "traceback": [
      "\u001b[1;31m---------------------------------------------------------------------------\u001b[0m",
      "\u001b[1;31mTypeError\u001b[0m                                 Traceback (most recent call last)",
      "\u001b[1;32m<ipython-input-12-3499ab7e570a>\u001b[0m in \u001b[0;36m<module>\u001b[1;34m\u001b[0m\n\u001b[1;32m----> 1\u001b[1;33m \u001b[0mnum1\u001b[0m \u001b[1;33m+\u001b[0m \u001b[0mhard_skills\u001b[0m\u001b[1;33m\u001b[0m\u001b[1;33m\u001b[0m\u001b[0m\n\u001b[0m",
      "\u001b[1;31mTypeError\u001b[0m: unsupported operand type(s) for +: 'int' and 'list'"
     ]
    }
   ],
   "source": [
    "num1 + hard_skills"
   ]
  },
  {
   "cell_type": "markdown",
   "metadata": {},
   "source": [
    "How do we add a number to a list?"
   ]
  },
  {
   "cell_type": "code",
   "execution_count": 13,
   "metadata": {},
   "outputs": [
    {
     "data": {
      "text/plain": [
       "['Java', 'Python', 5]"
      ]
     },
     "execution_count": 13,
     "metadata": {},
     "output_type": "execute_result"
    }
   ],
   "source": [
    "hard_skills + [num1]"
   ]
  },
  {
   "cell_type": "code",
   "execution_count": 14,
   "metadata": {},
   "outputs": [
    {
     "data": {
      "text/plain": [
       "['Java', 'Python', 5]"
      ]
     },
     "execution_count": 14,
     "metadata": {},
     "output_type": "execute_result"
    }
   ],
   "source": [
    "hard_skills.append(num1)\n",
    "hard_skills"
   ]
  },
  {
   "cell_type": "markdown",
   "metadata": {},
   "source": [
    "Can you multiply num1 by hard_skills?"
   ]
  },
  {
   "cell_type": "code",
   "execution_count": 15,
   "metadata": {},
   "outputs": [
    {
     "data": {
      "text/plain": [
       "['Java',\n",
       " 'Python',\n",
       " 5,\n",
       " 'Java',\n",
       " 'Python',\n",
       " 5,\n",
       " 'Java',\n",
       " 'Python',\n",
       " 5,\n",
       " 'Java',\n",
       " 'Python',\n",
       " 5,\n",
       " 'Java',\n",
       " 'Python',\n",
       " 5]"
      ]
     },
     "execution_count": 15,
     "metadata": {},
     "output_type": "execute_result"
    }
   ],
   "source": [
    "num1 * hard_skills"
   ]
  },
  {
   "cell_type": "markdown",
   "metadata": {},
   "source": [
    "Add the two words word1 and word2"
   ]
  },
  {
   "cell_type": "code",
   "execution_count": 16,
   "metadata": {},
   "outputs": [
    {
     "data": {
      "text/plain": [
       "'JavaPython'"
      ]
     },
     "execution_count": 16,
     "metadata": {},
     "output_type": "execute_result"
    }
   ],
   "source": [
    "word1 = \"Java\"\n",
    "word2 = \"Python\"\n",
    "word1 + word2"
   ]
  },
  {
   "cell_type": "markdown",
   "metadata": {},
   "source": [
    "Can you add/concatenate num1 to word1?"
   ]
  },
  {
   "cell_type": "code",
   "execution_count": 17,
   "metadata": {},
   "outputs": [
    {
     "data": {
      "text/plain": [
       "'Java5'"
      ]
     },
     "execution_count": 17,
     "metadata": {},
     "output_type": "execute_result"
    }
   ],
   "source": [
    "word1 + str(num1)"
   ]
  },
  {
   "cell_type": "markdown",
   "metadata": {},
   "source": [
    "Multiply num1 by word1. What do you get?"
   ]
  },
  {
   "cell_type": "code",
   "execution_count": 18,
   "metadata": {},
   "outputs": [
    {
     "data": {
      "text/plain": [
       "'JavaJavaJavaJavaJava'"
      ]
     },
     "execution_count": 18,
     "metadata": {},
     "output_type": "execute_result"
    }
   ],
   "source": [
    "num1 * word1"
   ]
  },
  {
   "cell_type": "markdown",
   "metadata": {},
   "source": [
    "Compare num1 to num2, using == and >="
   ]
  },
  {
   "cell_type": "code",
   "execution_count": 19,
   "metadata": {},
   "outputs": [
    {
     "data": {
      "text/plain": [
       "False"
      ]
     },
     "execution_count": 19,
     "metadata": {},
     "output_type": "execute_result"
    }
   ],
   "source": [
    "num1 == num2"
   ]
  },
  {
   "cell_type": "code",
   "execution_count": 20,
   "metadata": {},
   "outputs": [
    {
     "data": {
      "text/plain": [
       "False"
      ]
     },
     "execution_count": 20,
     "metadata": {},
     "output_type": "execute_result"
    }
   ],
   "source": [
    "num1 >= num2"
   ]
  },
  {
   "cell_type": "markdown",
   "metadata": {},
   "source": [
    "Compare word1 to word2, using == and >="
   ]
  },
  {
   "cell_type": "code",
   "execution_count": 21,
   "metadata": {},
   "outputs": [
    {
     "data": {
      "text/plain": [
       "False"
      ]
     },
     "execution_count": 21,
     "metadata": {},
     "output_type": "execute_result"
    }
   ],
   "source": [
    "word1 == word2"
   ]
  },
  {
   "cell_type": "code",
   "execution_count": 22,
   "metadata": {},
   "outputs": [
    {
     "data": {
      "text/plain": [
       "False"
      ]
     },
     "execution_count": 22,
     "metadata": {},
     "output_type": "execute_result"
    }
   ],
   "source": [
    "word1 >= word2"
   ]
  },
  {
   "cell_type": "markdown",
   "metadata": {},
   "source": [
    "Compare hard_skills to soft_skills, using == and >="
   ]
  },
  {
   "cell_type": "code",
   "execution_count": 23,
   "metadata": {},
   "outputs": [
    {
     "data": {
      "text/plain": [
       "False"
      ]
     },
     "execution_count": 23,
     "metadata": {},
     "output_type": "execute_result"
    }
   ],
   "source": [
    "hard_skills == soft_skills"
   ]
  },
  {
   "cell_type": "code",
   "execution_count": 24,
   "metadata": {},
   "outputs": [
    {
     "data": {
      "text/plain": [
       "False"
      ]
     },
     "execution_count": 24,
     "metadata": {},
     "output_type": "execute_result"
    }
   ],
   "source": [
    "hard_skills >= soft_skills"
   ]
  },
  {
   "cell_type": "markdown",
   "metadata": {},
   "source": [
    "Concatenate the variables containing student name and grade.\n",
    "\n",
    "The output should be formatted to be The grade of Sammy is 88.444%"
   ]
  },
  {
   "cell_type": "code",
   "execution_count": 25,
   "metadata": {},
   "outputs": [],
   "source": [
    "student = \"Sammy\"\n",
    "grade = 88.444"
   ]
  },
  {
   "cell_type": "markdown",
   "metadata": {},
   "source": [
    "Below are three ways of concatenating the variables:\n",
    "\n",
    "Using + to concatenate strings\n",
    "Using formatted strings f\"\". This only works in Python 3.6 and higher\n",
    "Using the function format"
   ]
  },
  {
   "cell_type": "code",
   "execution_count": 26,
   "metadata": {},
   "outputs": [
    {
     "data": {
      "text/plain": [
       "'The grade of Sammy is 88.444%'"
      ]
     },
     "execution_count": 26,
     "metadata": {},
     "output_type": "execute_result"
    }
   ],
   "source": [
    "\"The grade of \" + student + \" is \" + str(grade) + \"%\""
   ]
  },
  {
   "cell_type": "code",
   "execution_count": 27,
   "metadata": {},
   "outputs": [
    {
     "data": {
      "text/plain": [
       "'The grade of Sammy is 88.444%'"
      ]
     },
     "execution_count": 27,
     "metadata": {},
     "output_type": "execute_result"
    }
   ],
   "source": [
    "f\"The grade of {student} is {grade}%\""
   ]
  },
  {
   "cell_type": "code",
   "execution_count": 28,
   "metadata": {},
   "outputs": [
    {
     "data": {
      "text/plain": [
       "'The grade of Sammy is 88.444%'"
      ]
     },
     "execution_count": 28,
     "metadata": {},
     "output_type": "execute_result"
    }
   ],
   "source": [
    "\"The grade of {0} is {1}%\".format(student, grade)"
   ]
  },
  {
   "cell_type": "markdown",
   "metadata": {},
   "source": [
    "Convert grade to int, re-format the variables.\n",
    "\n",
    "The output should be formatted to be The grade of Sammy is 88%\n",
    "\n",
    "There are two ways to do it:\n",
    "\n",
    "convert grade to int\n",
    "use format specification in the formatted string"
   ]
  },
  {
   "cell_type": "code",
   "execution_count": 29,
   "metadata": {},
   "outputs": [
    {
     "data": {
      "text/plain": [
       "'The grade of Sammy is 88%'"
      ]
     },
     "execution_count": 29,
     "metadata": {},
     "output_type": "execute_result"
    }
   ],
   "source": [
    "\"The grade of \" + student + \" is \" + str(int(grade)) + \"%\""
   ]
  },
  {
   "cell_type": "code",
   "execution_count": 30,
   "metadata": {},
   "outputs": [
    {
     "data": {
      "text/plain": [
       "'The grade of Sammy is 88%'"
      ]
     },
     "execution_count": 30,
     "metadata": {},
     "output_type": "execute_result"
    }
   ],
   "source": [
    "f\"The grade of {student} is {grade:.0f}%\""
   ]
  },
  {
   "cell_type": "markdown",
   "metadata": {},
   "source": [
    "What is the type of student?"
   ]
  },
  {
   "cell_type": "code",
   "execution_count": 31,
   "metadata": {},
   "outputs": [
    {
     "data": {
      "text/plain": [
       "str"
      ]
     },
     "execution_count": 31,
     "metadata": {},
     "output_type": "execute_result"
    }
   ],
   "source": [
    "type(student)"
   ]
  },
  {
   "cell_type": "markdown",
   "metadata": {},
   "source": [
    "What is the first character in student?"
   ]
  },
  {
   "cell_type": "code",
   "execution_count": 32,
   "metadata": {},
   "outputs": [
    {
     "data": {
      "text/plain": [
       "'S'"
      ]
     },
     "execution_count": 32,
     "metadata": {},
     "output_type": "execute_result"
    }
   ],
   "source": [
    "student[0]"
   ]
  },
  {
   "cell_type": "markdown",
   "metadata": {},
   "source": [
    "What is the type of the first character in student?"
   ]
  },
  {
   "cell_type": "code",
   "execution_count": 33,
   "metadata": {},
   "outputs": [
    {
     "data": {
      "text/plain": [
       "str"
      ]
     },
     "execution_count": 33,
     "metadata": {},
     "output_type": "execute_result"
    }
   ],
   "source": [
    "type(student[0])"
   ]
  },
  {
   "cell_type": "code",
   "execution_count": 34,
   "metadata": {},
   "outputs": [],
   "source": [
    "msg = \"data analytics is the future\""
   ]
  },
  {
   "cell_type": "markdown",
   "metadata": {},
   "source": [
    "Using string functions, convert `msg` to:\n",
    "- upper case\n",
    "- title case\n",
    "- capitalize"
   ]
  },
  {
   "cell_type": "code",
   "execution_count": 35,
   "metadata": {},
   "outputs": [
    {
     "data": {
      "text/plain": [
       "'DATA ANALYTICS IS THE FUTURE'"
      ]
     },
     "execution_count": 35,
     "metadata": {},
     "output_type": "execute_result"
    }
   ],
   "source": [
    "msg2 = msg.upper()\n",
    "msg2"
   ]
  },
  {
   "cell_type": "code",
   "execution_count": 36,
   "metadata": {},
   "outputs": [
    {
     "data": {
      "text/plain": [
       "'Data Analytics Is The Future'"
      ]
     },
     "execution_count": 36,
     "metadata": {},
     "output_type": "execute_result"
    }
   ],
   "source": [
    "msg.title()"
   ]
  },
  {
   "cell_type": "code",
   "execution_count": 37,
   "metadata": {},
   "outputs": [
    {
     "data": {
      "text/plain": [
       "'Data analytics is the future'"
      ]
     },
     "execution_count": 37,
     "metadata": {},
     "output_type": "execute_result"
    }
   ],
   "source": [
    "msg.capitalize()"
   ]
  },
  {
   "cell_type": "code",
   "execution_count": 38,
   "metadata": {},
   "outputs": [],
   "source": [
    "quote1=\"\"\"An optimist believes we live in the best world possible; \n",
    "a pessimist fears this is true.\"\"\""
   ]
  },
  {
   "cell_type": "code",
   "execution_count": 39,
   "metadata": {},
   "outputs": [
    {
     "name": "stdout",
     "output_type": "stream",
     "text": [
      "An optimist believes we live in the best world possible; \n",
      "a pessimist fears this is true.\n"
     ]
    }
   ],
   "source": [
    "print(quote1)"
   ]
  },
  {
   "cell_type": "markdown",
   "metadata": {},
   "source": [
    "How many words does `quote1` contain?"
   ]
  },
  {
   "cell_type": "code",
   "execution_count": 40,
   "metadata": {},
   "outputs": [
    {
     "data": {
      "text/plain": [
       "89"
      ]
     },
     "execution_count": 40,
     "metadata": {},
     "output_type": "execute_result"
    }
   ],
   "source": [
    "len(quote1) #incorrect it counts the number of characters in the string"
   ]
  },
  {
   "cell_type": "code",
   "execution_count": 41,
   "metadata": {},
   "outputs": [
    {
     "data": {
      "text/plain": [
       "16"
      ]
     },
     "execution_count": 41,
     "metadata": {},
     "output_type": "execute_result"
    }
   ],
   "source": [
    "len(quote1.split()) #split to a list and count items"
   ]
  },
  {
   "cell_type": "code",
   "execution_count": 42,
   "metadata": {},
   "outputs": [
    {
     "data": {
      "text/plain": [
       "16"
      ]
     },
     "execution_count": 42,
     "metadata": {},
     "output_type": "execute_result"
    }
   ],
   "source": [
    "quote1.count(\" \") + 1 #count whitespaces and add one"
   ]
  },
  {
   "cell_type": "code",
   "execution_count": 43,
   "metadata": {},
   "outputs": [],
   "source": [
    "quote2 = \"\"\"If you think nobody cares if you're alive, \n",
    "try missing a couple of car payments.\n",
    "\t\t-- Earl Wilson\"\"\""
   ]
  },
  {
   "cell_type": "code",
   "execution_count": 44,
   "metadata": {},
   "outputs": [
    {
     "name": "stdout",
     "output_type": "stream",
     "text": [
      "If you think nobody cares if you're alive, \n",
      "try missing a couple of car payments.\n",
      "\t\t-- Earl Wilson\n"
     ]
    }
   ],
   "source": [
    "print(quote2)"
   ]
  },
  {
   "cell_type": "markdown",
   "metadata": {},
   "source": [
    "How many lines are there in `quote2`?"
   ]
  },
  {
   "cell_type": "code",
   "execution_count": 45,
   "metadata": {},
   "outputs": [
    {
     "data": {
      "text/plain": [
       "3"
      ]
     },
     "execution_count": 45,
     "metadata": {},
     "output_type": "execute_result"
    }
   ],
   "source": [
    "len(quote2.splitlines())"
   ]
  },
  {
   "cell_type": "code",
   "execution_count": 46,
   "metadata": {},
   "outputs": [
    {
     "data": {
      "text/plain": [
       "3"
      ]
     },
     "execution_count": 46,
     "metadata": {},
     "output_type": "execute_result"
    }
   ],
   "source": [
    "len(quote2.split('\\n'))"
   ]
  },
  {
   "cell_type": "code",
   "execution_count": 47,
   "metadata": {},
   "outputs": [
    {
     "data": {
      "text/plain": [
       "3"
      ]
     },
     "execution_count": 47,
     "metadata": {},
     "output_type": "execute_result"
    }
   ],
   "source": [
    "quote2.count('\\n')+1"
   ]
  },
  {
   "cell_type": "markdown",
   "metadata": {},
   "source": [
    "Extract the name of the quoted person in `quote2`"
   ]
  },
  {
   "cell_type": "code",
   "execution_count": 48,
   "metadata": {},
   "outputs": [
    {
     "name": "stdout",
     "output_type": "stream",
     "text": [
      "If you think nobody cares if you're alive, \n",
      "try missing a couple of car payments.\n",
      "\t\t-- Earl Wilson\n"
     ]
    }
   ],
   "source": [
    "print(quote2)"
   ]
  },
  {
   "cell_type": "code",
   "execution_count": 49,
   "metadata": {},
   "outputs": [
    {
     "data": {
      "text/plain": [
       "[\"If you think nobody cares if you're alive, \\ntry missing a couple of car payments.\\n\\t\\t\",\n",
       " ' Earl Wilson']"
      ]
     },
     "execution_count": 49,
     "metadata": {},
     "output_type": "execute_result"
    }
   ],
   "source": [
    "s1 = quote2.split('--')\n",
    "s1"
   ]
  },
  {
   "cell_type": "code",
   "execution_count": 50,
   "metadata": {},
   "outputs": [
    {
     "data": {
      "text/plain": [
       "'Earl Wilson'"
      ]
     },
     "execution_count": 50,
     "metadata": {},
     "output_type": "execute_result"
    }
   ],
   "source": [
    "s1[1].strip()"
   ]
  },
  {
   "cell_type": "code",
   "execution_count": 51,
   "metadata": {},
   "outputs": [],
   "source": [
    "b=quote2.find('--')"
   ]
  },
  {
   "cell_type": "code",
   "execution_count": 52,
   "metadata": {},
   "outputs": [
    {
     "data": {
      "text/plain": [
       "'Earl Wilson'"
      ]
     },
     "execution_count": 52,
     "metadata": {},
     "output_type": "execute_result"
    }
   ],
   "source": [
    "quote2[b+3:len(quote2)] #b+3 is accounting for the two dashes and the whitespace"
   ]
  },
  {
   "cell_type": "markdown",
   "metadata": {},
   "source": [
    "1- Assign the value 7 to the variable guess_me. Then, write the conditional tests (if, else, and elif) to print the string 'too low' if guess_me is less than 7, 'too high' if greater than 7, and 'just right' if equal to 7."
   ]
  },
  {
   "cell_type": "code",
   "execution_count": 53,
   "metadata": {},
   "outputs": [
    {
     "name": "stdout",
     "output_type": "stream",
     "text": [
      "just right\n"
     ]
    }
   ],
   "source": [
    "guess_me = 7\n",
    "\n",
    "if guess_me == 7:\n",
    "    print(\"just right\")\n",
    "elif guess_me < 7:\n",
    "    print(\"too low\")\n",
    "else:\n",
    "    print(\"too high\")"
   ]
  },
  {
   "cell_type": "markdown",
   "metadata": {},
   "source": [
    "2- Assign the value 7 to the variable guess_me and the value 1 to the variable start. Write a while loop that compares start with guess_me. Print too low if start is less than guess me. If start equals guess_me, print 'found it!' and exit the loop. If start is greater than guess_me, print 'oops' and exit the loop. Increment start at the end of the loop."
   ]
  },
  {
   "cell_type": "code",
   "execution_count": 55,
   "metadata": {},
   "outputs": [
    {
     "name": "stdout",
     "output_type": "stream",
     "text": [
      "oops\n"
     ]
    }
   ],
   "source": [
    "guess_me = 7\n",
    "start = 19\n",
    "\n",
    "while True:\n",
    "    if start < guess_me:\n",
    "        print(\"too low\")\n",
    "    elif start == guess_me:\n",
    "        print(\"found it\")\n",
    "        break\n",
    "    else:\n",
    "        print('oops')\n",
    "        break\n",
    "    start += 1"
   ]
  },
  {
   "cell_type": "markdown",
   "metadata": {},
   "source": [
    "3- Use a for loop to print the values of the list [3, 2, 1, 0]."
   ]
  },
  {
   "cell_type": "code",
   "execution_count": 56,
   "metadata": {},
   "outputs": [
    {
     "name": "stdout",
     "output_type": "stream",
     "text": [
      "3 2 1 0 "
     ]
    }
   ],
   "source": [
    "for v in [3,2,1,0]:\n",
    "    print(v, end = ' ')"
   ]
  },
  {
   "cell_type": "markdown",
   "metadata": {},
   "source": [
    "4- Extract email address from `msg` using a loop.\n",
    "Think about breaking the text to words, then print\n",
    "words that contain `@`"
   ]
  },
  {
   "cell_type": "code",
   "execution_count": 57,
   "metadata": {},
   "outputs": [],
   "source": [
    "msg = \"\"\"My name is James Bond and my email address\n",
    "is james.bond@mi6.co.uk\n",
    "Do not hesitate to write me. I'm a man for all seasons.\n",
    "You can write to my secretary Miss.Moneypenny@mi6.co.uk\n",
    "\"\"\""
   ]
  },
  {
   "cell_type": "code",
   "execution_count": 58,
   "metadata": {},
   "outputs": [
    {
     "data": {
      "text/plain": [
       "['james.bond@mi6.co.uk', 'Miss.Moneypenny@mi6.co.uk']"
      ]
     },
     "execution_count": 58,
     "metadata": {},
     "output_type": "execute_result"
    }
   ],
   "source": [
    "words = msg.split()\n",
    "emails = []\n",
    "for word in words:\n",
    "    if '@' in word: #word.find('@') != -1:\n",
    "        emails += [word]\n",
    "        #emails.append(word)\n",
    "        #print(word)\n",
    "emails"
   ]
  },
  {
   "cell_type": "markdown",
   "metadata": {},
   "source": [
    "Define a function `mask` that takes a string and returns `*` repeated as many times as the length of the string\n",
    "\n",
    "For example, `mask(\"342-33-4432\")` returns `***********`"
   ]
  },
  {
   "cell_type": "code",
   "execution_count": 59,
   "metadata": {},
   "outputs": [],
   "source": [
    "def mask(text):\n",
    "    return '*' * len(text)"
   ]
  },
  {
   "cell_type": "code",
   "execution_count": 60,
   "metadata": {},
   "outputs": [
    {
     "data": {
      "text/plain": [
       "'***********'"
      ]
     },
     "execution_count": 60,
     "metadata": {},
     "output_type": "execute_result"
    }
   ],
   "source": [
    "mask(\"342-33-4432\")"
   ]
  },
  {
   "cell_type": "markdown",
   "metadata": {},
   "source": [
    "Define `mask` using a lambda expression"
   ]
  },
  {
   "cell_type": "code",
   "execution_count": 61,
   "metadata": {},
   "outputs": [],
   "source": [
    "mask = lambda x: '*' * len(x)"
   ]
  },
  {
   "cell_type": "code",
   "execution_count": 62,
   "metadata": {},
   "outputs": [
    {
     "data": {
      "text/plain": [
       "'***********'"
      ]
     },
     "execution_count": 62,
     "metadata": {},
     "output_type": "execute_result"
    }
   ],
   "source": [
    "mask(\"342-33-4432\")"
   ]
  },
  {
   "cell_type": "markdown",
   "metadata": {},
   "source": [
    "Modify `mask` to add an optional parameter which is the `masking_character`, by default this parameter is `*`\n",
    "\n",
    "*Note* you will not be able to use a lambda expression with a default parameter, you have to use `def`"
   ]
  },
  {
   "cell_type": "code",
   "execution_count": 63,
   "metadata": {},
   "outputs": [],
   "source": [
    "def mask(text, masking_character='*'):\n",
    "    return masking_character * len(text)"
   ]
  },
  {
   "cell_type": "code",
   "execution_count": 64,
   "metadata": {},
   "outputs": [
    {
     "data": {
      "text/plain": [
       "'***********'"
      ]
     },
     "execution_count": 64,
     "metadata": {},
     "output_type": "execute_result"
    }
   ],
   "source": [
    "mask(\"342-33-4432\")"
   ]
  },
  {
   "cell_type": "code",
   "execution_count": 65,
   "metadata": {},
   "outputs": [
    {
     "data": {
      "text/plain": [
       "'###########'"
      ]
     },
     "execution_count": 65,
     "metadata": {},
     "output_type": "execute_result"
    }
   ],
   "source": [
    "mask(\"342-33-4432\", '#')"
   ]
  },
  {
   "cell_type": "markdown",
   "metadata": {},
   "source": [
    "Define a function `is_number` that takes a string and returns `True` if the string is one word that contains a number defined as having all characters as digits or `-`"
   ]
  },
  {
   "cell_type": "code",
   "execution_count": 66,
   "metadata": {},
   "outputs": [],
   "source": [
    "def is_number(word):\n",
    "    for letter in word: #you can iterate over string!\n",
    "        if letter not in [\"0\", \"1\", \"2\", \"3\", \"4\", \"5\", \"6\", \"7\", \"8\", \"9\", \"-\"]:\n",
    "            return False\n",
    "    else: #means all letters are digits or -\n",
    "        return True"
   ]
  },
  {
   "cell_type": "code",
   "execution_count": 67,
   "metadata": {},
   "outputs": [],
   "source": [
    "#another way\n",
    "def is_number(word):\n",
    "    return word.replace(\"-\", \"\").isnumeric()"
   ]
  },
  {
   "cell_type": "code",
   "execution_count": 68,
   "metadata": {},
   "outputs": [
    {
     "data": {
      "text/plain": [
       "True"
      ]
     },
     "execution_count": 68,
     "metadata": {},
     "output_type": "execute_result"
    }
   ],
   "source": [
    "is_number(\"333-333\")"
   ]
  },
  {
   "cell_type": "markdown",
   "metadata": {},
   "source": [
    "1- Create a list called years_list, starting with the year of your birth, and each year thereafter until the year of your fifth birthday. \n",
    "For example, if you were born in 1980. the list would be years_list = [1980, 1981, 1982, 1983, 1984, 1985]"
   ]
  },
  {
   "cell_type": "code",
   "execution_count": 69,
   "metadata": {},
   "outputs": [],
   "source": [
    "years_list = [1980, 1981, 1982, 1983, 1984, 1985]"
   ]
  },
  {
   "cell_type": "markdown",
   "metadata": {},
   "source": [
    "2- In which year in years_list was your third birthday? Remember, you were 0 years of age for your first year."
   ]
  },
  {
   "cell_type": "code",
   "execution_count": 70,
   "metadata": {},
   "outputs": [
    {
     "data": {
      "text/plain": [
       "1983"
      ]
     },
     "execution_count": 70,
     "metadata": {},
     "output_type": "execute_result"
    }
   ],
   "source": [
    "years_list[3]"
   ]
  },
  {
   "cell_type": "markdown",
   "metadata": {},
   "source": [
    "3- In which year in years_list were you the oldest?"
   ]
  },
  {
   "cell_type": "code",
   "execution_count": 72,
   "metadata": {},
   "outputs": [
    {
     "data": {
      "text/plain": [
       "1985"
      ]
     },
     "execution_count": 72,
     "metadata": {},
     "output_type": "execute_result"
    }
   ],
   "source": [
    "years_list[-1]"
   ]
  },
  {
   "cell_type": "markdown",
   "metadata": {},
   "source": [
    "4- Make a list called things with these three strings as elements: \"mozzarella\", \"cinderella\", \"salmonella\"."
   ]
  },
  {
   "cell_type": "code",
   "execution_count": 82,
   "metadata": {},
   "outputs": [],
   "source": [
    "things = [\"mozzarella\", \"cinderella\", \"salmonella\"]"
   ]
  },
  {
   "cell_type": "markdown",
   "metadata": {},
   "source": [
    "5- Capitalize the element in things that refers to a person and then print the list. Did it change the element in the list?"
   ]
  },
  {
   "cell_type": "code",
   "execution_count": 83,
   "metadata": {},
   "outputs": [
    {
     "data": {
      "text/plain": [
       "['mozzarella', 'Cinderella', 'salmonella']"
      ]
     },
     "execution_count": 83,
     "metadata": {},
     "output_type": "execute_result"
    }
   ],
   "source": [
    "things[1] = things[1].capitalize()\n",
    "things"
   ]
  },
  {
   "cell_type": "markdown",
   "metadata": {},
   "source": [
    "6- Make the cheesy element of things all uppercase and then print the list."
   ]
  },
  {
   "cell_type": "code",
   "execution_count": 84,
   "metadata": {},
   "outputs": [
    {
     "data": {
      "text/plain": [
       "['MOZZARELLA', 'Cinderella', 'salmonella']"
      ]
     },
     "execution_count": 84,
     "metadata": {},
     "output_type": "execute_result"
    }
   ],
   "source": [
    "things[0] = things[0].upper()\n",
    "things"
   ]
  },
  {
   "cell_type": "markdown",
   "metadata": {},
   "source": [
    "7- Delete the disease element from things, collect your Nobel Prize, and print the list."
   ]
  },
  {
   "cell_type": "code",
   "execution_count": null,
   "metadata": {},
   "outputs": [],
   "source": [
    "# The pop() method removes the item at the given index from the list and returns the removed item. ... \n",
    "# If the index passed to the method is not in range, it throws IndexError: pop index out of range exception.\n",
    "# The pop() method returns the item present at the given index.\n",
    "\n",
    "things.pop()\n",
    "things"
   ]
  },
  {
   "cell_type": "code",
   "execution_count": 86,
   "metadata": {},
   "outputs": [
    {
     "data": {
      "text/plain": [
       "['mozzarella', 'cinderella']"
      ]
     },
     "execution_count": 86,
     "metadata": {},
     "output_type": "execute_result"
    }
   ],
   "source": [
    "things = [\"mozzarella\", \"cinderella\", \"salmonella\"]\n",
    "things = things[0:2]\n",
    "things"
   ]
  },
  {
   "cell_type": "code",
   "execution_count": 87,
   "metadata": {},
   "outputs": [
    {
     "data": {
      "text/plain": [
       "['mozzarella', 'cinderella']"
      ]
     },
     "execution_count": 87,
     "metadata": {},
     "output_type": "execute_result"
    }
   ],
   "source": [
    "things = [\"mozzarella\", \"cinderella\", \"salmonella\"]\n",
    "things[-1:]=[]\n",
    "things"
   ]
  },
  {
   "cell_type": "markdown",
   "metadata": {},
   "source": [
    "8- Create a list called surprise with the elements \"Groucho\", \"Chico\", and \"Harpo\"."
   ]
  },
  {
   "cell_type": "code",
   "execution_count": 88,
   "metadata": {},
   "outputs": [],
   "source": [
    "surprise = [\"Groucho\", \"Chico\",  \"Harpo\"]"
   ]
  },
  {
   "cell_type": "markdown",
   "metadata": {},
   "source": [
    "9- Lowercase the last element of the surprise list, reverse it, and then capitalize it."
   ]
  },
  {
   "cell_type": "code",
   "execution_count": 90,
   "metadata": {},
   "outputs": [
    {
     "data": {
      "text/plain": [
       "'Oprah'"
      ]
     },
     "execution_count": 90,
     "metadata": {},
     "output_type": "execute_result"
    }
   ],
   "source": [
    "surprise[-1].lower()[::-1].capitalize()"
   ]
  },
  {
   "cell_type": "code",
   "execution_count": 91,
   "metadata": {},
   "outputs": [
    {
     "data": {
      "text/plain": [
       "'Oprah'"
      ]
     },
     "execution_count": 91,
     "metadata": {},
     "output_type": "execute_result"
    }
   ],
   "source": [
    "# or spell it in details\n",
    "last_element = surprise[-1]\n",
    "last_element_in_lower_case = last_element.lower()\n",
    "reversed_element = last_element_in_lower_case[::-1]\n",
    "reversed_element.capitalize()"
   ]
  },
  {
   "cell_type": "markdown",
   "metadata": {},
   "source": [
    "10- Make an English-to-French dictionary called e2f and print it. Here are your starter words: dog is chien, cat is chat, and walrus is morse."
   ]
  },
  {
   "cell_type": "code",
   "execution_count": 93,
   "metadata": {},
   "outputs": [],
   "source": [
    "e2f = {'dog':'chien', 'cat':'chat', 'walrus':'morse'}"
   ]
  },
  {
   "cell_type": "markdown",
   "metadata": {},
   "source": [
    "11- Using your three-word dictionary e2f, print the French word for walrus."
   ]
  },
  {
   "cell_type": "code",
   "execution_count": 95,
   "metadata": {},
   "outputs": [
    {
     "name": "stdout",
     "output_type": "stream",
     "text": [
      "morse\n"
     ]
    }
   ],
   "source": [
    "print(e2f['walrus'])"
   ]
  },
  {
   "cell_type": "markdown",
   "metadata": {},
   "source": [
    "12- Make a French-to-English dictionary called f2e from e2f. Use the items method."
   ]
  },
  {
   "cell_type": "code",
   "execution_count": 96,
   "metadata": {},
   "outputs": [
    {
     "data": {
      "text/plain": [
       "dict_items([('dog', 'chien'), ('cat', 'chat'), ('walrus', 'morse')])"
      ]
     },
     "execution_count": 96,
     "metadata": {},
     "output_type": "execute_result"
    }
   ],
   "source": [
    "e2f.items()"
   ]
  },
  {
   "cell_type": "code",
   "execution_count": 97,
   "metadata": {},
   "outputs": [
    {
     "data": {
      "text/plain": [
       "{'chien': 'dog', 'chat': 'cat', 'morse': 'walrus'}"
      ]
     },
     "execution_count": 97,
     "metadata": {},
     "output_type": "execute_result"
    }
   ],
   "source": [
    "# each item is a tuple\n",
    "f2e = {}\n",
    "for item in e2f.items():\n",
    "    key = item[0]\n",
    "    value = item[1]\n",
    "    f2e[value]=key\n",
    "f2e"
   ]
  },
  {
   "cell_type": "code",
   "execution_count": 98,
   "metadata": {},
   "outputs": [
    {
     "data": {
      "text/plain": [
       "{'chien': 'dog', 'chat': 'cat', 'morse': 'walrus'}"
      ]
     },
     "execution_count": 98,
     "metadata": {},
     "output_type": "execute_result"
    }
   ],
   "source": [
    "#another way to do it\n",
    "f2e = {}\n",
    "for k in e2f:\n",
    "    v = e2f[k]\n",
    "    f2e[v]=k\n",
    "f2e"
   ]
  },
  {
   "cell_type": "markdown",
   "metadata": {},
   "source": [
    "13- Using f2e, print the English equivalent of the French word chien."
   ]
  },
  {
   "cell_type": "code",
   "execution_count": 99,
   "metadata": {},
   "outputs": [
    {
     "data": {
      "text/plain": [
       "'dog'"
      ]
     },
     "execution_count": 99,
     "metadata": {},
     "output_type": "execute_result"
    }
   ],
   "source": [
    "f2e['chien']"
   ]
  },
  {
   "cell_type": "markdown",
   "metadata": {},
   "source": [
    "14- Make and print a set of English words from the keys in e2f."
   ]
  },
  {
   "cell_type": "code",
   "execution_count": 100,
   "metadata": {},
   "outputs": [
    {
     "data": {
      "text/plain": [
       "{'cat', 'dog', 'walrus'}"
      ]
     },
     "execution_count": 100,
     "metadata": {},
     "output_type": "execute_result"
    }
   ],
   "source": [
    "english_words = set(e2f.keys())\n",
    "english_words"
   ]
  },
  {
   "cell_type": "markdown",
   "metadata": {},
   "source": [
    "15- Make a multilevel dictionary called life. Use these strings for the topmost keys: 'animals', 'plants', and 'other'. Make the 'animals' key refer to another dictionary with the keys 'cats', 'octopi', and 'emus'. Make the 'cats' key refer to a list of strings with the values 'Henri', 'Grumpy', and 'Lucy'. Make all the other keys refer to empty dictionaries."
   ]
  },
  {
   "cell_type": "code",
   "execution_count": 101,
   "metadata": {},
   "outputs": [],
   "source": [
    "life = {'animals': \n",
    "            {\n",
    "                'cats': ['Henri', 'Grumpy', 'Lucy'],\n",
    "                'octopi': {},\n",
    "                'emus': {}\n",
    "            }, \n",
    "        'plants': {}, \n",
    "        'other': {}\n",
    "       }"
   ]
  },
  {
   "cell_type": "code",
   "execution_count": 102,
   "metadata": {},
   "outputs": [
    {
     "data": {
      "text/plain": [
       "{'animals': {'cats': ['Henri', 'Grumpy', 'Lucy'], 'octopi': {}, 'emus': {}},\n",
       " 'plants': {},\n",
       " 'other': {}}"
      ]
     },
     "execution_count": 102,
     "metadata": {},
     "output_type": "execute_result"
    }
   ],
   "source": [
    "life"
   ]
  },
  {
   "cell_type": "markdown",
   "metadata": {},
   "source": [
    "16- Print the top-level keys of life."
   ]
  },
  {
   "cell_type": "code",
   "execution_count": 103,
   "metadata": {},
   "outputs": [
    {
     "data": {
      "text/plain": [
       "dict_keys(['animals', 'plants', 'other'])"
      ]
     },
     "execution_count": 103,
     "metadata": {},
     "output_type": "execute_result"
    }
   ],
   "source": [
    "life.keys()"
   ]
  },
  {
   "cell_type": "code",
   "execution_count": 104,
   "metadata": {},
   "outputs": [
    {
     "name": "stdout",
     "output_type": "stream",
     "text": [
      "animals\n",
      "plants\n",
      "other\n"
     ]
    }
   ],
   "source": [
    "for k in life.keys():\n",
    "    print(k)"
   ]
  },
  {
   "cell_type": "markdown",
   "metadata": {},
   "source": [
    "17- Print the keys for life['animals']."
   ]
  },
  {
   "cell_type": "code",
   "execution_count": 105,
   "metadata": {},
   "outputs": [
    {
     "data": {
      "text/plain": [
       "dict_keys(['cats', 'octopi', 'emus'])"
      ]
     },
     "execution_count": 105,
     "metadata": {},
     "output_type": "execute_result"
    }
   ],
   "source": [
    "life['animals'].keys()"
   ]
  },
  {
   "cell_type": "code",
   "execution_count": 106,
   "metadata": {},
   "outputs": [
    {
     "name": "stdout",
     "output_type": "stream",
     "text": [
      "cats\n",
      "octopi\n",
      "emus\n"
     ]
    }
   ],
   "source": [
    "for k in life['animals'].keys():\n",
    "    print(k)"
   ]
  },
  {
   "cell_type": "markdown",
   "metadata": {},
   "source": [
    "18- Print the values for life['animals']['cats']."
   ]
  },
  {
   "cell_type": "code",
   "execution_count": 108,
   "metadata": {},
   "outputs": [
    {
     "data": {
      "text/plain": [
       "['Henri', 'Grumpy', 'Lucy']"
      ]
     },
     "execution_count": 108,
     "metadata": {},
     "output_type": "execute_result"
    }
   ],
   "source": [
    "life['animals']['cats']"
   ]
  },
  {
   "cell_type": "markdown",
   "metadata": {},
   "source": [
    "1- Write a list comprehensions that contains numbers from 1 to 31, append the prefix \"1-\" to the numbers, these are day of January"
   ]
  },
  {
   "cell_type": "code",
   "execution_count": 111,
   "metadata": {},
   "outputs": [],
   "source": [
    "L = [f\"1-{day}\" for day in range(1,32)]"
   ]
  },
  {
   "cell_type": "markdown",
   "metadata": {},
   "source": [
    "2- convert the list to a string so each entry prints on one line. Print the result"
   ]
  },
  {
   "cell_type": "code",
   "execution_count": 112,
   "metadata": {},
   "outputs": [
    {
     "name": "stdout",
     "output_type": "stream",
     "text": [
      "1-1\n",
      "1-2\n",
      "1-3\n",
      "1-4\n",
      "1-5\n",
      "1-6\n",
      "1-7\n",
      "1-8\n",
      "1-9\n",
      "1-10\n",
      "1-11\n",
      "1-12\n",
      "1-13\n",
      "1-14\n",
      "1-15\n",
      "1-16\n",
      "1-17\n",
      "1-18\n",
      "1-19\n",
      "1-20\n",
      "1-21\n",
      "1-22\n",
      "1-23\n",
      "1-24\n",
      "1-25\n",
      "1-26\n",
      "1-27\n",
      "1-28\n",
      "1-29\n",
      "1-30\n",
      "1-31\n"
     ]
    }
   ],
   "source": [
    "line = '\\n'.join(L)\n",
    "print(line)"
   ]
  },
  {
   "cell_type": "code",
   "execution_count": 113,
   "metadata": {},
   "outputs": [
    {
     "name": "stdout",
     "output_type": "stream",
     "text": [
      "1-1\n",
      "1-2\n",
      "1-3\n",
      "1-4\n",
      "1-5\n",
      "1-6\n",
      "1-7\n",
      "1-8\n",
      "1-9\n",
      "1-10\n",
      "1-11\n",
      "1-12\n",
      "1-13\n",
      "1-14\n",
      "1-15\n",
      "1-16\n",
      "1-17\n",
      "1-18\n",
      "1-19\n",
      "1-20\n",
      "1-21\n",
      "1-22\n",
      "1-23\n",
      "1-24\n",
      "1-25\n",
      "1-26\n",
      "1-27\n",
      "1-28\n",
      "1-29\n",
      "1-30\n",
      "1-31\n"
     ]
    }
   ],
   "source": [
    "from functools import reduce\n",
    "line = reduce(lambda x, y: f\"{x}\\n{y}\", L)\n",
    "print(line)"
   ]
  },
  {
   "cell_type": "markdown",
   "metadata": {},
   "source": [
    "3- Update the comprehension to vary prefix from 1- to 12- to generate all days of the year, do not worry about incorrect dates for now"
   ]
  },
  {
   "cell_type": "code",
   "execution_count": 114,
   "metadata": {},
   "outputs": [
    {
     "data": {
      "text/plain": [
       "['1-1',\n",
       " '1-2',\n",
       " '1-3',\n",
       " '1-4',\n",
       " '1-5',\n",
       " '1-6',\n",
       " '1-7',\n",
       " '1-8',\n",
       " '1-9',\n",
       " '1-10',\n",
       " '1-11',\n",
       " '1-12',\n",
       " '1-13',\n",
       " '1-14',\n",
       " '1-15',\n",
       " '1-16',\n",
       " '1-17',\n",
       " '1-18',\n",
       " '1-19',\n",
       " '1-20',\n",
       " '1-21',\n",
       " '1-22',\n",
       " '1-23',\n",
       " '1-24',\n",
       " '1-25',\n",
       " '1-26',\n",
       " '1-27',\n",
       " '1-28',\n",
       " '1-29',\n",
       " '1-30',\n",
       " '1-31',\n",
       " '2-1',\n",
       " '2-2',\n",
       " '2-3',\n",
       " '2-4',\n",
       " '2-5',\n",
       " '2-6',\n",
       " '2-7',\n",
       " '2-8',\n",
       " '2-9',\n",
       " '2-10',\n",
       " '2-11',\n",
       " '2-12',\n",
       " '2-13',\n",
       " '2-14',\n",
       " '2-15',\n",
       " '2-16',\n",
       " '2-17',\n",
       " '2-18',\n",
       " '2-19',\n",
       " '2-20',\n",
       " '2-21',\n",
       " '2-22',\n",
       " '2-23',\n",
       " '2-24',\n",
       " '2-25',\n",
       " '2-26',\n",
       " '2-27',\n",
       " '2-28',\n",
       " '2-29',\n",
       " '2-30',\n",
       " '2-31',\n",
       " '3-1',\n",
       " '3-2',\n",
       " '3-3',\n",
       " '3-4',\n",
       " '3-5',\n",
       " '3-6',\n",
       " '3-7',\n",
       " '3-8',\n",
       " '3-9',\n",
       " '3-10',\n",
       " '3-11',\n",
       " '3-12',\n",
       " '3-13',\n",
       " '3-14',\n",
       " '3-15',\n",
       " '3-16',\n",
       " '3-17',\n",
       " '3-18',\n",
       " '3-19',\n",
       " '3-20',\n",
       " '3-21',\n",
       " '3-22',\n",
       " '3-23',\n",
       " '3-24',\n",
       " '3-25',\n",
       " '3-26',\n",
       " '3-27',\n",
       " '3-28',\n",
       " '3-29',\n",
       " '3-30',\n",
       " '3-31',\n",
       " '4-1',\n",
       " '4-2',\n",
       " '4-3',\n",
       " '4-4',\n",
       " '4-5',\n",
       " '4-6',\n",
       " '4-7',\n",
       " '4-8',\n",
       " '4-9',\n",
       " '4-10',\n",
       " '4-11',\n",
       " '4-12',\n",
       " '4-13',\n",
       " '4-14',\n",
       " '4-15',\n",
       " '4-16',\n",
       " '4-17',\n",
       " '4-18',\n",
       " '4-19',\n",
       " '4-20',\n",
       " '4-21',\n",
       " '4-22',\n",
       " '4-23',\n",
       " '4-24',\n",
       " '4-25',\n",
       " '4-26',\n",
       " '4-27',\n",
       " '4-28',\n",
       " '4-29',\n",
       " '4-30',\n",
       " '4-31',\n",
       " '5-1',\n",
       " '5-2',\n",
       " '5-3',\n",
       " '5-4',\n",
       " '5-5',\n",
       " '5-6',\n",
       " '5-7',\n",
       " '5-8',\n",
       " '5-9',\n",
       " '5-10',\n",
       " '5-11',\n",
       " '5-12',\n",
       " '5-13',\n",
       " '5-14',\n",
       " '5-15',\n",
       " '5-16',\n",
       " '5-17',\n",
       " '5-18',\n",
       " '5-19',\n",
       " '5-20',\n",
       " '5-21',\n",
       " '5-22',\n",
       " '5-23',\n",
       " '5-24',\n",
       " '5-25',\n",
       " '5-26',\n",
       " '5-27',\n",
       " '5-28',\n",
       " '5-29',\n",
       " '5-30',\n",
       " '5-31',\n",
       " '6-1',\n",
       " '6-2',\n",
       " '6-3',\n",
       " '6-4',\n",
       " '6-5',\n",
       " '6-6',\n",
       " '6-7',\n",
       " '6-8',\n",
       " '6-9',\n",
       " '6-10',\n",
       " '6-11',\n",
       " '6-12',\n",
       " '6-13',\n",
       " '6-14',\n",
       " '6-15',\n",
       " '6-16',\n",
       " '6-17',\n",
       " '6-18',\n",
       " '6-19',\n",
       " '6-20',\n",
       " '6-21',\n",
       " '6-22',\n",
       " '6-23',\n",
       " '6-24',\n",
       " '6-25',\n",
       " '6-26',\n",
       " '6-27',\n",
       " '6-28',\n",
       " '6-29',\n",
       " '6-30',\n",
       " '6-31',\n",
       " '7-1',\n",
       " '7-2',\n",
       " '7-3',\n",
       " '7-4',\n",
       " '7-5',\n",
       " '7-6',\n",
       " '7-7',\n",
       " '7-8',\n",
       " '7-9',\n",
       " '7-10',\n",
       " '7-11',\n",
       " '7-12',\n",
       " '7-13',\n",
       " '7-14',\n",
       " '7-15',\n",
       " '7-16',\n",
       " '7-17',\n",
       " '7-18',\n",
       " '7-19',\n",
       " '7-20',\n",
       " '7-21',\n",
       " '7-22',\n",
       " '7-23',\n",
       " '7-24',\n",
       " '7-25',\n",
       " '7-26',\n",
       " '7-27',\n",
       " '7-28',\n",
       " '7-29',\n",
       " '7-30',\n",
       " '7-31',\n",
       " '8-1',\n",
       " '8-2',\n",
       " '8-3',\n",
       " '8-4',\n",
       " '8-5',\n",
       " '8-6',\n",
       " '8-7',\n",
       " '8-8',\n",
       " '8-9',\n",
       " '8-10',\n",
       " '8-11',\n",
       " '8-12',\n",
       " '8-13',\n",
       " '8-14',\n",
       " '8-15',\n",
       " '8-16',\n",
       " '8-17',\n",
       " '8-18',\n",
       " '8-19',\n",
       " '8-20',\n",
       " '8-21',\n",
       " '8-22',\n",
       " '8-23',\n",
       " '8-24',\n",
       " '8-25',\n",
       " '8-26',\n",
       " '8-27',\n",
       " '8-28',\n",
       " '8-29',\n",
       " '8-30',\n",
       " '8-31',\n",
       " '9-1',\n",
       " '9-2',\n",
       " '9-3',\n",
       " '9-4',\n",
       " '9-5',\n",
       " '9-6',\n",
       " '9-7',\n",
       " '9-8',\n",
       " '9-9',\n",
       " '9-10',\n",
       " '9-11',\n",
       " '9-12',\n",
       " '9-13',\n",
       " '9-14',\n",
       " '9-15',\n",
       " '9-16',\n",
       " '9-17',\n",
       " '9-18',\n",
       " '9-19',\n",
       " '9-20',\n",
       " '9-21',\n",
       " '9-22',\n",
       " '9-23',\n",
       " '9-24',\n",
       " '9-25',\n",
       " '9-26',\n",
       " '9-27',\n",
       " '9-28',\n",
       " '9-29',\n",
       " '9-30',\n",
       " '9-31',\n",
       " '10-1',\n",
       " '10-2',\n",
       " '10-3',\n",
       " '10-4',\n",
       " '10-5',\n",
       " '10-6',\n",
       " '10-7',\n",
       " '10-8',\n",
       " '10-9',\n",
       " '10-10',\n",
       " '10-11',\n",
       " '10-12',\n",
       " '10-13',\n",
       " '10-14',\n",
       " '10-15',\n",
       " '10-16',\n",
       " '10-17',\n",
       " '10-18',\n",
       " '10-19',\n",
       " '10-20',\n",
       " '10-21',\n",
       " '10-22',\n",
       " '10-23',\n",
       " '10-24',\n",
       " '10-25',\n",
       " '10-26',\n",
       " '10-27',\n",
       " '10-28',\n",
       " '10-29',\n",
       " '10-30',\n",
       " '10-31',\n",
       " '11-1',\n",
       " '11-2',\n",
       " '11-3',\n",
       " '11-4',\n",
       " '11-5',\n",
       " '11-6',\n",
       " '11-7',\n",
       " '11-8',\n",
       " '11-9',\n",
       " '11-10',\n",
       " '11-11',\n",
       " '11-12',\n",
       " '11-13',\n",
       " '11-14',\n",
       " '11-15',\n",
       " '11-16',\n",
       " '11-17',\n",
       " '11-18',\n",
       " '11-19',\n",
       " '11-20',\n",
       " '11-21',\n",
       " '11-22',\n",
       " '11-23',\n",
       " '11-24',\n",
       " '11-25',\n",
       " '11-26',\n",
       " '11-27',\n",
       " '11-28',\n",
       " '11-29',\n",
       " '11-30',\n",
       " '11-31',\n",
       " '12-1',\n",
       " '12-2',\n",
       " '12-3',\n",
       " '12-4',\n",
       " '12-5',\n",
       " '12-6',\n",
       " '12-7',\n",
       " '12-8',\n",
       " '12-9',\n",
       " '12-10',\n",
       " '12-11',\n",
       " '12-12',\n",
       " '12-13',\n",
       " '12-14',\n",
       " '12-15',\n",
       " '12-16',\n",
       " '12-17',\n",
       " '12-18',\n",
       " '12-19',\n",
       " '12-20',\n",
       " '12-21',\n",
       " '12-22',\n",
       " '12-23',\n",
       " '12-24',\n",
       " '12-25',\n",
       " '12-26',\n",
       " '12-27',\n",
       " '12-28',\n",
       " '12-29',\n",
       " '12-30',\n",
       " '12-31']"
      ]
     },
     "execution_count": 114,
     "metadata": {},
     "output_type": "execute_result"
    }
   ],
   "source": [
    "L = [ f\"{month}-{day}\" for month in range(1, 13) for day in range(1,32) ]\n",
    "L"
   ]
  },
  {
   "cell_type": "markdown",
   "metadata": {},
   "source": [
    "4- now, address the issue of some months being only 30 days and february if 28 days (this year). Hint, use the valid_date function"
   ]
  },
  {
   "cell_type": "code",
   "execution_count": 115,
   "metadata": {},
   "outputs": [],
   "source": [
    "def valid_date(day, month):\n",
    "    days_of_month = {1:31, 2:28, 3:31, 4:30, 5:31, 6:30, \n",
    "                7:31, 8:31, 9:30, 10:31, 11:30, 12:31}\n",
    "    max_month = days_of_month[month]\n",
    "    return day <= max_month"
   ]
  },
  {
   "cell_type": "code",
   "execution_count": 116,
   "metadata": {},
   "outputs": [
    {
     "data": {
      "text/plain": [
       "['1-1',\n",
       " '1-2',\n",
       " '1-3',\n",
       " '1-4',\n",
       " '1-5',\n",
       " '1-6',\n",
       " '1-7',\n",
       " '1-8',\n",
       " '1-9',\n",
       " '1-10',\n",
       " '1-11',\n",
       " '1-12',\n",
       " '1-13',\n",
       " '1-14',\n",
       " '1-15',\n",
       " '1-16',\n",
       " '1-17',\n",
       " '1-18',\n",
       " '1-19',\n",
       " '1-20',\n",
       " '1-21',\n",
       " '1-22',\n",
       " '1-23',\n",
       " '1-24',\n",
       " '1-25',\n",
       " '1-26',\n",
       " '1-27',\n",
       " '1-28',\n",
       " '1-29',\n",
       " '1-30',\n",
       " '1-31',\n",
       " '2-1',\n",
       " '2-2',\n",
       " '2-3',\n",
       " '2-4',\n",
       " '2-5',\n",
       " '2-6',\n",
       " '2-7',\n",
       " '2-8',\n",
       " '2-9',\n",
       " '2-10',\n",
       " '2-11',\n",
       " '2-12',\n",
       " '2-13',\n",
       " '2-14',\n",
       " '2-15',\n",
       " '2-16',\n",
       " '2-17',\n",
       " '2-18',\n",
       " '2-19',\n",
       " '2-20',\n",
       " '2-21',\n",
       " '2-22',\n",
       " '2-23',\n",
       " '2-24',\n",
       " '2-25',\n",
       " '2-26',\n",
       " '2-27',\n",
       " '2-28',\n",
       " '3-1',\n",
       " '3-2',\n",
       " '3-3',\n",
       " '3-4',\n",
       " '3-5',\n",
       " '3-6',\n",
       " '3-7',\n",
       " '3-8',\n",
       " '3-9',\n",
       " '3-10',\n",
       " '3-11',\n",
       " '3-12',\n",
       " '3-13',\n",
       " '3-14',\n",
       " '3-15',\n",
       " '3-16',\n",
       " '3-17',\n",
       " '3-18',\n",
       " '3-19',\n",
       " '3-20',\n",
       " '3-21',\n",
       " '3-22',\n",
       " '3-23',\n",
       " '3-24',\n",
       " '3-25',\n",
       " '3-26',\n",
       " '3-27',\n",
       " '3-28',\n",
       " '3-29',\n",
       " '3-30',\n",
       " '3-31',\n",
       " '4-1',\n",
       " '4-2',\n",
       " '4-3',\n",
       " '4-4',\n",
       " '4-5',\n",
       " '4-6',\n",
       " '4-7',\n",
       " '4-8',\n",
       " '4-9',\n",
       " '4-10',\n",
       " '4-11',\n",
       " '4-12',\n",
       " '4-13',\n",
       " '4-14',\n",
       " '4-15',\n",
       " '4-16',\n",
       " '4-17',\n",
       " '4-18',\n",
       " '4-19',\n",
       " '4-20',\n",
       " '4-21',\n",
       " '4-22',\n",
       " '4-23',\n",
       " '4-24',\n",
       " '4-25',\n",
       " '4-26',\n",
       " '4-27',\n",
       " '4-28',\n",
       " '4-29',\n",
       " '4-30',\n",
       " '5-1',\n",
       " '5-2',\n",
       " '5-3',\n",
       " '5-4',\n",
       " '5-5',\n",
       " '5-6',\n",
       " '5-7',\n",
       " '5-8',\n",
       " '5-9',\n",
       " '5-10',\n",
       " '5-11',\n",
       " '5-12',\n",
       " '5-13',\n",
       " '5-14',\n",
       " '5-15',\n",
       " '5-16',\n",
       " '5-17',\n",
       " '5-18',\n",
       " '5-19',\n",
       " '5-20',\n",
       " '5-21',\n",
       " '5-22',\n",
       " '5-23',\n",
       " '5-24',\n",
       " '5-25',\n",
       " '5-26',\n",
       " '5-27',\n",
       " '5-28',\n",
       " '5-29',\n",
       " '5-30',\n",
       " '5-31',\n",
       " '6-1',\n",
       " '6-2',\n",
       " '6-3',\n",
       " '6-4',\n",
       " '6-5',\n",
       " '6-6',\n",
       " '6-7',\n",
       " '6-8',\n",
       " '6-9',\n",
       " '6-10',\n",
       " '6-11',\n",
       " '6-12',\n",
       " '6-13',\n",
       " '6-14',\n",
       " '6-15',\n",
       " '6-16',\n",
       " '6-17',\n",
       " '6-18',\n",
       " '6-19',\n",
       " '6-20',\n",
       " '6-21',\n",
       " '6-22',\n",
       " '6-23',\n",
       " '6-24',\n",
       " '6-25',\n",
       " '6-26',\n",
       " '6-27',\n",
       " '6-28',\n",
       " '6-29',\n",
       " '6-30',\n",
       " '7-1',\n",
       " '7-2',\n",
       " '7-3',\n",
       " '7-4',\n",
       " '7-5',\n",
       " '7-6',\n",
       " '7-7',\n",
       " '7-8',\n",
       " '7-9',\n",
       " '7-10',\n",
       " '7-11',\n",
       " '7-12',\n",
       " '7-13',\n",
       " '7-14',\n",
       " '7-15',\n",
       " '7-16',\n",
       " '7-17',\n",
       " '7-18',\n",
       " '7-19',\n",
       " '7-20',\n",
       " '7-21',\n",
       " '7-22',\n",
       " '7-23',\n",
       " '7-24',\n",
       " '7-25',\n",
       " '7-26',\n",
       " '7-27',\n",
       " '7-28',\n",
       " '7-29',\n",
       " '7-30',\n",
       " '7-31',\n",
       " '8-1',\n",
       " '8-2',\n",
       " '8-3',\n",
       " '8-4',\n",
       " '8-5',\n",
       " '8-6',\n",
       " '8-7',\n",
       " '8-8',\n",
       " '8-9',\n",
       " '8-10',\n",
       " '8-11',\n",
       " '8-12',\n",
       " '8-13',\n",
       " '8-14',\n",
       " '8-15',\n",
       " '8-16',\n",
       " '8-17',\n",
       " '8-18',\n",
       " '8-19',\n",
       " '8-20',\n",
       " '8-21',\n",
       " '8-22',\n",
       " '8-23',\n",
       " '8-24',\n",
       " '8-25',\n",
       " '8-26',\n",
       " '8-27',\n",
       " '8-28',\n",
       " '8-29',\n",
       " '8-30',\n",
       " '8-31',\n",
       " '9-1',\n",
       " '9-2',\n",
       " '9-3',\n",
       " '9-4',\n",
       " '9-5',\n",
       " '9-6',\n",
       " '9-7',\n",
       " '9-8',\n",
       " '9-9',\n",
       " '9-10',\n",
       " '9-11',\n",
       " '9-12',\n",
       " '9-13',\n",
       " '9-14',\n",
       " '9-15',\n",
       " '9-16',\n",
       " '9-17',\n",
       " '9-18',\n",
       " '9-19',\n",
       " '9-20',\n",
       " '9-21',\n",
       " '9-22',\n",
       " '9-23',\n",
       " '9-24',\n",
       " '9-25',\n",
       " '9-26',\n",
       " '9-27',\n",
       " '9-28',\n",
       " '9-29',\n",
       " '9-30',\n",
       " '10-1',\n",
       " '10-2',\n",
       " '10-3',\n",
       " '10-4',\n",
       " '10-5',\n",
       " '10-6',\n",
       " '10-7',\n",
       " '10-8',\n",
       " '10-9',\n",
       " '10-10',\n",
       " '10-11',\n",
       " '10-12',\n",
       " '10-13',\n",
       " '10-14',\n",
       " '10-15',\n",
       " '10-16',\n",
       " '10-17',\n",
       " '10-18',\n",
       " '10-19',\n",
       " '10-20',\n",
       " '10-21',\n",
       " '10-22',\n",
       " '10-23',\n",
       " '10-24',\n",
       " '10-25',\n",
       " '10-26',\n",
       " '10-27',\n",
       " '10-28',\n",
       " '10-29',\n",
       " '10-30',\n",
       " '10-31',\n",
       " '11-1',\n",
       " '11-2',\n",
       " '11-3',\n",
       " '11-4',\n",
       " '11-5',\n",
       " '11-6',\n",
       " '11-7',\n",
       " '11-8',\n",
       " '11-9',\n",
       " '11-10',\n",
       " '11-11',\n",
       " '11-12',\n",
       " '11-13',\n",
       " '11-14',\n",
       " '11-15',\n",
       " '11-16',\n",
       " '11-17',\n",
       " '11-18',\n",
       " '11-19',\n",
       " '11-20',\n",
       " '11-21',\n",
       " '11-22',\n",
       " '11-23',\n",
       " '11-24',\n",
       " '11-25',\n",
       " '11-26',\n",
       " '11-27',\n",
       " '11-28',\n",
       " '11-29',\n",
       " '11-30',\n",
       " '12-1',\n",
       " '12-2',\n",
       " '12-3',\n",
       " '12-4',\n",
       " '12-5',\n",
       " '12-6',\n",
       " '12-7',\n",
       " '12-8',\n",
       " '12-9',\n",
       " '12-10',\n",
       " '12-11',\n",
       " '12-12',\n",
       " '12-13',\n",
       " '12-14',\n",
       " '12-15',\n",
       " '12-16',\n",
       " '12-17',\n",
       " '12-18',\n",
       " '12-19',\n",
       " '12-20',\n",
       " '12-21',\n",
       " '12-22',\n",
       " '12-23',\n",
       " '12-24',\n",
       " '12-25',\n",
       " '12-26',\n",
       " '12-27',\n",
       " '12-28',\n",
       " '12-29',\n",
       " '12-30',\n",
       " '12-31']"
      ]
     },
     "execution_count": 116,
     "metadata": {},
     "output_type": "execute_result"
    }
   ],
   "source": [
    "L = [ f\"{month}-{day}\" for month in range(1, 13) for day in range(1,32) if valid_date(day, month)]\n",
    "L"
   ]
  },
  {
   "cell_type": "markdown",
   "metadata": {},
   "source": [
    "5- using dictionary comprehensions create `f2e` dictionary from the `e2f` dictionary"
   ]
  },
  {
   "cell_type": "code",
   "execution_count": 117,
   "metadata": {},
   "outputs": [],
   "source": [
    "e2f = {'hi':'bonjour', 'bye':'au revoir', 'bread':'pain', 'water':'eau'}"
   ]
  },
  {
   "cell_type": "code",
   "execution_count": 118,
   "metadata": {},
   "outputs": [
    {
     "data": {
      "text/plain": [
       "{'bonjour': 'hi', 'au revoir': 'bye', 'pain': 'bread', 'eau': 'water'}"
      ]
     },
     "execution_count": 118,
     "metadata": {},
     "output_type": "execute_result"
    }
   ],
   "source": [
    "f2e = { e2f[k]:k for k in e2f}\n",
    "f2e"
   ]
  },
  {
   "cell_type": "code",
   "execution_count": 119,
   "metadata": {},
   "outputs": [
    {
     "data": {
      "text/plain": [
       "{'bonjour': 'hi', 'au revoir': 'bye', 'pain': 'bread', 'eau': 'water'}"
      ]
     },
     "execution_count": 119,
     "metadata": {},
     "output_type": "execute_result"
    }
   ],
   "source": [
    "f2e = {item[1]:item[0] for item in e2f.items()}\n",
    "f2e"
   ]
  },
  {
   "cell_type": "code",
   "execution_count": 120,
   "metadata": {},
   "outputs": [
    {
     "data": {
      "text/plain": [
       "{'bonjour': 'hi', 'au revoir': 'bye', 'pain': 'bread', 'eau': 'water'}"
      ]
     },
     "execution_count": 120,
     "metadata": {},
     "output_type": "execute_result"
    }
   ],
   "source": [
    "f2e = {v:k for (k,v) in e2f.items()}\n",
    "f2e"
   ]
  },
  {
   "cell_type": "code",
   "execution_count": 58,
   "metadata": {},
   "outputs": [],
   "source": [
    "email = \"\"\"Hi Jane, \n",
    "I hope you are doing well. As I explained in my previous message, \n",
    "Mr. James' social is 134-44-3212. His email is james.bond@secret.org\n",
    "Please get in touch with him ASAP.\n",
    "\n",
    "Also, Mr. Bond will be dribing his Aston Martin, it has a 3-way revolving front number \n",
    "plate showing LU-6789, 4711-EA-62 or BMT-216A. Please ensure paying tolls\n",
    "for all. If you have any questions, please contact me: +44 (0)345 363 3630\n",
    "\n",
    "\"\"\""
   ]
  },
  {
   "cell_type": "markdown",
   "metadata": {},
   "source": [
    "Using regular expressions, extract from the email\n",
    "- numbers (e.g. social and phone numbers)\n",
    "- email address\n",
    "- license plates"
   ]
  },
  {
   "cell_type": "code",
   "execution_count": 59,
   "metadata": {},
   "outputs": [
    {
     "data": {
      "text/plain": [
       "['134-44-3212']"
      ]
     },
     "execution_count": 59,
     "metadata": {},
     "output_type": "execute_result"
    }
   ],
   "source": [
    "import re\n",
    "social = re.compile('\\d+-\\d+-\\d+')\n",
    "social.findall(email)"
   ]
  },
  {
   "cell_type": "code",
   "execution_count": 60,
   "metadata": {},
   "outputs": [
    {
     "data": {
      "text/plain": [
       "['+44 (0)345 363 3630']"
      ]
     },
     "execution_count": 60,
     "metadata": {},
     "output_type": "execute_result"
    }
   ],
   "source": [
    "phone = re.compile('\\+\\d+[ ()\\d]+')\n",
    "phone.findall(email)"
   ]
  },
  {
   "cell_type": "code",
   "execution_count": 61,
   "metadata": {},
   "outputs": [
    {
     "data": {
      "text/plain": [
       "['james.bond@secret.org']"
      ]
     },
     "execution_count": 61,
     "metadata": {},
     "output_type": "execute_result"
    }
   ],
   "source": [
    "email_ = re.compile('\\w+[.\\w]+@\\w+\\.\\w{3}')\n",
    "email_.findall(email)"
   ]
  },
  {
   "cell_type": "code",
   "execution_count": 62,
   "metadata": {},
   "outputs": [
    {
     "data": {
      "text/plain": [
       "['LU-6789', '4711-EA-62', 'BMT-216A']"
      ]
     },
     "execution_count": 62,
     "metadata": {},
     "output_type": "execute_result"
    }
   ],
   "source": [
    "license = re.compile('[\\d-]*[A-Z]+-[\\dA-Z]+')\n",
    "license.findall(email)"
   ]
  },
  {
   "cell_type": "markdown",
   "metadata": {},
   "source": [
    "Blank out this sensitive information using *"
   ]
  },
  {
   "cell_type": "code",
   "execution_count": 63,
   "metadata": {},
   "outputs": [
    {
     "name": "stdout",
     "output_type": "stream",
     "text": [
      "Hi Jane, \n",
      "I hope you are doing well. As I explained in my previous message, \n",
      "Mr. James' social is ******. His email is ******\n",
      "Please get in touch with him ASAP.\n",
      "\n",
      "Also, Mr. Bond will be dribing his Aston Martin, it has a 3-way revolving front number \n",
      "plate showing ******, ****** or ******. Please ensure paying tolls\n",
      "for all. If you have any questions, please contact me: ******\n",
      "\n",
      "\n"
     ]
    }
   ],
   "source": [
    "for regex in [social, phone, email_, license]:\n",
    "    email = regex.sub('******', email)\n",
    "print(email)"
   ]
  },
  {
   "cell_type": "markdown",
   "metadata": {},
   "source": [
    "# Workout Solutions"
   ]
  },
  {
   "cell_type": "markdown",
   "metadata": {},
   "source": [
    "Convert the [MIS faculty directory](https://www.terry.uga.edu/directory/mis/) to Markdown\n",
    "\n",
    "*You don't need to convert the whole table just few entries*"
   ]
  },
  {
   "cell_type": "markdown",
   "metadata": {},
   "source": [
    "|                                                          Image                                                          |         Name         |      Title       |    Type     |    Phone     |                    Email                    |                  Office                   |\n",
    "| ----------------------------------------------------------------------------------------------------------------------- | -------------------- | ---------------- | ----------- | ------------ | ------------------------------------------- | ----------------------------------------- |\n",
    "| ![](http://directory.domain-account.com/_resources/images/directory/faculty/Karen%20Aguar.jpg)                          | Karen Aguar          | Lecturer         | Faculty     | .            | [kaguar@uga.edu](mailto:kaguar@uga.edu)     | 630 South Lumpkin Street C428 Benson Hall |\n",
    "| ![](http://directory.domain-account.com/_resources/images/directory/faculty/JanineAronson_29143-014_portrait_large.jpg) | Janine Elyse Aronson | Professor        | Faculty     | 706-542-0991 | [jaronson@uga.edu](mailto:jaronson@uga.edu) | 630 South Lumpkin Street C418 Benson Hall |\n",
    "| ![](http://directory.domain-account.com/_resources/images/directory/students/eric%20bogert_portrait_large.jpg)          | Eric Bogert          | Doctoral Student | PhD Student | .            | [etbogert@uga.edu](mailto:etbogert@uga.edu) | 620 South Lumpkin Street B423 Amos Hall   |\n"
   ]
  },
  {
   "cell_type": "markdown",
   "metadata": {},
   "source": [
    "1- Enter the following into Python, assigning each to a unique variable name:\n",
    "- 4\n",
    "- 3.1415\n",
    "- 1.0\n",
    "- 2+4j \n",
    "- 'Hello'\n",
    "- 'World'"
   ]
  },
  {
   "cell_type": "code",
   "execution_count": 121,
   "metadata": {},
   "outputs": [],
   "source": [
    "num  = 4\n",
    "pi   = 3.1415\n",
    "one  = 1.0\n",
    "comp = 2 + 4j\n",
    "str1 = 'Hello'\n",
    "str2 = 'World'"
   ]
  },
  {
   "cell_type": "markdown",
   "metadata": {},
   "source": [
    "2- What is the type of each variable? Use _type_ if you aren’t sure."
   ]
  },
  {
   "cell_type": "code",
   "execution_count": 122,
   "metadata": {},
   "outputs": [
    {
     "data": {
      "text/plain": [
       "int"
      ]
     },
     "execution_count": 122,
     "metadata": {},
     "output_type": "execute_result"
    }
   ],
   "source": [
    "type(num)"
   ]
  },
  {
   "cell_type": "code",
   "execution_count": 123,
   "metadata": {},
   "outputs": [
    {
     "data": {
      "text/plain": [
       "float"
      ]
     },
     "execution_count": 123,
     "metadata": {},
     "output_type": "execute_result"
    }
   ],
   "source": [
    "type(pi)"
   ]
  },
  {
   "cell_type": "code",
   "execution_count": 124,
   "metadata": {},
   "outputs": [
    {
     "data": {
      "text/plain": [
       "float"
      ]
     },
     "execution_count": 124,
     "metadata": {},
     "output_type": "execute_result"
    }
   ],
   "source": [
    "type(one)"
   ]
  },
  {
   "cell_type": "code",
   "execution_count": 125,
   "metadata": {},
   "outputs": [
    {
     "data": {
      "text/plain": [
       "float"
      ]
     },
     "execution_count": 125,
     "metadata": {},
     "output_type": "execute_result"
    }
   ],
   "source": [
    "type(one)"
   ]
  },
  {
   "cell_type": "code",
   "execution_count": 126,
   "metadata": {},
   "outputs": [
    {
     "data": {
      "text/plain": [
       "complex"
      ]
     },
     "execution_count": 126,
     "metadata": {},
     "output_type": "execute_result"
    }
   ],
   "source": [
    "type(comp)"
   ]
  },
  {
   "cell_type": "code",
   "execution_count": 127,
   "metadata": {},
   "outputs": [
    {
     "data": {
      "text/plain": [
       "str"
      ]
     },
     "execution_count": 127,
     "metadata": {},
     "output_type": "execute_result"
    }
   ],
   "source": [
    "type(str1)"
   ]
  },
  {
   "cell_type": "code",
   "execution_count": 128,
   "metadata": {},
   "outputs": [
    {
     "data": {
      "text/plain": [
       "str"
      ]
     },
     "execution_count": 128,
     "metadata": {},
     "output_type": "execute_result"
    }
   ],
   "source": [
    "type(str2)"
   ]
  },
  {
   "cell_type": "markdown",
   "metadata": {},
   "source": [
    "3- Try the following operators with the variables. Which of the 6 types can be:\n",
    "- Added +\n",
    "- Subtracted -\n",
    "- Multiplies *\n",
    "- Divided /"
   ]
  },
  {
   "cell_type": "code",
   "execution_count": 129,
   "metadata": {},
   "outputs": [],
   "source": [
    "num  = 4\n",
    "pi   = 3.1415\n",
    "one  = 1.0\n",
    "comp = 2 + 4j\n",
    "str1 = 'Hello'\n",
    "str2 = 'World'"
   ]
  },
  {
   "cell_type": "markdown",
   "metadata": {},
   "source": [
    "It is possible to combine numerical types with mathematical operations"
   ]
  },
  {
   "cell_type": "code",
   "execution_count": 130,
   "metadata": {},
   "outputs": [
    {
     "data": {
      "text/plain": [
       "(-1.6858499999999998+3.3716999999999997j)"
      ]
     },
     "execution_count": 130,
     "metadata": {},
     "output_type": "execute_result"
    }
   ],
   "source": [
    "comp - num + pi * one / comp"
   ]
  },
  {
   "cell_type": "markdown",
   "metadata": {},
   "source": [
    "It is possible to multiply a string by an integer to repeat it"
   ]
  },
  {
   "cell_type": "code",
   "execution_count": 131,
   "metadata": {},
   "outputs": [
    {
     "data": {
      "text/plain": [
       "'HelloHelloHelloHello'"
      ]
     },
     "execution_count": 131,
     "metadata": {},
     "output_type": "execute_result"
    }
   ],
   "source": [
    "num * str1"
   ]
  },
  {
   "cell_type": "markdown",
   "metadata": {},
   "source": [
    "It is possible to add two strings to concatenate them"
   ]
  },
  {
   "cell_type": "code",
   "execution_count": 132,
   "metadata": {},
   "outputs": [
    {
     "data": {
      "text/plain": [
       "'HelloWorld'"
      ]
     },
     "execution_count": 132,
     "metadata": {},
     "output_type": "execute_result"
    }
   ],
   "source": [
    "str1 + str2"
   ]
  },
  {
   "cell_type": "markdown",
   "metadata": {},
   "source": [
    "4- What are the types of the output (when an error is not produced) in the above operations?"
   ]
  },
  {
   "cell_type": "code",
   "execution_count": 133,
   "metadata": {},
   "outputs": [
    {
     "data": {
      "text/plain": [
       "complex"
      ]
     },
     "execution_count": 133,
     "metadata": {},
     "output_type": "execute_result"
    }
   ],
   "source": [
    "type(comp - num + pi * one / comp)"
   ]
  },
  {
   "cell_type": "code",
   "execution_count": 134,
   "metadata": {},
   "outputs": [
    {
     "data": {
      "text/plain": [
       "str"
      ]
     },
     "execution_count": 134,
     "metadata": {},
     "output_type": "execute_result"
    }
   ],
   "source": [
    "type(num * str1)"
   ]
  },
  {
   "cell_type": "code",
   "execution_count": 135,
   "metadata": {},
   "outputs": [
    {
     "data": {
      "text/plain": [
       "str"
      ]
     },
     "execution_count": 135,
     "metadata": {},
     "output_type": "execute_result"
    }
   ],
   "source": [
    "type(str1 + str2)"
   ]
  },
  {
   "cell_type": "markdown",
   "metadata": {},
   "source": [
    "5- What are the numerator and denominator of the number 3.5\n",
    "\n",
    "*Hint* use the function `as_integer_ratio()`"
   ]
  },
  {
   "cell_type": "code",
   "execution_count": 136,
   "metadata": {},
   "outputs": [
    {
     "data": {
      "text/plain": [
       "(7, 2)"
      ]
     },
     "execution_count": 136,
     "metadata": {},
     "output_type": "execute_result"
    }
   ],
   "source": [
    "n = 3.5\n",
    "n.as_integer_ratio()"
   ]
  },
  {
   "cell_type": "markdown",
   "metadata": {},
   "source": [
    "The code below generates a random number between 1 and 10. \n",
    "Write a boolean expression that evaluates to `True` when the number is odd\n",
    "\n",
    "- Try different ways to write the expression, using boolean operations and membership operators"
   ]
  },
  {
   "cell_type": "code",
   "execution_count": 161,
   "metadata": {},
   "outputs": [
    {
     "data": {
      "text/plain": [
       "7"
      ]
     },
     "execution_count": 161,
     "metadata": {},
     "output_type": "execute_result"
    }
   ],
   "source": [
    "import random\n",
    "ran = random.randint(1, 10)\n",
    "ran"
   ]
  },
  {
   "cell_type": "code",
   "execution_count": 162,
   "metadata": {},
   "outputs": [
    {
     "data": {
      "text/plain": [
       "True"
      ]
     },
     "execution_count": 162,
     "metadata": {},
     "output_type": "execute_result"
    }
   ],
   "source": [
    "ran % 2 == 1"
   ]
  },
  {
   "cell_type": "code",
   "execution_count": 163,
   "metadata": {},
   "outputs": [
    {
     "data": {
      "text/plain": [
       "True"
      ]
     },
     "execution_count": 163,
     "metadata": {},
     "output_type": "execute_result"
    }
   ],
   "source": [
    "ran in [1, 3, 5, 7] "
   ]
  },
  {
   "cell_type": "markdown",
   "metadata": {},
   "source": [
    "![Play Tennis Decision Tree](https://nullpointerexception1.files.wordpress.com/2017/11/decision-tree-e1513448957591.jpg)\n",
    "\n",
    "Write a boolean expression that represents the decision tree based on the variables below"
   ]
  },
  {
   "cell_type": "code",
   "execution_count": 164,
   "metadata": {},
   "outputs": [
    {
     "name": "stdout",
     "output_type": "stream",
     "text": [
      "Overcast\n",
      "Normal\n",
      "Weak\n"
     ]
    }
   ],
   "source": [
    "outlook = input() #Sunny, Overcast, Rain\n",
    "humidity = input() #High, Normal\n",
    "wind = input() #Strong, Weak"
   ]
  },
  {
   "cell_type": "code",
   "execution_count": 165,
   "metadata": {},
   "outputs": [
    {
     "data": {
      "text/plain": [
       "True"
      ]
     },
     "execution_count": 165,
     "metadata": {},
     "output_type": "execute_result"
    }
   ],
   "source": [
    "(outlook == \"Sunny\" and humidity == \"Normal\") or (outlook == \"Overcast\") or (outlook == \"Rain\" and wind == \"Weak\")"
   ]
  },
  {
   "cell_type": "markdown",
   "metadata": {},
   "source": [
    "Concatenate the variables containing student name and grade.\n",
    "\n",
    "Keep only one decimal digit.\n",
    "\n",
    "The output should be formatted to be `The grade of Sammy is 88.4%`"
   ]
  },
  {
   "cell_type": "code",
   "execution_count": 166,
   "metadata": {},
   "outputs": [],
   "source": [
    "student = \"Sammy\"\n",
    "grade = 88.444"
   ]
  },
  {
   "cell_type": "markdown",
   "metadata": {},
   "source": [
    "Solution 1: Use round function to round grade"
   ]
  },
  {
   "cell_type": "code",
   "execution_count": 167,
   "metadata": {},
   "outputs": [],
   "source": [
    "rounded_grade = round(grade, 1)"
   ]
  },
  {
   "cell_type": "code",
   "execution_count": 168,
   "metadata": {},
   "outputs": [
    {
     "data": {
      "text/plain": [
       "'The grade of Sammy is 88.4%'"
      ]
     },
     "execution_count": 168,
     "metadata": {},
     "output_type": "execute_result"
    }
   ],
   "source": [
    "f\"The grade of {student} is {rounded_grade}%\""
   ]
  },
  {
   "cell_type": "markdown",
   "metadata": {},
   "source": [
    "Solution 2: Use formatted string and provide a format sepcification"
   ]
  },
  {
   "cell_type": "code",
   "execution_count": 170,
   "metadata": {},
   "outputs": [
    {
     "data": {
      "text/plain": [
       "'The grade of Sammy is 88.4%'"
      ]
     },
     "execution_count": 170,
     "metadata": {},
     "output_type": "execute_result"
    }
   ],
   "source": [
    "f\"The grade of {student} is {rounded_grade:.1f}%\""
   ]
  },
  {
   "cell_type": "code",
   "execution_count": 171,
   "metadata": {},
   "outputs": [],
   "source": [
    "msg = \"\"\"My name is James Bond and my email address\n",
    "is james.bond@mi6.co.uk\n",
    "Do not hesitate to write me. I'm a man for all seasons\n",
    "\"\"\""
   ]
  },
  {
   "cell_type": "code",
   "execution_count": 172,
   "metadata": {},
   "outputs": [
    {
     "name": "stdout",
     "output_type": "stream",
     "text": [
      "My name is James Bond and my email address\n",
      "is james.bond@mi6.co.uk\n",
      "Do not hesitate to write me. I'm a man for all seasons\n",
      "\n"
     ]
    }
   ],
   "source": [
    "print(msg)"
   ]
  },
  {
   "cell_type": "markdown",
   "metadata": {},
   "source": [
    "Extract the email address in the string `msg`"
   ]
  },
  {
   "cell_type": "markdown",
   "metadata": {},
   "source": [
    "**Solution 1**\n",
    "\n",
    "Use string functions"
   ]
  },
  {
   "cell_type": "code",
   "execution_count": 173,
   "metadata": {},
   "outputs": [],
   "source": [
    "# convert new line to a space\n",
    "msg2 = msg.replace('\\n', ' ')\n",
    "# first locate the location of the @\n",
    "at_index = msg2.find('@')\n",
    "# next find the white space after the @\n",
    "space_right = msg2.find(' ', at_index)\n",
    "# next find the white space before the @\n",
    "space_left = msg2.rfind(' ', 0, at_index)"
   ]
  },
  {
   "cell_type": "code",
   "execution_count": 174,
   "metadata": {},
   "outputs": [
    {
     "data": {
      "text/plain": [
       "(45, 56, 66)"
      ]
     },
     "execution_count": 174,
     "metadata": {},
     "output_type": "execute_result"
    }
   ],
   "source": [
    "space_left, at_index, space_right\n"
   ]
  },
  {
   "cell_type": "code",
   "execution_count": 175,
   "metadata": {},
   "outputs": [
    {
     "data": {
      "text/plain": [
       "'james.bond@mi6.co.uk'"
      ]
     },
     "execution_count": 175,
     "metadata": {},
     "output_type": "execute_result"
    }
   ],
   "source": [
    "bond_email=msg2[space_left+1:space_right]\n",
    "bond_email"
   ]
  },
  {
   "cell_type": "markdown",
   "metadata": {},
   "source": [
    "**Solution 2**\n",
    "\n",
    "Split to words and locate words with `@`"
   ]
  },
  {
   "cell_type": "code",
   "execution_count": 177,
   "metadata": {},
   "outputs": [
    {
     "data": {
      "text/plain": [
       "['My',\n",
       " 'name',\n",
       " 'is',\n",
       " 'James',\n",
       " 'Bond',\n",
       " 'and',\n",
       " 'my',\n",
       " 'email',\n",
       " 'address',\n",
       " 'is',\n",
       " 'james.bond@mi6.co.uk',\n",
       " 'Do',\n",
       " 'not',\n",
       " 'hesitate',\n",
       " 'to',\n",
       " 'write',\n",
       " 'me.',\n",
       " \"I'm\",\n",
       " 'a',\n",
       " 'man',\n",
       " 'for',\n",
       " 'all',\n",
       " 'seasons']"
      ]
     },
     "execution_count": 177,
     "metadata": {},
     "output_type": "execute_result"
    }
   ],
   "source": [
    "words = msg.split()\n",
    "words"
   ]
  },
  {
   "cell_type": "code",
   "execution_count": 178,
   "metadata": {},
   "outputs": [
    {
     "data": {
      "text/plain": [
       "'james.bond@mi6.co.uk'"
      ]
     },
     "execution_count": 178,
     "metadata": {},
     "output_type": "execute_result"
    }
   ],
   "source": [
    "bond_email = None\n",
    "for word in words:\n",
    "    if '@' in word:\n",
    "        bond_email = word\n",
    "bond_email"
   ]
  },
  {
   "cell_type": "code",
   "execution_count": 179,
   "metadata": {},
   "outputs": [],
   "source": [
    "the_cow_said=\"\"\"\n",
    "____________________________________ \n",
    "/ \"An ounce of prevention is worth a \\\n",
    "\\ pound of purge.\"                   /\n",
    " ------------------------------------ \n",
    "        \\   ^__^\n",
    "         \\  (oo)\\_______\n",
    "            (__)\\       )\\/\\\n",
    "                ||----w |\n",
    "                ||     ||\n",
    "\"\"\""
   ]
  },
  {
   "cell_type": "markdown",
   "metadata": {},
   "source": [
    "Extract the wisdom that the cow said"
   ]
  },
  {
   "cell_type": "markdown",
   "metadata": {},
   "source": [
    "**Solution 1**"
   ]
  },
  {
   "cell_type": "code",
   "execution_count": 181,
   "metadata": {},
   "outputs": [],
   "source": [
    "# The quote starts with \" and ends with \""
   ]
  },
  {
   "cell_type": "code",
   "execution_count": 182,
   "metadata": {},
   "outputs": [],
   "source": [
    "first_quote = the_cow_said.find('\"')\n",
    "second_quote = the_cow_said.rfind('\"')"
   ]
  },
  {
   "cell_type": "code",
   "execution_count": 183,
   "metadata": {},
   "outputs": [
    {
     "data": {
      "text/plain": [
       "'An ounce of prevention is worth a \\\\ pound of purge.'"
      ]
     },
     "execution_count": 183,
     "metadata": {},
     "output_type": "execute_result"
    }
   ],
   "source": [
    "wisdom = the_cow_said[first_quote+1:second_quote]\n",
    "wisdom"
   ]
  },
  {
   "cell_type": "code",
   "execution_count": 186,
   "metadata": {},
   "outputs": [
    {
     "data": {
      "text/plain": [
       "'An ounce of prevention is worth a  pound of purge.'"
      ]
     },
     "execution_count": 186,
     "metadata": {},
     "output_type": "execute_result"
    }
   ],
   "source": [
    "# clean the wisdom from \\\\\n",
    "wisdom = wisdom.replace(' \\\\ ', '')\n",
    "wisdom"
   ]
  },
  {
   "cell_type": "markdown",
   "metadata": {},
   "source": [
    "**Solution 2**"
   ]
  },
  {
   "cell_type": "code",
   "execution_count": 187,
   "metadata": {},
   "outputs": [
    {
     "data": {
      "text/plain": [
       "['\\n____________________________________ \\n/ ',\n",
       " 'An ounce of prevention is worth a \\\\ pound of purge.',\n",
       " '                   /\\n ------------------------------------ \\n        \\\\   ^__^\\n         \\\\  (oo)\\\\_______\\n            (__)\\\\       )\\\\/                ||----w |\\n                ||     ||\\n']"
      ]
     },
     "execution_count": 187,
     "metadata": {},
     "output_type": "execute_result"
    }
   ],
   "source": [
    "sentences = the_cow_said.split('\"')\n",
    "sentences"
   ]
  },
  {
   "cell_type": "code",
   "execution_count": 188,
   "metadata": {},
   "outputs": [
    {
     "data": {
      "text/plain": [
       "'An ounce of prevention is worth a  pound of purge.'"
      ]
     },
     "execution_count": 188,
     "metadata": {},
     "output_type": "execute_result"
    }
   ],
   "source": [
    "wisdom = sentences[1].replace('\\\\', '')\n",
    "wisdom"
   ]
  },
  {
   "cell_type": "markdown",
   "metadata": {},
   "source": [
    "0- use a loop to extract numbers from the secret message below.\n",
    "Note that numbers can contain the extra character `-`\n",
    "\n",
    "Write a loop to go over the words in the secrect message.\n",
    "Then write an inner loop to go over each character in the word.\n",
    "If all characters are numbers or `-` then the word is a number.\n",
    "Print it!"
   ]
  },
  {
   "cell_type": "code",
   "execution_count": 189,
   "metadata": {},
   "outputs": [],
   "source": [
    "msg = \"\"\"some secret information\n",
    "the client number is 444-222-5555 and her social\n",
    "is 345-22-5556\"\"\""
   ]
  },
  {
   "cell_type": "code",
   "execution_count": 190,
   "metadata": {},
   "outputs": [
    {
     "name": "stdout",
     "output_type": "stream",
     "text": [
      "0\n",
      "1\n",
      "2\n",
      "3\n",
      "4\n",
      "5\n",
      "6\n",
      "7\n",
      "8\n",
      "9\n",
      "i is ten\n"
     ]
    }
   ],
   "source": [
    "i = 0\n",
    "while i < 10:\n",
    "    print(i)\n",
    "    i += 1\n",
    "else:\n",
    "    print(\"i is ten\")"
   ]
  },
  {
   "cell_type": "code",
   "execution_count": 191,
   "metadata": {},
   "outputs": [
    {
     "name": "stdout",
     "output_type": "stream",
     "text": [
      "444-222-5555\n",
      "345-22-5556\n"
     ]
    }
   ],
   "source": [
    "words = msg.split()\n",
    "for word in words:\n",
    "    #print(word)\n",
    "    sensitive = True\n",
    "    for c in word:\n",
    "        if c not in '0123456789-':\n",
    "            sensitive = False\n",
    "            break\n",
    "    if sensitive:\n",
    "        print(word)"
   ]
  },
  {
   "cell_type": "code",
   "execution_count": 192,
   "metadata": {},
   "outputs": [
    {
     "name": "stdout",
     "output_type": "stream",
     "text": [
      "444-222-5555\n",
      "345-22-5556\n"
     ]
    }
   ],
   "source": [
    "words = msg.split()\n",
    "for word in words:\n",
    "    for c in word:\n",
    "        if c not in '0123456789-':\n",
    "            break\n",
    "    else:\n",
    "        print(word)"
   ]
  },
  {
   "cell_type": "code",
   "execution_count": 193,
   "metadata": {},
   "outputs": [
    {
     "data": {
      "text/plain": [
       "['some',\n",
       " 'secret',\n",
       " 'information',\n",
       " 'the',\n",
       " 'client',\n",
       " 'number',\n",
       " 'is',\n",
       " '444-222-5555',\n",
       " 'and',\n",
       " 'her',\n",
       " 'social',\n",
       " 'is',\n",
       " '345-22-5556']"
      ]
     },
     "execution_count": 193,
     "metadata": {},
     "output_type": "execute_result"
    }
   ],
   "source": [
    "words"
   ]
  },
  {
   "cell_type": "markdown",
   "metadata": {},
   "source": [
    "1- Write a loop that prints numbers from 1 to 31, append the prefix \"1-\" to the numbers, these are day of January, see sample output below"
   ]
  },
  {
   "cell_type": "code",
   "execution_count": 194,
   "metadata": {},
   "outputs": [
    {
     "data": {
      "text/plain": [
       "-30"
      ]
     },
     "execution_count": 194,
     "metadata": {},
     "output_type": "execute_result"
    }
   ],
   "source": [
    "1-1\n",
    "1-2\n",
    "1-3\n",
    "1-4\n",
    "1-5\n",
    "1-6\n",
    "1-7\n",
    "1-8\n",
    "1-9\n",
    "1-10\n",
    "1-11\n",
    "1-12\n",
    "1-13\n",
    "1-14\n",
    "1-15\n",
    "1-16\n",
    "1-17\n",
    "1-18\n",
    "1-19\n",
    "1-20\n",
    "1-21\n",
    "1-22\n",
    "1-23\n",
    "1-24\n",
    "1-25\n",
    "1-26\n",
    "1-27\n",
    "1-28\n",
    "1-29\n",
    "1-30\n",
    "1-31"
   ]
  },
  {
   "cell_type": "code",
   "execution_count": 195,
   "metadata": {},
   "outputs": [
    {
     "name": "stdout",
     "output_type": "stream",
     "text": [
      "1-1\n",
      "1-2\n",
      "1-3\n",
      "1-4\n",
      "1-5\n",
      "1-6\n",
      "1-7\n",
      "1-8\n",
      "1-9\n",
      "1-10\n",
      "1-11\n",
      "1-12\n",
      "1-13\n",
      "1-14\n",
      "1-15\n",
      "1-16\n",
      "1-17\n",
      "1-18\n",
      "1-19\n",
      "1-20\n",
      "1-21\n",
      "1-22\n",
      "1-23\n",
      "1-24\n",
      "1-25\n",
      "1-26\n",
      "1-27\n",
      "1-28\n",
      "1-29\n",
      "1-30\n",
      "1-31\n"
     ]
    }
   ],
   "source": [
    "for day in range(1, 32):\n",
    "    print(f\"1-{day}\")"
   ]
  },
  {
   "cell_type": "markdown",
   "metadata": {},
   "source": [
    "2- Vary the prefix from 1- to 12- to print all days of the year, do not worry about incorrect dates for now"
   ]
  },
  {
   "cell_type": "code",
   "execution_count": 196,
   "metadata": {},
   "outputs": [
    {
     "name": "stdout",
     "output_type": "stream",
     "text": [
      "1-1\n",
      "1-2\n",
      "1-3\n",
      "1-4\n",
      "1-5\n",
      "1-6\n",
      "1-7\n",
      "1-8\n",
      "1-9\n",
      "1-10\n",
      "1-11\n",
      "1-12\n",
      "1-13\n",
      "1-14\n",
      "1-15\n",
      "1-16\n",
      "1-17\n",
      "1-18\n",
      "1-19\n",
      "1-20\n",
      "1-21\n",
      "1-22\n",
      "1-23\n",
      "1-24\n",
      "1-25\n",
      "1-26\n",
      "1-27\n",
      "1-28\n",
      "1-29\n",
      "1-30\n",
      "1-31\n",
      "----------\n",
      "2-1\n",
      "2-2\n",
      "2-3\n",
      "2-4\n",
      "2-5\n",
      "2-6\n",
      "2-7\n",
      "2-8\n",
      "2-9\n",
      "2-10\n",
      "2-11\n",
      "2-12\n",
      "2-13\n",
      "2-14\n",
      "2-15\n",
      "2-16\n",
      "2-17\n",
      "2-18\n",
      "2-19\n",
      "2-20\n",
      "2-21\n",
      "2-22\n",
      "2-23\n",
      "2-24\n",
      "2-25\n",
      "2-26\n",
      "2-27\n",
      "2-28\n",
      "2-29\n",
      "2-30\n",
      "2-31\n",
      "----------\n",
      "3-1\n",
      "3-2\n",
      "3-3\n",
      "3-4\n",
      "3-5\n",
      "3-6\n",
      "3-7\n",
      "3-8\n",
      "3-9\n",
      "3-10\n",
      "3-11\n",
      "3-12\n",
      "3-13\n",
      "3-14\n",
      "3-15\n",
      "3-16\n",
      "3-17\n",
      "3-18\n",
      "3-19\n",
      "3-20\n",
      "3-21\n",
      "3-22\n",
      "3-23\n",
      "3-24\n",
      "3-25\n",
      "3-26\n",
      "3-27\n",
      "3-28\n",
      "3-29\n",
      "3-30\n",
      "3-31\n",
      "----------\n",
      "4-1\n",
      "4-2\n",
      "4-3\n",
      "4-4\n",
      "4-5\n",
      "4-6\n",
      "4-7\n",
      "4-8\n",
      "4-9\n",
      "4-10\n",
      "4-11\n",
      "4-12\n",
      "4-13\n",
      "4-14\n",
      "4-15\n",
      "4-16\n",
      "4-17\n",
      "4-18\n",
      "4-19\n",
      "4-20\n",
      "4-21\n",
      "4-22\n",
      "4-23\n",
      "4-24\n",
      "4-25\n",
      "4-26\n",
      "4-27\n",
      "4-28\n",
      "4-29\n",
      "4-30\n",
      "4-31\n",
      "----------\n",
      "5-1\n",
      "5-2\n",
      "5-3\n",
      "5-4\n",
      "5-5\n",
      "5-6\n",
      "5-7\n",
      "5-8\n",
      "5-9\n",
      "5-10\n",
      "5-11\n",
      "5-12\n",
      "5-13\n",
      "5-14\n",
      "5-15\n",
      "5-16\n",
      "5-17\n",
      "5-18\n",
      "5-19\n",
      "5-20\n",
      "5-21\n",
      "5-22\n",
      "5-23\n",
      "5-24\n",
      "5-25\n",
      "5-26\n",
      "5-27\n",
      "5-28\n",
      "5-29\n",
      "5-30\n",
      "5-31\n",
      "----------\n",
      "6-1\n",
      "6-2\n",
      "6-3\n",
      "6-4\n",
      "6-5\n",
      "6-6\n",
      "6-7\n",
      "6-8\n",
      "6-9\n",
      "6-10\n",
      "6-11\n",
      "6-12\n",
      "6-13\n",
      "6-14\n",
      "6-15\n",
      "6-16\n",
      "6-17\n",
      "6-18\n",
      "6-19\n",
      "6-20\n",
      "6-21\n",
      "6-22\n",
      "6-23\n",
      "6-24\n",
      "6-25\n",
      "6-26\n",
      "6-27\n",
      "6-28\n",
      "6-29\n",
      "6-30\n",
      "6-31\n",
      "----------\n",
      "7-1\n",
      "7-2\n",
      "7-3\n",
      "7-4\n",
      "7-5\n",
      "7-6\n",
      "7-7\n",
      "7-8\n",
      "7-9\n",
      "7-10\n",
      "7-11\n",
      "7-12\n",
      "7-13\n",
      "7-14\n",
      "7-15\n",
      "7-16\n",
      "7-17\n",
      "7-18\n",
      "7-19\n",
      "7-20\n",
      "7-21\n",
      "7-22\n",
      "7-23\n",
      "7-24\n",
      "7-25\n",
      "7-26\n",
      "7-27\n",
      "7-28\n",
      "7-29\n",
      "7-30\n",
      "7-31\n",
      "----------\n",
      "8-1\n",
      "8-2\n",
      "8-3\n",
      "8-4\n",
      "8-5\n",
      "8-6\n",
      "8-7\n",
      "8-8\n",
      "8-9\n",
      "8-10\n",
      "8-11\n",
      "8-12\n",
      "8-13\n",
      "8-14\n",
      "8-15\n",
      "8-16\n",
      "8-17\n",
      "8-18\n",
      "8-19\n",
      "8-20\n",
      "8-21\n",
      "8-22\n",
      "8-23\n",
      "8-24\n",
      "8-25\n",
      "8-26\n",
      "8-27\n",
      "8-28\n",
      "8-29\n",
      "8-30\n",
      "8-31\n",
      "----------\n",
      "9-1\n",
      "9-2\n",
      "9-3\n",
      "9-4\n",
      "9-5\n",
      "9-6\n",
      "9-7\n",
      "9-8\n",
      "9-9\n",
      "9-10\n",
      "9-11\n",
      "9-12\n",
      "9-13\n",
      "9-14\n",
      "9-15\n",
      "9-16\n",
      "9-17\n",
      "9-18\n",
      "9-19\n",
      "9-20\n",
      "9-21\n",
      "9-22\n",
      "9-23\n",
      "9-24\n",
      "9-25\n",
      "9-26\n",
      "9-27\n",
      "9-28\n",
      "9-29\n",
      "9-30\n",
      "9-31\n",
      "----------\n",
      "10-1\n",
      "10-2\n",
      "10-3\n",
      "10-4\n",
      "10-5\n",
      "10-6\n",
      "10-7\n",
      "10-8\n",
      "10-9\n",
      "10-10\n",
      "10-11\n",
      "10-12\n",
      "10-13\n",
      "10-14\n",
      "10-15\n",
      "10-16\n",
      "10-17\n",
      "10-18\n",
      "10-19\n",
      "10-20\n",
      "10-21\n",
      "10-22\n",
      "10-23\n",
      "10-24\n",
      "10-25\n",
      "10-26\n",
      "10-27\n",
      "10-28\n",
      "10-29\n",
      "10-30\n",
      "10-31\n",
      "----------\n",
      "11-1\n",
      "11-2\n",
      "11-3\n",
      "11-4\n",
      "11-5\n",
      "11-6\n",
      "11-7\n",
      "11-8\n",
      "11-9\n",
      "11-10\n",
      "11-11\n",
      "11-12\n",
      "11-13\n",
      "11-14\n",
      "11-15\n",
      "11-16\n",
      "11-17\n",
      "11-18\n",
      "11-19\n",
      "11-20\n",
      "11-21\n",
      "11-22\n",
      "11-23\n",
      "11-24\n",
      "11-25\n",
      "11-26\n",
      "11-27\n",
      "11-28\n",
      "11-29\n",
      "11-30\n",
      "11-31\n",
      "----------\n",
      "12-1\n",
      "12-2\n",
      "12-3\n",
      "12-4\n",
      "12-5\n",
      "12-6\n",
      "12-7\n",
      "12-8\n",
      "12-9\n",
      "12-10\n",
      "12-11\n",
      "12-12\n",
      "12-13\n",
      "12-14\n",
      "12-15\n",
      "12-16\n",
      "12-17\n",
      "12-18\n",
      "12-19\n",
      "12-20\n",
      "12-21\n",
      "12-22\n",
      "12-23\n",
      "12-24\n",
      "12-25\n",
      "12-26\n",
      "12-27\n",
      "12-28\n",
      "12-29\n",
      "12-30\n",
      "12-31\n",
      "----------\n"
     ]
    }
   ],
   "source": [
    "for month in range(1,13):\n",
    "    for day in range(1, 32):\n",
    "        print(f\"{month}-{day}\")\n",
    "    print(10*\"-\")"
   ]
  },
  {
   "cell_type": "markdown",
   "metadata": {},
   "source": [
    "3- now, address the issue of some months being only 30 days and february if 29 days (this year)"
   ]
  },
  {
   "cell_type": "code",
   "execution_count": 197,
   "metadata": {},
   "outputs": [
    {
     "name": "stdout",
     "output_type": "stream",
     "text": [
      "1-1\n",
      "1-2\n",
      "1-3\n",
      "1-4\n",
      "1-5\n",
      "1-6\n",
      "1-7\n",
      "1-8\n",
      "1-9\n",
      "1-10\n",
      "1-11\n",
      "1-12\n",
      "1-13\n",
      "1-14\n",
      "1-15\n",
      "1-16\n",
      "1-17\n",
      "1-18\n",
      "1-19\n",
      "1-20\n",
      "1-21\n",
      "1-22\n",
      "1-23\n",
      "1-24\n",
      "1-25\n",
      "1-26\n",
      "1-27\n",
      "1-28\n",
      "1-29\n",
      "1-30\n",
      "1-31\n",
      "----------\n",
      "2-1\n",
      "2-2\n",
      "2-3\n",
      "2-4\n",
      "2-5\n",
      "2-6\n",
      "2-7\n",
      "2-8\n",
      "2-9\n",
      "2-10\n",
      "2-11\n",
      "2-12\n",
      "2-13\n",
      "2-14\n",
      "2-15\n",
      "2-16\n",
      "2-17\n",
      "2-18\n",
      "2-19\n",
      "2-20\n",
      "2-21\n",
      "2-22\n",
      "2-23\n",
      "2-24\n",
      "2-25\n",
      "2-26\n",
      "2-27\n",
      "2-28\n",
      "2-29\n",
      "----------\n",
      "3-1\n",
      "3-2\n",
      "3-3\n",
      "3-4\n",
      "3-5\n",
      "3-6\n",
      "3-7\n",
      "3-8\n",
      "3-9\n",
      "3-10\n",
      "3-11\n",
      "3-12\n",
      "3-13\n",
      "3-14\n",
      "3-15\n",
      "3-16\n",
      "3-17\n",
      "3-18\n",
      "3-19\n",
      "3-20\n",
      "3-21\n",
      "3-22\n",
      "3-23\n",
      "3-24\n",
      "3-25\n",
      "3-26\n",
      "3-27\n",
      "3-28\n",
      "3-29\n",
      "3-30\n",
      "3-31\n",
      "----------\n",
      "4-1\n",
      "4-2\n",
      "4-3\n",
      "4-4\n",
      "4-5\n",
      "4-6\n",
      "4-7\n",
      "4-8\n",
      "4-9\n",
      "4-10\n",
      "4-11\n",
      "4-12\n",
      "4-13\n",
      "4-14\n",
      "4-15\n",
      "4-16\n",
      "4-17\n",
      "4-18\n",
      "4-19\n",
      "4-20\n",
      "4-21\n",
      "4-22\n",
      "4-23\n",
      "4-24\n",
      "4-25\n",
      "4-26\n",
      "4-27\n",
      "4-28\n",
      "4-29\n",
      "4-30\n",
      "----------\n",
      "5-1\n",
      "5-2\n",
      "5-3\n",
      "5-4\n",
      "5-5\n",
      "5-6\n",
      "5-7\n",
      "5-8\n",
      "5-9\n",
      "5-10\n",
      "5-11\n",
      "5-12\n",
      "5-13\n",
      "5-14\n",
      "5-15\n",
      "5-16\n",
      "5-17\n",
      "5-18\n",
      "5-19\n",
      "5-20\n",
      "5-21\n",
      "5-22\n",
      "5-23\n",
      "5-24\n",
      "5-25\n",
      "5-26\n",
      "5-27\n",
      "5-28\n",
      "5-29\n",
      "5-30\n",
      "5-31\n",
      "----------\n",
      "6-1\n",
      "6-2\n",
      "6-3\n",
      "6-4\n",
      "6-5\n",
      "6-6\n",
      "6-7\n",
      "6-8\n",
      "6-9\n",
      "6-10\n",
      "6-11\n",
      "6-12\n",
      "6-13\n",
      "6-14\n",
      "6-15\n",
      "6-16\n",
      "6-17\n",
      "6-18\n",
      "6-19\n",
      "6-20\n",
      "6-21\n",
      "6-22\n",
      "6-23\n",
      "6-24\n",
      "6-25\n",
      "6-26\n",
      "6-27\n",
      "6-28\n",
      "6-29\n",
      "6-30\n",
      "----------\n",
      "7-1\n",
      "7-2\n",
      "7-3\n",
      "7-4\n",
      "7-5\n",
      "7-6\n",
      "7-7\n",
      "7-8\n",
      "7-9\n",
      "7-10\n",
      "7-11\n",
      "7-12\n",
      "7-13\n",
      "7-14\n",
      "7-15\n",
      "7-16\n",
      "7-17\n",
      "7-18\n",
      "7-19\n",
      "7-20\n",
      "7-21\n",
      "7-22\n",
      "7-23\n",
      "7-24\n",
      "7-25\n",
      "7-26\n",
      "7-27\n",
      "7-28\n",
      "7-29\n",
      "7-30\n",
      "7-31\n",
      "----------\n",
      "8-1\n",
      "8-2\n",
      "8-3\n",
      "8-4\n",
      "8-5\n",
      "8-6\n",
      "8-7\n",
      "8-8\n",
      "8-9\n",
      "8-10\n",
      "8-11\n",
      "8-12\n",
      "8-13\n",
      "8-14\n",
      "8-15\n",
      "8-16\n",
      "8-17\n",
      "8-18\n",
      "8-19\n",
      "8-20\n",
      "8-21\n",
      "8-22\n",
      "8-23\n",
      "8-24\n",
      "8-25\n",
      "8-26\n",
      "8-27\n",
      "8-28\n",
      "8-29\n",
      "8-30\n",
      "8-31\n",
      "----------\n",
      "9-1\n",
      "9-2\n",
      "9-3\n",
      "9-4\n",
      "9-5\n",
      "9-6\n",
      "9-7\n",
      "9-8\n",
      "9-9\n",
      "9-10\n",
      "9-11\n",
      "9-12\n",
      "9-13\n",
      "9-14\n",
      "9-15\n",
      "9-16\n",
      "9-17\n",
      "9-18\n",
      "9-19\n",
      "9-20\n",
      "9-21\n",
      "9-22\n",
      "9-23\n",
      "9-24\n",
      "9-25\n",
      "9-26\n",
      "9-27\n",
      "9-28\n",
      "9-29\n",
      "9-30\n",
      "----------\n",
      "10-1\n",
      "10-2\n",
      "10-3\n",
      "10-4\n",
      "10-5\n",
      "10-6\n",
      "10-7\n",
      "10-8\n",
      "10-9\n",
      "10-10\n",
      "10-11\n",
      "10-12\n",
      "10-13\n",
      "10-14\n",
      "10-15\n",
      "10-16\n",
      "10-17\n",
      "10-18\n",
      "10-19\n",
      "10-20\n",
      "10-21\n",
      "10-22\n",
      "10-23\n",
      "10-24\n",
      "10-25\n",
      "10-26\n",
      "10-27\n",
      "10-28\n",
      "10-29\n",
      "10-30\n",
      "10-31\n",
      "----------\n",
      "11-1\n",
      "11-2\n",
      "11-3\n",
      "11-4\n",
      "11-5\n",
      "11-6\n",
      "11-7\n",
      "11-8\n",
      "11-9\n",
      "11-10\n",
      "11-11\n",
      "11-12\n",
      "11-13\n",
      "11-14\n",
      "11-15\n",
      "11-16\n",
      "11-17\n",
      "11-18\n",
      "11-19\n",
      "11-20\n",
      "11-21\n",
      "11-22\n",
      "11-23\n",
      "11-24\n",
      "11-25\n",
      "11-26\n",
      "11-27\n",
      "11-28\n",
      "11-29\n",
      "11-30\n",
      "----------\n",
      "12-1\n",
      "12-2\n",
      "12-3\n",
      "12-4\n",
      "12-5\n",
      "12-6\n",
      "12-7\n",
      "12-8\n",
      "12-9\n",
      "12-10\n",
      "12-11\n",
      "12-12\n",
      "12-13\n",
      "12-14\n",
      "12-15\n",
      "12-16\n",
      "12-17\n",
      "12-18\n",
      "12-19\n",
      "12-20\n",
      "12-21\n",
      "12-22\n",
      "12-23\n",
      "12-24\n",
      "12-25\n",
      "12-26\n",
      "12-27\n",
      "12-28\n",
      "12-29\n",
      "12-30\n",
      "12-31\n",
      "----------\n"
     ]
    }
   ],
   "source": [
    "for month in range(1,13):\n",
    "    \n",
    "    if month in [4,6,9,11]:\n",
    "        days = 30\n",
    "    elif month == 2:\n",
    "        days = 29\n",
    "    else:\n",
    "        days = 31\n",
    "        \n",
    "    for day in range(1, days + 1):\n",
    "        print(f\"{month}-{day}\")\n",
    "    print(10*\"-\")"
   ]
  },
  {
   "cell_type": "code",
   "execution_count": 198,
   "metadata": {},
   "outputs": [],
   "source": [
    "msg = \"\"\"some secret information\n",
    "the client number is 444-222-5555 and her social\n",
    "is 345-22-5556 email is precious.client@wealth.org\n",
    "other than that the weather is sunny and life is good\"\"\""
   ]
  },
  {
   "cell_type": "markdown",
   "metadata": {},
   "source": [
    "Write a function `classify` that takes a string and classifies sensitive information. Use the functions `is_number` and `mask` from the warmup exercise.\n",
    "\n",
    "For example, classifying `msg` should returns\n",
    "\n",
    "`some secret information\n",
    "the client number is ************ and her social\n",
    "is *********** email is precious.client@wealth.org\n",
    "other than that the weather is sunny and life is good`"
   ]
  },
  {
   "cell_type": "code",
   "execution_count": 199,
   "metadata": {},
   "outputs": [],
   "source": [
    "def mask(text, masking_character='*'):\n",
    "    return masking_character * len(text)"
   ]
  },
  {
   "cell_type": "code",
   "execution_count": 200,
   "metadata": {},
   "outputs": [],
   "source": [
    "def is_number(word):\n",
    "    for letter in word: #you can iterate over string!\n",
    "        if letter not in [\"0\", \"1\", \"2\", \"3\", \"4\", \"5\", \"6\", \"7\", \"8\", \"9\", \"-\"]:\n",
    "            return False\n",
    "    else: #means all letters are digits or -\n",
    "        return True"
   ]
  },
  {
   "cell_type": "code",
   "execution_count": 201,
   "metadata": {},
   "outputs": [],
   "source": [
    "def classify(msg):\n",
    "    words = msg.split()\n",
    "    for word in words:\n",
    "        if is_number(word):\n",
    "            msg = msg.replace(word, mask(word))\n",
    "    return msg"
   ]
  },
  {
   "cell_type": "code",
   "execution_count": 202,
   "metadata": {},
   "outputs": [
    {
     "name": "stdout",
     "output_type": "stream",
     "text": [
      "some secret information\n",
      "the client number is ************ and her social\n",
      "is *********** email is precious.client@wealth.org\n",
      "other than that the weather is sunny and life is good\n"
     ]
    }
   ],
   "source": [
    "print(classify(msg))"
   ]
  },
  {
   "cell_type": "markdown",
   "metadata": {},
   "source": [
    "The last function will take care of sensitive numbers, but we would like to classify other sensitive information such as emails. I provide below a function `is_email` that returns `True` if the parameter is an email address\n",
    "\n",
    "Modify, the function `classify` to take an optional parameter, which is the function to use to detect sensitive information (e.g., is_number, is_email)\n",
    "\n",
    "Use the new function along with `is_number` and `is_email` to classify `msg`\n",
    "\n",
    "For example, `print(classifiy(msg, is_number))` should print\n",
    "\n",
    "`some secret information\n",
    "the client number is ************ and her social\n",
    "is *********** email is precious.client@wealth.org\n",
    "other than that the weather is sunny and life is good`\n",
    "\n",
    "and `print(classifiy(msg, is_email))` should print\n",
    "\n",
    "`some secret information\n",
    "the client number is 444-222-5555 and her social\n",
    "is 345-22-5556 email is **************************\n",
    "other than that the weather is sunny and life is good`\n",
    "\n",
    "Can you classify both numbers and emails?"
   ]
  },
  {
   "cell_type": "code",
   "execution_count": 203,
   "metadata": {},
   "outputs": [],
   "source": [
    "def is_email(text):\n",
    "    return '@' in text and not text.startswith('@')"
   ]
  },
  {
   "cell_type": "code",
   "execution_count": 204,
   "metadata": {},
   "outputs": [],
   "source": [
    "def classify(msg, is_sensitive = is_number):\n",
    "    words = msg.split()\n",
    "    for word in words:\n",
    "        if is_sensitive(word):\n",
    "            msg = msg.replace(word, mask(word))\n",
    "    return msg"
   ]
  },
  {
   "cell_type": "code",
   "execution_count": 205,
   "metadata": {},
   "outputs": [
    {
     "name": "stdout",
     "output_type": "stream",
     "text": [
      "some secret information\n",
      "the client number is ************ and her social\n",
      "is *********** email is precious.client@wealth.org\n",
      "other than that the weather is sunny and life is good\n"
     ]
    }
   ],
   "source": [
    "print(classify(msg))"
   ]
  },
  {
   "cell_type": "code",
   "execution_count": 206,
   "metadata": {},
   "outputs": [
    {
     "name": "stdout",
     "output_type": "stream",
     "text": [
      "some secret information\n",
      "the client number is 444-222-5555 and her social\n",
      "is 345-22-5556 email is **************************\n",
      "other than that the weather is sunny and life is good\n"
     ]
    }
   ],
   "source": [
    "print(classify(msg, is_email))"
   ]
  },
  {
   "cell_type": "code",
   "execution_count": 207,
   "metadata": {},
   "outputs": [
    {
     "name": "stdout",
     "output_type": "stream",
     "text": [
      "some secret information\n",
      "the client number is ************ and her social\n",
      "is *********** email is **************************\n",
      "other than that the weather is sunny and life is good\n"
     ]
    }
   ],
   "source": [
    "print(classify(classify(msg, is_email)))"
   ]
  },
  {
   "cell_type": "code",
   "execution_count": 208,
   "metadata": {},
   "outputs": [
    {
     "name": "stdout",
     "output_type": "stream",
     "text": [
      "some secret information\n",
      "the client number is ************ and her social\n",
      "is *********** email is **************************\n",
      "other than that the weather is sunny and life is good\n"
     ]
    }
   ],
   "source": [
    "print(classify(msg, lambda x: is_email(x) or is_number(x)))"
   ]
  },
  {
   "cell_type": "markdown",
   "metadata": {},
   "source": [
    "Many news analytics tools aggregate content from popular news outlet and highlight trending and important topics. As an example, check out [Infomous](https://www.infomous.com)\n",
    "\n",
    "Let us build a mini news analytics tool. Using CNN top news stories on `9/3/2019`\n",
    "\n",
    "- How many words does `article` contain?\n",
    "- How many unique words?\n",
    "- Sort these words by their frequency\n",
    "- Some of the words have high frequency because they are common words in english, the list `stop_words` contains a list of these words. Exclude words in `stop_words` from your report of the above"
   ]
  },
  {
   "cell_type": "code",
   "execution_count": 209,
   "metadata": {},
   "outputs": [],
   "source": [
    "article = \"\"\"Hurricane Dorian leaves terrible damage and stranded residents in Bahamas\n",
    "While residents evacuate, these men and women are flying straight into Hurricane Dorian\n",
    "Here's what Hurricane Dorian is expected to do as it crawls toward the US\n",
    "Bahamas' tourism could be devastated for a long time after Hurricane Dorian\n",
    "Why Donald Trump golfing during Hurricane Dorian is a problem\n",
    "Opinion: Donald Trump isn't up to the job\n",
    "Quickly catch up on the day's news\n",
    "Pentagon diverts $3.6 billion in military construction funds to build Trump's border wall\n",
    "These were the passengers and crew members on board the California dive boat\n",
    "What we know about the California dive boat and its last excursion\n",
    "Search suspended in the deadly dive-boat fire off California coast\n",
    "Opinion: The diving world tries to come to grips with devastating fire\n",
    "Here's the real reason Mike Pence is staying at Donald Trump's hotel in Ireland\n",
    "Want to live longer? You may want to ditch these drinks\n",
    "Judge rules White House must give Playboy columnist Brian Karem his press pass back\n",
    "Boris Johnson has just taken a huge gamble over Brexit\n",
    "Brexit rebels seize Parliament's agenda in major blow to Boris Johnson\n",
    "The UK could be heading for an early election. Here's what you need to know\n",
    "What is a no-deal Brexit and what would it mean for Britain?\n",
    "West Texas shooter bought gun in private sale\n",
    "Teenage boy goes blind after existing on Pringles and french fries\n",
    "A 14-year-old confessed to killing all five of his family members in an Alabama home, authorities say\n",
    "Dorian, Comey and Debra Messing: What Trump tweeted on Labor Day weekend\n",
    "Kroger asks customers not to openly carry guns in its stores\n",
    "Walmart ends all handgun ammunition sales and asks customers not to carry guns into stores\n",
    "Walmart CEO implores Congress to 'do their part' to stop gun violence\n",
    "McConnell says he won't take up gun bill unless Trump says he will sign it\n",
    "Police: Driver charged in abduction says child was sold for $10,000\n",
    "Kristen Stewart says she was told not to hold hands with her girlfriend in public\n",
    "Ariana Grande sues Forever 21 over ads featuring 'look-alike model'\n",
    "Chicago mayor to Ted Cruz over city shootings: 'Keep our name out of your mouth'\n",
    "An airline employee thought two men at Newark airport looked suspicious so she yelled for people to evacuate\n",
    "Detroit Tigers prospect dies after electric skateboard accident\n",
    "Mattis dodges when asked if he will speak candidly about Trump before 2020 election\n",
    "Biden's campaign is already making Iowa excuses\n",
    "Elizabeth Warren embraces Jay Inslee's climate change platform\n",
    "Joe Manchin announces he'll stay in Senate and won't run for West Virginia governor\n",
    "1 quote that perfectly explains the 2020 Democratic primary\n",
    "This is why Congress remains deadlocked on climate and guns\n",
    "Popeyes customer pulls a gun after being told there were no more chicken sandwiches\n",
    "Robert Pattinson was blanking 'furious' over Batman leak\n",
    "Justin Bieber shares use of 'heavy drugs' in revealing post\n",
    "Cherokee Nation names first ever delegate to Congress\n",
    "US, UK, France and Iran may be complicit in Yemen war crimes, UN says\n",
    "Loud 'boom' reported across Central New York was probably a fireball entering Earth's atmosphere\n",
    "Man arrested for buying ticket just to wave his wife off at gate\n",
    "The problem of an 'infestation' of travel influencers\n",
    "'It Chapter Two' doesn't know when to close the book\n",
    "Leslie Jones bids 'Saturday Night Live' farewell\n",
    "Days after her brother was charged in a triple slaying, Simone Biles says her heart aches 'especially for the victims'\n",
    "Actor Cuba Gooding Jr.'s sex abuse trial has been delayed\n",
    "Emma Thompson: Everything depends on what we do now\"\"\""
   ]
  },
  {
   "cell_type": "code",
   "execution_count": 210,
   "metadata": {},
   "outputs": [],
   "source": [
    "words = article.split()"
   ]
  },
  {
   "cell_type": "code",
   "execution_count": 211,
   "metadata": {},
   "outputs": [
    {
     "data": {
      "text/plain": [
       "606"
      ]
     },
     "execution_count": 211,
     "metadata": {},
     "output_type": "execute_result"
    }
   ],
   "source": [
    "#How many words does article contain?\n",
    "len(words)"
   ]
  },
  {
   "cell_type": "code",
   "execution_count": 212,
   "metadata": {},
   "outputs": [
    {
     "data": {
      "text/plain": [
       "418"
      ]
     },
     "execution_count": 212,
     "metadata": {},
     "output_type": "execute_result"
    }
   ],
   "source": [
    "#How many unique words?\n",
    "unique_words = set(words)\n",
    "len(unique_words)"
   ]
  },
  {
   "cell_type": "code",
   "execution_count": 213,
   "metadata": {},
   "outputs": [],
   "source": [
    "#Sort these words by their frequency\n",
    "word_freq = {}\n",
    "# first initialize the dictionary\n",
    "for word in unique_words:\n",
    "    word_freq[word]=0\n",
    "# second, process text, increase count for each word\n",
    "for word in words:\n",
    "    word_freq[word]+=1"
   ]
  },
  {
   "cell_type": "code",
   "execution_count": 214,
   "metadata": {},
   "outputs": [
    {
     "data": {
      "text/plain": [
       "{'fireball': 1,\n",
       " \"Biden's\": 1,\n",
       " 'You': 1,\n",
       " \"Parliament's\": 1,\n",
       " 'Comey': 1,\n",
       " 'sale': 1,\n",
       " 'Congress': 3,\n",
       " 'White': 1,\n",
       " 'says': 6,\n",
       " 'House': 1,\n",
       " 'Driver': 1,\n",
       " 'Joe': 1,\n",
       " \"Jr.'s\": 1,\n",
       " \"drugs'\": 1,\n",
       " 'Pentagon': 1,\n",
       " \"Earth's\": 1,\n",
       " 'people': 1,\n",
       " \"model'\": 1,\n",
       " 'embraces': 1,\n",
       " 'sues': 1,\n",
       " 'Iowa': 1,\n",
       " 'Iran': 1,\n",
       " 'Simone': 1,\n",
       " 'being': 1,\n",
       " 'dodges': 1,\n",
       " 'dive-boat': 1,\n",
       " 'Donald': 3,\n",
       " 'golfing': 1,\n",
       " 'agenda': 1,\n",
       " 'could': 2,\n",
       " 'post': 1,\n",
       " 'reason': 1,\n",
       " 'Quickly': 1,\n",
       " 'give': 1,\n",
       " 'Central': 1,\n",
       " 'Karem': 1,\n",
       " 'military': 1,\n",
       " 'public': 1,\n",
       " 'ends': 1,\n",
       " \"Two'\": 1,\n",
       " \"he'll\": 1,\n",
       " 'construction': 1,\n",
       " 'straight': 1,\n",
       " 'Justin': 1,\n",
       " 'Mike': 1,\n",
       " 'our': 1,\n",
       " 'election': 1,\n",
       " 'Stewart': 1,\n",
       " 'hotel': 1,\n",
       " 'ever': 1,\n",
       " 'electric': 1,\n",
       " 'job': 1,\n",
       " 'farewell': 1,\n",
       " 'an': 3,\n",
       " 'Biles': 1,\n",
       " 'catch': 1,\n",
       " 'members': 2,\n",
       " 'violence': 1,\n",
       " \"'Keep\": 1,\n",
       " 'now': 1,\n",
       " 'confessed': 1,\n",
       " 'about': 2,\n",
       " \"Inslee's\": 1,\n",
       " 'shares': 1,\n",
       " '$10,000': 1,\n",
       " 'longer?': 1,\n",
       " 'want': 1,\n",
       " 'entering': 1,\n",
       " 'with': 2,\n",
       " 'girlfriend': 1,\n",
       " 'bids': 1,\n",
       " 'Warren': 1,\n",
       " 'depends': 1,\n",
       " 'change': 1,\n",
       " 'say': 1,\n",
       " 'last': 1,\n",
       " 'excursion': 1,\n",
       " 'While': 1,\n",
       " 'California': 3,\n",
       " 'Police:': 1,\n",
       " 'unless': 1,\n",
       " 'Dorian': 5,\n",
       " 'trial': 1,\n",
       " 'Emma': 1,\n",
       " 'Kroger': 1,\n",
       " 'seize': 1,\n",
       " 'complicit': 1,\n",
       " 'brother': 1,\n",
       " \"'Saturday\": 1,\n",
       " \"Live'\": 1,\n",
       " 'Pence': 1,\n",
       " 'tries': 1,\n",
       " 'York': 1,\n",
       " 'Alabama': 1,\n",
       " 'speak': 1,\n",
       " 'Virginia': 1,\n",
       " 'shootings:': 1,\n",
       " 'book': 1,\n",
       " 'border': 1,\n",
       " 'expected': 1,\n",
       " 'huge': 1,\n",
       " 'his': 3,\n",
       " 'platform': 1,\n",
       " \"Bahamas'\": 1,\n",
       " 'perfectly': 1,\n",
       " 'sex': 1,\n",
       " \"'boom'\": 1,\n",
       " 'West': 2,\n",
       " 'Everything': 1,\n",
       " 'prospect': 1,\n",
       " 'these': 2,\n",
       " 'openly': 1,\n",
       " 'was': 5,\n",
       " 'off': 2,\n",
       " 'heading': 1,\n",
       " 'hands': 1,\n",
       " 'triple': 1,\n",
       " 'gun': 4,\n",
       " 'Ariana': 1,\n",
       " 'on': 6,\n",
       " 'airline': 1,\n",
       " 'Forever': 1,\n",
       " 'aches': 1,\n",
       " 'may': 2,\n",
       " 'devastating': 1,\n",
       " 'stay': 1,\n",
       " '$3.6': 1,\n",
       " 'candidly': 1,\n",
       " 'a': 7,\n",
       " 'slaying,': 1,\n",
       " 'ticket': 1,\n",
       " 'Ireland': 1,\n",
       " 'taken': 1,\n",
       " 'take': 1,\n",
       " 'sold': 1,\n",
       " 'stop': 1,\n",
       " 'child': 1,\n",
       " 'no': 1,\n",
       " 'A': 1,\n",
       " 'Cherokee': 1,\n",
       " 'handgun': 1,\n",
       " 'of': 5,\n",
       " 'their': 1,\n",
       " 'war': 1,\n",
       " 'columnist': 1,\n",
       " 'US,': 1,\n",
       " 'probably': 1,\n",
       " \"'do\": 1,\n",
       " 'news': 1,\n",
       " 'its': 2,\n",
       " 'France': 1,\n",
       " 'Newark': 1,\n",
       " 'leaves': 1,\n",
       " 'you': 1,\n",
       " 'An': 1,\n",
       " 'residents': 2,\n",
       " 'employee': 1,\n",
       " 'Grande': 1,\n",
       " 'reported': 1,\n",
       " 'name': 1,\n",
       " \"Here's\": 3,\n",
       " 'governor': 1,\n",
       " 'across': 1,\n",
       " \"part'\": 1,\n",
       " 'announces': 1,\n",
       " \"'furious'\": 1,\n",
       " 'grips': 1,\n",
       " 'gate': 1,\n",
       " 'goes': 1,\n",
       " 'Bieber': 1,\n",
       " '1': 1,\n",
       " 'Thompson:': 1,\n",
       " 'asked': 1,\n",
       " 'Britain?': 1,\n",
       " 'back': 1,\n",
       " \"'look-alike\": 1,\n",
       " 'rebels': 1,\n",
       " 'tweeted': 1,\n",
       " 'flying': 1,\n",
       " 'Brian': 1,\n",
       " 'no-deal': 1,\n",
       " 'accident': 1,\n",
       " 'men': 2,\n",
       " 'all': 2,\n",
       " 'carry': 2,\n",
       " 'Elizabeth': 1,\n",
       " 'stranded': 1,\n",
       " 'time': 1,\n",
       " 'Gooding': 1,\n",
       " 'atmosphere': 1,\n",
       " 'Pattinson': 1,\n",
       " 'sign': 1,\n",
       " 'passengers': 1,\n",
       " 'Hurricane': 5,\n",
       " 'fire': 2,\n",
       " 'influencers': 1,\n",
       " 'crew': 1,\n",
       " 'early': 1,\n",
       " 'use': 1,\n",
       " 'Johnson': 2,\n",
       " 'delegate': 1,\n",
       " 'revealing': 1,\n",
       " 'quote': 1,\n",
       " 'there': 1,\n",
       " 'were': 2,\n",
       " 'Messing:': 1,\n",
       " 'These': 1,\n",
       " 'problem': 2,\n",
       " 'need': 1,\n",
       " 'already': 1,\n",
       " 'run': 1,\n",
       " 'toward': 1,\n",
       " 'more': 1,\n",
       " 'making': 1,\n",
       " 'into': 2,\n",
       " \"isn't\": 1,\n",
       " 'CEO': 1,\n",
       " 'staying': 1,\n",
       " 'explains': 1,\n",
       " 'Tigers': 1,\n",
       " 'her': 3,\n",
       " 'pulls': 1,\n",
       " 'implores': 1,\n",
       " 'gamble': 1,\n",
       " 'Nation': 1,\n",
       " 'and': 11,\n",
       " 'crawls': 1,\n",
       " 'wife': 1,\n",
       " 'ammunition': 1,\n",
       " 'travel': 1,\n",
       " 'two': 1,\n",
       " 'told': 2,\n",
       " 'Jones': 1,\n",
       " 'diverts': 1,\n",
       " 'election.': 1,\n",
       " 'blind': 1,\n",
       " 'Boris': 2,\n",
       " 'Brexit': 3,\n",
       " 'arrested': 1,\n",
       " 'Batman': 1,\n",
       " \"day's\": 1,\n",
       " 'dive': 2,\n",
       " \"'It\": 1,\n",
       " 'Chicago': 1,\n",
       " 'he': 3,\n",
       " 'remains': 1,\n",
       " 'be': 3,\n",
       " 'has': 2,\n",
       " 'pass': 1,\n",
       " 'featuring': 1,\n",
       " 'Why': 1,\n",
       " 'for': 8,\n",
       " 'abduction': 1,\n",
       " 'asks': 2,\n",
       " 'Ted': 1,\n",
       " 'do': 2,\n",
       " 'stores': 2,\n",
       " 'guns': 3,\n",
       " 'your': 1,\n",
       " 'mean': 1,\n",
       " 'Debra': 1,\n",
       " 'Days': 1,\n",
       " 'Loud': 1,\n",
       " 'wave': 1,\n",
       " 'why': 1,\n",
       " 'home,': 1,\n",
       " 'suspicious': 1,\n",
       " 'just': 2,\n",
       " \"'infestation'\": 1,\n",
       " 'delayed': 1,\n",
       " 'press': 1,\n",
       " 'boy': 1,\n",
       " 'that': 1,\n",
       " \"won't\": 2,\n",
       " 'so': 1,\n",
       " 'heart': 1,\n",
       " 'when': 2,\n",
       " 'Manchin': 1,\n",
       " 'Chapter': 1,\n",
       " 'evacuate,': 1,\n",
       " 'yelled': 1,\n",
       " 'UK,': 1,\n",
       " 'coast': 1,\n",
       " 'Jay': 1,\n",
       " 'boat': 2,\n",
       " 'would': 1,\n",
       " 'Actor': 1,\n",
       " '2020': 2,\n",
       " 'Labor': 1,\n",
       " 'in': 14,\n",
       " 'board': 1,\n",
       " \"mouth'\": 1,\n",
       " 'french': 1,\n",
       " 'primary': 1,\n",
       " 'customer': 1,\n",
       " 'major': 1,\n",
       " 'campaign': 1,\n",
       " 'what': 4,\n",
       " 'before': 1,\n",
       " 'hold': 1,\n",
       " 'fries': 1,\n",
       " 'Day': 1,\n",
       " 'sandwiches': 1,\n",
       " 'devastated': 1,\n",
       " 'come': 1,\n",
       " 'suspended': 1,\n",
       " 'Leslie': 1,\n",
       " 'terrible': 1,\n",
       " 'Detroit': 1,\n",
       " 'authorities': 1,\n",
       " 'Mattis': 1,\n",
       " 'know': 3,\n",
       " 'buying': 1,\n",
       " 'New': 1,\n",
       " 'is': 6,\n",
       " 'skateboard': 1,\n",
       " 'damage': 1,\n",
       " 'Pringles': 1,\n",
       " 'been': 1,\n",
       " 'the': 11,\n",
       " 'women': 1,\n",
       " 'airport': 1,\n",
       " 'shooter': 1,\n",
       " 'Judge': 1,\n",
       " 'killing': 1,\n",
       " 'charged': 2,\n",
       " 'weekend': 1,\n",
       " 'out': 1,\n",
       " 'ditch': 1,\n",
       " '21': 1,\n",
       " 'rules': 1,\n",
       " 'sales': 1,\n",
       " 'Walmart': 2,\n",
       " 'US': 1,\n",
       " 'ads': 1,\n",
       " 'must': 1,\n",
       " 'Kristen': 1,\n",
       " 'Cruz': 1,\n",
       " 'leak': 1,\n",
       " 'long': 1,\n",
       " 'dies': 1,\n",
       " 'blow': 1,\n",
       " 'blanking': 1,\n",
       " \"'especially\": 1,\n",
       " 'real': 1,\n",
       " 'Cuba': 1,\n",
       " 'Teenage': 1,\n",
       " 'deadlocked': 1,\n",
       " 'Man': 1,\n",
       " \"doesn't\": 1,\n",
       " 'This': 1,\n",
       " 'billion': 1,\n",
       " 'she': 2,\n",
       " 'The': 3,\n",
       " 'private': 1,\n",
       " \"'heavy\": 1,\n",
       " '14-year-old': 1,\n",
       " 'UK': 1,\n",
       " 'Popeyes': 1,\n",
       " 'Democratic': 1,\n",
       " 'drinks': 1,\n",
       " 'first': 1,\n",
       " 'Night': 1,\n",
       " 'climate': 2,\n",
       " 'Trump': 5,\n",
       " 'What': 3,\n",
       " 'diving': 1,\n",
       " 'Want': 1,\n",
       " 'during': 1,\n",
       " 'existing': 1,\n",
       " 'build': 1,\n",
       " 'live': 1,\n",
       " \"Trump's\": 2,\n",
       " 'city': 1,\n",
       " 'Robert': 1,\n",
       " 'looked': 1,\n",
       " 'bought': 1,\n",
       " 'over': 4,\n",
       " 'excuses': 1,\n",
       " 'wall': 1,\n",
       " 'if': 1,\n",
       " 'family': 1,\n",
       " 'to': 20,\n",
       " 'world': 1,\n",
       " 'we': 2,\n",
       " 'deadly': 1,\n",
       " 'Texas': 1,\n",
       " 'it': 3,\n",
       " 'up': 3,\n",
       " 'UN': 1,\n",
       " 'thought': 1,\n",
       " 'are': 1,\n",
       " 'mayor': 1,\n",
       " 'tourism': 1,\n",
       " 'as': 1,\n",
       " 'close': 1,\n",
       " 'abuse': 1,\n",
       " 'bill': 1,\n",
       " 'will': 2,\n",
       " 'at': 3,\n",
       " 'after': 5,\n",
       " 'Senate': 1,\n",
       " 'not': 3,\n",
       " 'chicken': 1,\n",
       " 'Playboy': 1,\n",
       " 'Bahamas': 1,\n",
       " 'funds': 1,\n",
       " 'Yemen': 1,\n",
       " 'McConnell': 1,\n",
       " 'Search': 1,\n",
       " 'Opinion:': 2,\n",
       " \"victims'\": 1,\n",
       " 'crimes,': 1,\n",
       " 'Dorian,': 1,\n",
       " 'names': 1,\n",
       " 'customers': 2,\n",
       " 'evacuate': 1,\n",
       " 'five': 1}"
      ]
     },
     "execution_count": 214,
     "metadata": {},
     "output_type": "execute_result"
    }
   ],
   "source": [
    "word_freq"
   ]
  },
  {
   "cell_type": "code",
   "execution_count": 215,
   "metadata": {},
   "outputs": [],
   "source": [
    "#sort the dictionary\n",
    "\n",
    "# first get a list of items\n",
    "items = list(word_freq.items())\n",
    "\n",
    "#items is a list, we can sort usint .sort or sorted\n",
    "#however, we need to specify how the sort to be done"
   ]
  },
  {
   "cell_type": "code",
   "execution_count": 216,
   "metadata": {},
   "outputs": [
    {
     "data": {
      "text/plain": [
       "('fireball', 1)"
      ]
     },
     "execution_count": 216,
     "metadata": {},
     "output_type": "execute_result"
    }
   ],
   "source": [
    "#take a look at the first item in items\n",
    "items[0]"
   ]
  },
  {
   "cell_type": "code",
   "execution_count": 217,
   "metadata": {},
   "outputs": [
    {
     "data": {
      "text/plain": [
       "[('to', 20),\n",
       " ('in', 14),\n",
       " ('and', 11),\n",
       " ('the', 11),\n",
       " ('for', 8),\n",
       " ('a', 7),\n",
       " ('says', 6),\n",
       " ('on', 6),\n",
       " ('is', 6),\n",
       " ('Dorian', 5)]"
      ]
     },
     "execution_count": 217,
     "metadata": {},
     "output_type": "execute_result"
    }
   ],
   "source": [
    "#notice it is a tuple, so we need to sort based on the second number (the frequency)\n",
    "sorted_items=sorted(items, key=lambda x: x[1], reverse=True)\n",
    "sorted_items[:10]"
   ]
  },
  {
   "cell_type": "code",
   "execution_count": 218,
   "metadata": {},
   "outputs": [],
   "source": [
    "from sklearn.feature_extraction import stop_words\n",
    "stop_words = set(stop_words.ENGLISH_STOP_WORDS)"
   ]
  },
  {
   "cell_type": "code",
   "execution_count": 219,
   "metadata": {},
   "outputs": [],
   "source": [
    "#manual way\n",
    "filtered_items = []\n",
    "for item in sorted_items:\n",
    "    if item[0] not in stop_words:\n",
    "        filtered_items.append(item)"
   ]
  },
  {
   "cell_type": "code",
   "execution_count": 220,
   "metadata": {},
   "outputs": [
    {
     "data": {
      "text/plain": [
       "[('says', 6),\n",
       " ('Dorian', 5),\n",
       " ('Hurricane', 5),\n",
       " ('Trump', 5),\n",
       " ('gun', 4),\n",
       " ('Congress', 3),\n",
       " ('Donald', 3),\n",
       " ('California', 3),\n",
       " (\"Here's\", 3),\n",
       " ('Brexit', 3)]"
      ]
     },
     "execution_count": 220,
     "metadata": {},
     "output_type": "execute_result"
    }
   ],
   "source": [
    "filtered_items[:10]"
   ]
  },
  {
   "cell_type": "code",
   "execution_count": 221,
   "metadata": {},
   "outputs": [
    {
     "data": {
      "text/plain": [
       "[('says', 6),\n",
       " ('Dorian', 5),\n",
       " ('Hurricane', 5),\n",
       " ('Trump', 5),\n",
       " ('gun', 4),\n",
       " ('Congress', 3),\n",
       " ('Donald', 3),\n",
       " ('California', 3),\n",
       " (\"Here's\", 3),\n",
       " ('Brexit', 3)]"
      ]
     },
     "execution_count": 221,
     "metadata": {},
     "output_type": "execute_result"
    }
   ],
   "source": [
    "#sneak peek, using list comprehension\n",
    "[item for item in sorted_items if item[0] not in stop_words][:10]"
   ]
  },
  {
   "cell_type": "markdown",
   "metadata": {},
   "source": [
    "Use comprehensions and reduce to answer the question below"
   ]
  },
  {
   "cell_type": "code",
   "execution_count": 222,
   "metadata": {},
   "outputs": [],
   "source": [
    "msg=\"\"\"is it possible to star emails from this message for example\n",
    "if there is an email such as doctor.fun@python.org replace it with stars,\n",
    "another one is fun.ction@dawg.edu\"\"\""
   ]
  },
  {
   "cell_type": "code",
   "execution_count": 223,
   "metadata": {},
   "outputs": [
    {
     "data": {
      "text/plain": [
       "'is it possible to star emails from this message for example if there is an email such as ********************* replace it with stars, another one is ******************'"
      ]
     },
     "execution_count": 223,
     "metadata": {},
     "output_type": "execute_result"
    }
   ],
   "source": [
    "' '.join(\n",
    "    [\n",
    "        word if '@' not in word else '*' * len(word)\n",
    "        for word in msg.split()\n",
    "    ]\n",
    ")"
   ]
  },
  {
   "cell_type": "markdown",
   "metadata": {},
   "source": [
    "What is the longest word in msg [answer is \"doctor.fun@python.org\"]"
   ]
  },
  {
   "cell_type": "code",
   "execution_count": 224,
   "metadata": {},
   "outputs": [
    {
     "data": {
      "text/plain": [
       "['doctor.fun@python.org']"
      ]
     },
     "execution_count": 224,
     "metadata": {},
     "output_type": "execute_result"
    }
   ],
   "source": [
    "# using filtering\n",
    "max_length = max([len(word) for word in msg.split()])\n",
    "[word for word in msg.split() if len(word) == max_length]"
   ]
  },
  {
   "cell_type": "code",
   "execution_count": 225,
   "metadata": {},
   "outputs": [
    {
     "data": {
      "text/plain": [
       "'python'"
      ]
     },
     "execution_count": 225,
     "metadata": {},
     "output_type": "execute_result"
    }
   ],
   "source": [
    "# using reduce\n",
    "def longer(word1, word2):\n",
    "    longer_word = word1 if len(word1) > len(word2) else word2\n",
    "    return longer_word\n",
    "\n",
    "# example\n",
    "longer(\"java\", \"python\")"
   ]
  },
  {
   "cell_type": "code",
   "execution_count": 226,
   "metadata": {},
   "outputs": [
    {
     "data": {
      "text/plain": [
       "'doctor.fun@python.org'"
      ]
     },
     "execution_count": 226,
     "metadata": {},
     "output_type": "execute_result"
    }
   ],
   "source": [
    "from functools import reduce\n",
    "\n",
    "reduce(longer, msg.split())"
   ]
  },
  {
   "cell_type": "code",
   "execution_count": 227,
   "metadata": {},
   "outputs": [
    {
     "data": {
      "text/plain": [
       "'doctor.fun@python.org'"
      ]
     },
     "execution_count": 227,
     "metadata": {},
     "output_type": "execute_result"
    }
   ],
   "source": [
    "# or using lambda\n",
    "\n",
    "reduce(lambda w1, w2: w1 if len(w1) > len(w2) else w2, msg.split())"
   ]
  },
  {
   "cell_type": "markdown",
   "metadata": {},
   "source": [
    "What is the longest word in msg that is not an email [answer is \"possible\"]"
   ]
  },
  {
   "cell_type": "code",
   "execution_count": null,
   "metadata": {},
   "outputs": [],
   "source": [
    "# using filtering\n",
    "max_length = max([len(word) for word in msg.split() if '@' not in word])\n",
    "[word for word in msg.split() if len(word) == max_length]"
   ]
  },
  {
   "cell_type": "code",
   "execution_count": 230,
   "metadata": {},
   "outputs": [
    {
     "data": {
      "text/plain": [
       "'possible'"
      ]
     },
     "execution_count": 230,
     "metadata": {},
     "output_type": "execute_result"
    }
   ],
   "source": [
    "reduce(longer,\n",
    "       [word for word in msg.split() if '@' not in word]\n",
    "      )"
   ]
  },
  {
   "cell_type": "code",
   "execution_count": 64,
   "metadata": {},
   "outputs": [],
   "source": [
    "import csv"
   ]
  },
  {
   "cell_type": "code",
   "execution_count": 65,
   "metadata": {},
   "outputs": [
    {
     "ename": "FileNotFoundError",
     "evalue": "[Errno 2] No such file or directory: 'data/EC10.csv'",
     "output_type": "error",
     "traceback": [
      "\u001b[1;31m---------------------------------------------------------------------------\u001b[0m",
      "\u001b[1;31mFileNotFoundError\u001b[0m                         Traceback (most recent call last)",
      "\u001b[1;32m<ipython-input-65-668c2a4b33f8>\u001b[0m in \u001b[0;36m<module>\u001b[1;34m\u001b[0m\n\u001b[0;32m      1\u001b[0m \u001b[0mdata\u001b[0m \u001b[1;33m=\u001b[0m \u001b[1;33m[\u001b[0m\u001b[1;33m]\u001b[0m\u001b[1;33m\u001b[0m\u001b[1;33m\u001b[0m\u001b[0m\n\u001b[1;32m----> 2\u001b[1;33m \u001b[1;32mwith\u001b[0m \u001b[0mopen\u001b[0m\u001b[1;33m(\u001b[0m\u001b[1;34m'data/EC10.csv'\u001b[0m\u001b[1;33m)\u001b[0m \u001b[1;32mas\u001b[0m \u001b[0mcsvfile\u001b[0m\u001b[1;33m:\u001b[0m\u001b[1;33m\u001b[0m\u001b[1;33m\u001b[0m\u001b[0m\n\u001b[0m\u001b[0;32m      3\u001b[0m     \u001b[0mcsvreader\u001b[0m \u001b[1;33m=\u001b[0m \u001b[0mcsv\u001b[0m\u001b[1;33m.\u001b[0m\u001b[0mreader\u001b[0m\u001b[1;33m(\u001b[0m\u001b[0mcsvfile\u001b[0m\u001b[1;33m,\u001b[0m \u001b[0mdelimiter\u001b[0m\u001b[1;33m=\u001b[0m\u001b[1;34m','\u001b[0m\u001b[1;33m)\u001b[0m\u001b[1;33m\u001b[0m\u001b[1;33m\u001b[0m\u001b[0m\n\u001b[0;32m      4\u001b[0m     \u001b[1;32mfor\u001b[0m \u001b[0mrow\u001b[0m \u001b[1;32min\u001b[0m \u001b[0mcsvreader\u001b[0m\u001b[1;33m:\u001b[0m\u001b[1;33m\u001b[0m\u001b[1;33m\u001b[0m\u001b[0m\n\u001b[0;32m      5\u001b[0m         \u001b[0mdata\u001b[0m\u001b[1;33m.\u001b[0m\u001b[0mappend\u001b[0m\u001b[1;33m(\u001b[0m\u001b[0mrow\u001b[0m\u001b[1;33m[\u001b[0m\u001b[1;36m1\u001b[0m\u001b[1;33m]\u001b[0m\u001b[1;33m)\u001b[0m\u001b[1;33m\u001b[0m\u001b[1;33m\u001b[0m\u001b[0m\n",
      "\u001b[1;31mFileNotFoundError\u001b[0m: [Errno 2] No such file or directory: 'data/EC10.csv'"
     ]
    }
   ],
   "source": [
    "data = []\n",
    "with open('data/EC10.csv') as csvfile:\n",
    "    csvreader = csv.reader(csvfile, delimiter=',')\n",
    "    for row in csvreader:\n",
    "        data.append(row[1])\n",
    "data = data[1:] #exclude header"
   ]
  },
  {
   "cell_type": "code",
   "execution_count": 66,
   "metadata": {},
   "outputs": [
    {
     "data": {
      "text/plain": [
       "0"
      ]
     },
     "execution_count": 66,
     "metadata": {},
     "output_type": "execute_result"
    }
   ],
   "source": [
    "len(data)"
   ]
  },
  {
   "cell_type": "code",
   "execution_count": 67,
   "metadata": {},
   "outputs": [
    {
     "ename": "IndexError",
     "evalue": "list index out of range",
     "output_type": "error",
     "traceback": [
      "\u001b[1;31m---------------------------------------------------------------------------\u001b[0m",
      "\u001b[1;31mIndexError\u001b[0m                                Traceback (most recent call last)",
      "\u001b[1;32m<ipython-input-67-d078424849d1>\u001b[0m in \u001b[0;36m<module>\u001b[1;34m\u001b[0m\n\u001b[1;32m----> 1\u001b[1;33m \u001b[0mprint\u001b[0m\u001b[1;33m(\u001b[0m\u001b[0mdata\u001b[0m\u001b[1;33m[\u001b[0m\u001b[1;36m0\u001b[0m\u001b[1;33m]\u001b[0m\u001b[1;33m[\u001b[0m\u001b[1;33m:\u001b[0m\u001b[1;36m1000\u001b[0m\u001b[1;33m]\u001b[0m\u001b[1;33m)\u001b[0m\u001b[1;33m\u001b[0m\u001b[1;33m\u001b[0m\u001b[0m\n\u001b[0m",
      "\u001b[1;31mIndexError\u001b[0m: list index out of range"
     ]
    }
   ],
   "source": [
    "print(data[0][:1000])"
   ]
  },
  {
   "cell_type": "markdown",
   "metadata": {},
   "source": [
    "The list `data` contains 10 entries. Each entry is the full-text of  a company's [earning call](https://en.wikipedia.org/wiki/Earnings_call)\n",
    "\n",
    "The company's ticker and stock exchange are listed in the first few lines in each earning call. Using regular expressions, extract the tickers and stock exchange symbols for all the companies. \n",
    "\n",
    "Note that an earning call may contain tickers of other companies. We want to exclude them. In other words, we want to first ticker / stock exchange listed in each earning call"
   ]
  },
  {
   "cell_type": "code",
   "execution_count": 68,
   "metadata": {},
   "outputs": [
    {
     "ename": "IndexError",
     "evalue": "list index out of range",
     "output_type": "error",
     "traceback": [
      "\u001b[1;31m---------------------------------------------------------------------------\u001b[0m",
      "\u001b[1;31mIndexError\u001b[0m                                Traceback (most recent call last)",
      "\u001b[1;32m<ipython-input-68-3e8f4729f780>\u001b[0m in \u001b[0;36m<module>\u001b[1;34m\u001b[0m\n\u001b[0;32m      1\u001b[0m \u001b[1;32mimport\u001b[0m \u001b[0mre\u001b[0m\u001b[1;33m\u001b[0m\u001b[1;33m\u001b[0m\u001b[0m\n\u001b[0;32m      2\u001b[0m \u001b[0mstock_ticker\u001b[0m \u001b[1;33m=\u001b[0m \u001b[0mre\u001b[0m\u001b[1;33m.\u001b[0m\u001b[0mcompile\u001b[0m\u001b[1;33m(\u001b[0m\u001b[1;34m'[(]([A-Z]+):([A-Z]+)[)]'\u001b[0m\u001b[1;33m)\u001b[0m\u001b[1;33m\u001b[0m\u001b[1;33m\u001b[0m\u001b[0m\n\u001b[1;32m----> 3\u001b[1;33m \u001b[0mstock_ticker\u001b[0m\u001b[1;33m.\u001b[0m\u001b[0mfindall\u001b[0m\u001b[1;33m(\u001b[0m\u001b[0mdata\u001b[0m\u001b[1;33m[\u001b[0m\u001b[1;36m0\u001b[0m\u001b[1;33m]\u001b[0m\u001b[1;33m)\u001b[0m \u001b[1;31m# just to test\u001b[0m\u001b[1;33m\u001b[0m\u001b[1;33m\u001b[0m\u001b[0m\n\u001b[0m",
      "\u001b[1;31mIndexError\u001b[0m: list index out of range"
     ]
    }
   ],
   "source": [
    "import re\n",
    "stock_ticker = re.compile('[(]([A-Z]+):([A-Z]+)[)]')\n",
    "stock_ticker.findall(data[0]) # just to test"
   ]
  },
  {
   "cell_type": "code",
   "execution_count": 69,
   "metadata": {},
   "outputs": [],
   "source": [
    "def extract_stock_ticker(earning_call, extract='both'):\n",
    "    stock_ticker = re.compile('[(]([A-Z]+):([A-Z]+)[)]')\n",
    "    stock_ticker.search(data[0])\n",
    "    res = stock_ticker.findall(earning_call) \n",
    "    if res:\n",
    "        hit = res[0] #first hit\n",
    "        if extract == 'both':\n",
    "            return hit\n",
    "        elif extract == 'ticker':\n",
    "            return hit[1]\n",
    "        elif extract == 'exchange':\n",
    "            return hit[0]\n",
    "    return None # no need here, but to add an emphasis"
   ]
  },
  {
   "cell_type": "code",
   "execution_count": 70,
   "metadata": {},
   "outputs": [
    {
     "data": {
      "text/plain": [
       "[]"
      ]
     },
     "execution_count": 70,
     "metadata": {},
     "output_type": "execute_result"
    }
   ],
   "source": [
    "tickers_exchanges = [extract_stock_ticker(x) for x in data]\n",
    "tickers_exchanges\n"
   ]
  },
  {
   "cell_type": "code",
   "execution_count": 71,
   "metadata": {},
   "outputs": [
    {
     "data": {
      "text/plain": [
       "[]"
      ]
     },
     "execution_count": 71,
     "metadata": {},
     "output_type": "execute_result"
    }
   ],
   "source": [
    "tickers = [extract_stock_ticker(x, extract='ticker') for x in data]\n",
    "tickers"
   ]
  },
  {
   "cell_type": "code",
   "execution_count": 72,
   "metadata": {},
   "outputs": [
    {
     "data": {
      "text/plain": [
       "[]"
      ]
     },
     "execution_count": 72,
     "metadata": {},
     "output_type": "execute_result"
    }
   ],
   "source": [
    "exchanges = [extract_stock_ticker(x, extract='exchange') for x in data]\n",
    "exchanges"
   ]
  },
  {
   "cell_type": "markdown",
   "metadata": {},
   "source": [
    "How about extracting all numbers that start with `$`"
   ]
  },
  {
   "cell_type": "code",
   "execution_count": 73,
   "metadata": {},
   "outputs": [
    {
     "ename": "IndexError",
     "evalue": "list index out of range",
     "output_type": "error",
     "traceback": [
      "\u001b[1;31m---------------------------------------------------------------------------\u001b[0m",
      "\u001b[1;31mIndexError\u001b[0m                                Traceback (most recent call last)",
      "\u001b[1;32m<ipython-input-73-31bfc40652ff>\u001b[0m in \u001b[0;36m<module>\u001b[1;34m\u001b[0m\n\u001b[0;32m      1\u001b[0m \u001b[0mmoney\u001b[0m \u001b[1;33m=\u001b[0m \u001b[0mre\u001b[0m\u001b[1;33m.\u001b[0m\u001b[0mcompile\u001b[0m\u001b[1;33m(\u001b[0m\u001b[1;34mr'\\$\\d+[.,\\d]+'\u001b[0m\u001b[1;33m)\u001b[0m\u001b[1;33m\u001b[0m\u001b[1;33m\u001b[0m\u001b[0m\n\u001b[1;32m----> 2\u001b[1;33m \u001b[0mmoney\u001b[0m\u001b[1;33m.\u001b[0m\u001b[0mfindall\u001b[0m\u001b[1;33m(\u001b[0m\u001b[0mdata\u001b[0m\u001b[1;33m[\u001b[0m\u001b[1;36m0\u001b[0m\u001b[1;33m]\u001b[0m\u001b[1;33m)\u001b[0m \u001b[1;31m# just to test\u001b[0m\u001b[1;33m\u001b[0m\u001b[1;33m\u001b[0m\u001b[0m\n\u001b[0m",
      "\u001b[1;31mIndexError\u001b[0m: list index out of range"
     ]
    }
   ],
   "source": [
    "money = re.compile(r'\\$\\d+[.,\\d]+')\n",
    "money.findall(data[0]) # just to test"
   ]
  },
  {
   "cell_type": "markdown",
   "metadata": {},
   "source": [
    "The numbers are meaningless so let us put some context"
   ]
  },
  {
   "cell_type": "code",
   "execution_count": 74,
   "metadata": {},
   "outputs": [
    {
     "ename": "IndexError",
     "evalue": "list index out of range",
     "output_type": "error",
     "traceback": [
      "\u001b[1;31m---------------------------------------------------------------------------\u001b[0m",
      "\u001b[1;31mIndexError\u001b[0m                                Traceback (most recent call last)",
      "\u001b[1;32m<ipython-input-74-6848d830459c>\u001b[0m in \u001b[0;36m<module>\u001b[1;34m\u001b[0m\n\u001b[0;32m      1\u001b[0m \u001b[0mmoney\u001b[0m \u001b[1;33m=\u001b[0m \u001b[0mre\u001b[0m\u001b[1;33m.\u001b[0m\u001b[0mcompile\u001b[0m\u001b[1;33m(\u001b[0m\u001b[1;34mr'(\\w+\\s)(\\$\\d+[.,\\d]+)(\\s\\w+)'\u001b[0m\u001b[1;33m)\u001b[0m\u001b[1;33m\u001b[0m\u001b[1;33m\u001b[0m\u001b[0m\n\u001b[1;32m----> 2\u001b[1;33m \u001b[0mmoney\u001b[0m\u001b[1;33m.\u001b[0m\u001b[0mfindall\u001b[0m\u001b[1;33m(\u001b[0m\u001b[0mdata\u001b[0m\u001b[1;33m[\u001b[0m\u001b[1;36m0\u001b[0m\u001b[1;33m]\u001b[0m\u001b[1;33m)\u001b[0m \u001b[1;31m# just to test\u001b[0m\u001b[1;33m\u001b[0m\u001b[1;33m\u001b[0m\u001b[0m\n\u001b[0m",
      "\u001b[1;31mIndexError\u001b[0m: list index out of range"
     ]
    }
   ],
   "source": [
    "money = re.compile(r'(\\w+\\s)(\\$\\d+[.,\\d]+)(\\s\\w+)')\n",
    "money.findall(data[0]) # just to test"
   ]
  },
  {
   "cell_type": "markdown",
   "metadata": {},
   "source": [
    "Apply to all earning calls"
   ]
  },
  {
   "cell_type": "code",
   "execution_count": 75,
   "metadata": {},
   "outputs": [],
   "source": [
    "money_extract = [ money.findall(x) for x in data ]"
   ]
  },
  {
   "cell_type": "code",
   "execution_count": 76,
   "metadata": {},
   "outputs": [
    {
     "data": {
      "text/plain": [
       "[]"
      ]
     },
     "execution_count": 76,
     "metadata": {},
     "output_type": "execute_result"
    }
   ],
   "source": [
    "money_extract"
   ]
  },
  {
   "cell_type": "markdown",
   "metadata": {},
   "source": [
    "# Homework 1 Questions\n"
   ]
  },
  {
   "cell_type": "markdown",
   "metadata": {},
   "source": [
    "# Instructions\n",
    "\n",
    "Your submission will be tested with the code tester. It is important to follow these instructions to ensure your work tests properly.\n",
    "\n",
    "- Do not change the content of the cells under __SETUP__ and __TESTS__\n",
    "- Work only in the __YOUR WORK__ area\n",
    "- Rename the notebook with your group at the end (subsitute XX with your group number).\n",
    "- Assign the results of each numbered question to the appropriate test variable. For example, the answer of `1.` should be assigned to `test_1`\n",
    "- Rounding: use the supplied function `hround` to round decimal numbers when instructed. It's important to use this function because there are [multiple ways to round numbers in Python](https://www.knowledgehut.com/blog/programming/python-rounding-numbers) and they may not result in the same value that the tester is testing against.\n",
    "- Ensure your run the cells under __SETUP__ before you run your work\n",
    "- Before you submit your work, ensure you clean up your notebook. Your notebook has to run without an error in order to be tested. The easiest way to ensure is to `Kernel->Restart & Run All`\n",
    "- Answers are provided below for your convenience\n",
    "- You will need to write a program to calculate the answers. Setting the answers to be their correct values without solving them is considered *hardcoding* and will result in zero grade for the assignment as well as a potential academic honesty violation.\n",
    "- You can also test your submission using [the online code tester](http://open-data.stream:9100)\n"
   ]
  },
  {
   "cell_type": "code",
   "execution_count": 2,
   "metadata": {},
   "outputs": [],
   "source": [
    "# DO NOT EDIT OR CHANGE THE CONTENT OF THIS CELL\n",
    "scenario = 0"
   ]
  },
  {
   "cell_type": "code",
   "execution_count": 3,
   "metadata": {},
   "outputs": [],
   "source": [
    "#imports\n",
    "import random"
   ]
  },
  {
   "cell_type": "code",
   "execution_count": 4,
   "metadata": {},
   "outputs": [],
   "source": [
    "def hround(number):\n",
    "    return round(number, 2 - scenario)"
   ]
  },
  {
   "cell_type": "code",
   "execution_count": 8,
   "metadata": {},
   "outputs": [],
   "source": [
    "test_1=test_2=test_3=test_4=test_5=test_6=test_7=test_8=test_9=0.0"
   ]
  },
  {
   "cell_type": "markdown",
   "metadata": {},
   "source": [
    "## Part 1: Supertankers\n",
    "\n",
    "*this question is inspired by Scott Page's [The Model Thinker](https://www.goodreads.com/book/show/39088592-the-model-thinker) Chapter 3*\n",
    "\n",
    "The cost of building a supertanker depends primarily on its surface area, which determines the amount of steel used. The amount of revenue a supertanker generates depends on its volume. Computing the ratio of volume to surface area reveals a linear gain in profitability from increasing size.\n",
    "\n",
    "To simplify the calculations below, assume a rectangular prism supertanker. \n",
    "\n",
    "\\begin{align}\n",
    "Surface area &= 2 \\times (Beam \\times Height + Height \\times Draft + Beam \\times Draft) \\\\\n",
    "Volume &= Beam \\times Height \\times Draft\n",
    "\\end{align}\n",
    "\n",
    "The T2 oil tanker used during World War II measured 500 feet long, 25 feet deep, and 50 feet wide.\n",
    "1. What is the surface area of the T2 tanker?\n",
    "2. What is the volume of the T2 tanker?\n",
    "3. What is the ratio of volume to surface of the T2 tanker? Round the value to two decimals using the function `hround`. "
   ]
  },
  {
   "cell_type": "markdown",
   "metadata": {},
   "source": [
    "## Part 1: Answer"
   ]
  },
  {
   "cell_type": "markdown",
   "metadata": {},
   "source": [
    "1. What is the surface area of the T2 tanker?\n",
    "2. What is the volume of the T2 tanker?\n",
    "3. What is the ratio of volume to surface of the T2 tanker? Round the value to two decimals using the function hround."
   ]
  },
  {
   "cell_type": "code",
   "execution_count": 10,
   "metadata": {},
   "outputs": [
    {
     "name": "stdout",
     "output_type": "stream",
     "text": [
      "77500\n",
      "625000\n",
      "8.06\n"
     ]
    }
   ],
   "source": [
    "beam = 500\n",
    "height = 25\n",
    "draft = 50\n",
    "\n",
    "test_1 = 2*(beam*height + beam*draft + height*draft)\n",
    "print(test_1)\n",
    "\n",
    "test_2 = beam*height*draft\n",
    "print(test_2)\n",
    "\n",
    "test_3 = hround(test_2/test_1)\n",
    "print(test_3)"
   ]
  },
  {
   "cell_type": "markdown",
   "metadata": {},
   "source": [
    "## Part 2: Flipping coins\n",
    "We toss a fair coin five times and record the sequence of outcomes (H or T). \n",
    "4. How many possible sequences are there?\n",
    "5. What is the chance that we end up with four heads or more? Round the number to two decimals.\n",
    "\n",
    "Hints:\n",
    "- If you took a college course in probability or statistics you may already know there are  formulas to calculate this probability. You can google \"permutation and combination in python\" as a start.\n",
    "- Another way is to model the underlying distribution of outcomes as a [Binomial distribution](https://en.wikipedia.org/wiki/Binomial_distribution).\n",
    "- However, you don't need to learn the underlying math. A third approach is computational. Generate all possible sequences of length five, then count how many of them have more than three heads. Below is a starter code that generates sequences of two flips\n",
    "\n",
    "```python\n",
    "outcomes = []\n",
    "for f1 in ['H', 'T']:\n",
    "    for f2 in ['H', 'T']:\n",
    "        outcomes.append(f1+f2)\n",
    "outcomes```"
   ]
  },
  {
   "cell_type": "markdown",
   "metadata": {},
   "source": [
    "## Part 2: Answer"
   ]
  },
  {
   "cell_type": "code",
   "execution_count": 11,
   "metadata": {},
   "outputs": [
    {
     "name": "stdout",
     "output_type": "stream",
     "text": [
      "32\n",
      "0.1875\n"
     ]
    }
   ],
   "source": [
    "test_4 = 2**5\n",
    "print(test_4)\n",
    "\n",
    "import math\n",
    "test_5 = (math.factorial(5)/math.factorial(4) + math.factorial(5)/math.factorial(5)) / test_4\n",
    "print(test_5)"
   ]
  },
  {
   "cell_type": "markdown",
   "metadata": {},
   "source": [
    "## Part 3: Poker\n",
    "\n",
    "OK, flipping coin is boring, how about playing poker? You don't need to know how to play poker to answer this question. Just read [the Wikipedia entry](https://en.wikipedia.org/wiki/List_of_poker_hands) about the different kinds of hands. To simplify the question, we will assume no Joker in our deck of cards.\n",
    "\n",
    "We represent a poker hand as a list of tuples. A hand has five cards and hence five tuples. Each tuple has two components, the first is the rank and the second is the suit. Rank is one value from `['2','3','4','5','6','7','8','9','10','J','Q', 'K', 'A']` and suit is one value from `['♠', '♥', '♣', '♦']`\n",
    "\n",
    "The function `draw_hand()` is provided below for your convinience. It returns a random hand of five from a deck of cards. For example, `[('2', '♥'), ('8', '♦'), ('2', '♣'), ('J', '♠'), ('6', '♣')]`. You can use the function to generate hands to test your work.\n",
    "\n",
    "In this exercise, you will write two functions to test if a hand is a straight hand and a straight flush hand:\n",
    "- A straight hand is a hand in which the cards' ranks are in order\n",
    "- A straight flush hand is a straight hand in which the cards are from one suit\n",
    "\n",
    "Write a function `straight_hand` that takes a hand as a parameter and return a boolean value.\n",
    "\n",
    "6. Test the function `[('2', '♥'), ('8', '♦'), ('2', '♣'), ('J', '♠'), ('6', '♣')]`\n",
    "7. Test the function using `[('9', '♥'), ('8', '♦'), ('10', '♣'), ('Q', '♠'), ('J', '♣')]`\n",
    "\n",
    "Write a function `straight_flush_hand` that takes a hand as a parameter and return a boolean value.\n",
    "\n",
    "8. Test the function using `[('9', '♥'), ('8', '♦'), ('10', '♣'), ('Q', '♠'), ('J', '♣')]`\n",
    "9. Test the function using `[('9', '♥'), ('8', '♥'), ('10', '♥'), ('Q', '♥'), ('J', '♥')]`\n",
    "\n",
    "**BONUS**: In a random draw, what is the chance of getting a straight hand? What is the chance of getting a straight flush hand?"
   ]
  },
  {
   "cell_type": "markdown",
   "metadata": {},
   "source": [
    "## Part 3: Answer\n"
   ]
  },
  {
   "cell_type": "code",
   "execution_count": 12,
   "metadata": {},
   "outputs": [],
   "source": [
    "def draw_hand():\n",
    "    ranks = ['2','3','4','5','6','7','8','9','10','J','Q', 'K', 'A']\n",
    "    suits = ['♠', '♥', '♣', '♦']\n",
    "    deck = [(r, s) for s in suits for r in ranks ]\n",
    "    hand = random.sample(deck, 5)\n",
    "    return hand"
   ]
  },
  {
   "cell_type": "code",
   "execution_count": 13,
   "metadata": {},
   "outputs": [],
   "source": [
    "def straight_hand(hand):\n",
    "    values = []\n",
    "    face_map = {'J': 11, 'Q': 12, 'K': 13, 'A': 14}\n",
    "    for h in hand:\n",
    "        try:\n",
    "            values.append(int(h[0]))\n",
    "        except:\n",
    "            values.append(face_map[h[0]])    \n",
    "    values = sorted(values)\n",
    "    return (values == list(range(values[0], values[0]+5))\n",
    "            or values == [2, 3, 4, 5, 14])"
   ]
  },
  {
   "cell_type": "code",
   "execution_count": 14,
   "metadata": {},
   "outputs": [],
   "source": [
    "def flush_hand(hand):\n",
    "    suits = [h[1] for h in hand]\n",
    "    return all(s == suits[0] for s in suits)"
   ]
  },
  {
   "cell_type": "code",
   "execution_count": 15,
   "metadata": {},
   "outputs": [],
   "source": [
    "def straight_flush_hand(hand):\n",
    "    return straight_hand(hand) == True and flush_hand(hand) == True"
   ]
  },
  {
   "cell_type": "code",
   "execution_count": 16,
   "metadata": {},
   "outputs": [
    {
     "name": "stdout",
     "output_type": "stream",
     "text": [
      "False\n",
      "True\n",
      "False\n",
      "True\n"
     ]
    }
   ],
   "source": [
    "test_6 = straight_hand([('2', '♥'), ('8', '♦'), ('2', '♣'), ('J', '♠'), ('6', '♣')])\n",
    "print(test_6)\n",
    "\n",
    "test_7 = straight_hand([('9', '♥'), ('8', '♦'), ('10', '♣'), ('Q', '♠'), ('J', '♣')])\n",
    "print(test_7)\n",
    "\n",
    "test_8 = straight_flush_hand([('9', '♥'), ('8', '♦'), ('10', '♣'), ('Q', '♠'), ('J', '♣')])\n",
    "print(test_8)\n",
    "\n",
    "test_9 = straight_flush_hand([('9', '♥'), ('8', '♥'), ('10', '♥'), ('Q', '♥'), ('J', '♥')])\n",
    "print(test_9)"
   ]
  },
  {
   "cell_type": "markdown",
   "metadata": {},
   "source": [
    "## Homework Answers\n"
   ]
  },
  {
   "cell_type": "code",
   "execution_count": 17,
   "metadata": {},
   "outputs": [
    {
     "data": {
      "text/plain": [
       "77500"
      ]
     },
     "execution_count": 17,
     "metadata": {},
     "output_type": "execute_result"
    }
   ],
   "source": [
    "### TEST 1\n",
    "test_1"
   ]
  },
  {
   "cell_type": "code",
   "execution_count": 18,
   "metadata": {},
   "outputs": [
    {
     "data": {
      "text/plain": [
       "625000"
      ]
     },
     "execution_count": 18,
     "metadata": {},
     "output_type": "execute_result"
    }
   ],
   "source": [
    "## TEST 2\n",
    "test_2"
   ]
  },
  {
   "cell_type": "code",
   "execution_count": 19,
   "metadata": {},
   "outputs": [
    {
     "data": {
      "text/plain": [
       "8.06"
      ]
     },
     "execution_count": 19,
     "metadata": {},
     "output_type": "execute_result"
    }
   ],
   "source": [
    "## TEST 3\n",
    "test_3"
   ]
  },
  {
   "cell_type": "code",
   "execution_count": 20,
   "metadata": {},
   "outputs": [
    {
     "data": {
      "text/plain": [
       "32"
      ]
     },
     "execution_count": 20,
     "metadata": {},
     "output_type": "execute_result"
    }
   ],
   "source": [
    "## TEST 4\n",
    "test_4"
   ]
  },
  {
   "cell_type": "code",
   "execution_count": 21,
   "metadata": {},
   "outputs": [
    {
     "data": {
      "text/plain": [
       "0.1875"
      ]
     },
     "execution_count": 21,
     "metadata": {},
     "output_type": "execute_result"
    }
   ],
   "source": [
    "## TEST 5\n",
    "test_5"
   ]
  },
  {
   "cell_type": "code",
   "execution_count": 22,
   "metadata": {},
   "outputs": [
    {
     "data": {
      "text/plain": [
       "False"
      ]
     },
     "execution_count": 22,
     "metadata": {},
     "output_type": "execute_result"
    }
   ],
   "source": [
    "## TEST 6\n",
    "test_6"
   ]
  },
  {
   "cell_type": "code",
   "execution_count": 23,
   "metadata": {},
   "outputs": [
    {
     "data": {
      "text/plain": [
       "True"
      ]
     },
     "execution_count": 23,
     "metadata": {},
     "output_type": "execute_result"
    }
   ],
   "source": [
    "## TEST 7\n",
    "test_7"
   ]
  },
  {
   "cell_type": "code",
   "execution_count": 24,
   "metadata": {},
   "outputs": [
    {
     "data": {
      "text/plain": [
       "False"
      ]
     },
     "execution_count": 24,
     "metadata": {},
     "output_type": "execute_result"
    }
   ],
   "source": [
    "## TEST 8\n",
    "test_8"
   ]
  },
  {
   "cell_type": "code",
   "execution_count": 25,
   "metadata": {},
   "outputs": [
    {
     "data": {
      "text/plain": [
       "True"
      ]
     },
     "execution_count": 25,
     "metadata": {},
     "output_type": "execute_result"
    }
   ],
   "source": [
    "## TEST 9\n",
    "test_9"
   ]
  },
  {
   "cell_type": "markdown",
   "metadata": {},
   "source": [
    "## Exam Review"
   ]
  },
  {
   "cell_type": "code",
   "execution_count": null,
   "metadata": {},
   "outputs": [],
   "source": []
  }
 ],
 "metadata": {
  "kernelspec": {
   "display_name": "Python 3",
   "language": "python",
   "name": "python3"
  },
  "language_info": {
   "codemirror_mode": {
    "name": "ipython",
    "version": 3
   },
   "file_extension": ".py",
   "mimetype": "text/x-python",
   "name": "python",
   "nbconvert_exporter": "python",
   "pygments_lexer": "ipython3",
   "version": "3.7.4"
  },
  "widgets": {
   "application/vnd.jupyter.widget-state+json": {
    "state": {},
    "version_major": 2,
    "version_minor": 0
   }
  }
 },
 "nbformat": 4,
 "nbformat_minor": 2
}
