{
 "cells": [
  {
   "cell_type": "markdown",
   "metadata": {},
   "source": [
    "## Homework 1"
   ]
  },
  {
   "cell_type": "markdown",
   "metadata": {},
   "source": [
    "## Part 1: Supertankers\n",
    "\n",
    "*this question is inspired by Scott Page's [The Model Thinker](https://www.goodreads.com/book/show/39088592-the-model-thinker) Chapter 3*\n",
    "\n",
    "The cost of building a supertanker depends primarily on its surface area, which determines the amount of steel used. The amount of revenue a supertanker generates depends on its volume. Computing the ratio of volume to surface area reveals a linear gain in profitability from increasing size.\n",
    "\n",
    "To simplify the calculations below, assume a rectangular prism supertanker. \n",
    "\n",
    "\\begin{align}\n",
    "Surface area &= 2 \\times (Beam \\times Height + Height \\times Draft + Beam \\times Draft) \\\\\n",
    "Volume &= Beam \\times Height \\times Draft\n",
    "\\end{align}\n",
    "\n",
    "The T2 oil tanker used during World War II measured 500 feet long, 25 feet deep, and 50 feet wide.\n",
    "1. What is the surface area of the T2 tanker?\n",
    "2. What is the volume of the T2 tanker?\n",
    "3. What is the ratio of volume to surface of the T2 tanker? Round the value to two decimals using the function `hround`. "
   ]
  },
  {
   "cell_type": "code",
   "execution_count": null,
   "metadata": {},
   "outputs": [],
   "source": [
    "height = 25\n",
    "beam = 50\n",
    "draft = 500\n",
    "surface = 2 * (beam*height + height*draft + beam*draft)\n",
    "volume = height * beam * draft\n",
    "ratio = hround(volume / surface)\n",
    "test_1 = surface\n",
    "test_2 = volume\n",
    "test_3 = ratio"
   ]
  },
  {
   "cell_type": "markdown",
   "metadata": {},
   "source": [
    "## Part 2: Flipping coins\n",
    "We toss a fair coin five times and record the sequence of outcomes (H or T). \n",
    "4. How many possible sequences are there?\n",
    "5. What is the chance that we end up with four heads or more?\n",
    "\n",
    "Hints:\n",
    "- If you took a college course in probability or statistics you may already know there are  formulas to calculate this probability. You can google \"permutation and combination in python\" as a start.\n",
    "- Another way is to model the underlying distribution of outcomes as a [Binomial distribution](https://en.wikipedia.org/wiki/Binomial_distribution).\n",
    "- However, you don't need to learn the underlying math. A third approach is computational. Generate all possible sequences of length five, then count how many of them have more than three heads. Below is a starter code that generates sequences of two flips\n",
    "\n",
    "```python\n",
    "outcomes = []\n",
    "for f1 in ['H', 'T']:\n",
    "    for f2 in ['H', 'T']:\n",
    "        outcomes.append(f1+f2)\n",
    "outcomes```"
   ]
  },
  {
   "cell_type": "code",
   "execution_count": null,
   "metadata": {},
   "outputs": [],
   "source": [
    "number_possible_sequences = 2**5\n",
    "number_possible_sequences\n",
    "\n",
    "import itertools\n",
    "number_of_five_heads = len(list(itertools.combinations(range(5), 5)))\n",
    "number_of_four_heads = len(list(itertools.combinations(range(5), 4)))\n",
    "chance_of_four_heads_or_more =  (number_of_five_heads + number_of_four_heads) / number_possible_sequences\n",
    "chance_of_four_heads_or_more"
   ]
  },
  {
   "cell_type": "markdown",
   "metadata": {},
   "source": [
    "## Part 3: Poker\n",
    "\n",
    "OK, flipping coin is boring, how about playing poker? You don't need to know how to play poker to answer this question. Just read [the Wikipedia entry](https://en.wikipedia.org/wiki/List_of_poker_hands) about the different kinds of hands. To simplify the question, we will assume no Joker in our deck of cards.\n",
    "\n",
    "We represent a poker hand as a list of tuples. A hand has five cards and hence five tuples. Each tuple has two components, the first is the rank and the second is the suit. Rank is one value from `['2','3','4','5','6','7','8','9','10','J','Q', 'K', 'A']` and suit is one value from `['♠', '♥', '♣', '♦']`\n",
    "\n",
    "The function `draw_hand()` is provided below for your convinience. It returns a random hand of five from a deck of cards. For example, `[('2', '♥'), ('8', '♦'), ('2', '♣'), ('J', '♠'), ('6', '♣')]`. You can use the function to generate hands to test your work.\n",
    "\n",
    "In this exercise, you will write two functions to test if a hand is a straight hand and a straight flush hand:\n",
    "- A straight hand is a hand in which the cards' ranks are in order\n",
    "- A straight flush hand is a straight hand in which the cards are from one suit\n",
    "\n",
    "Write a function `straight_hand` that takes a hand as a parameter and return a boolean value.\n",
    "\n",
    "6. Test the function `[('2', '♥'), ('8', '♦'), ('2', '♣'), ('J', '♠'), ('6', '♣')]`\n",
    "7. Test the function using `[('9', '♥'), ('8', '♦'), ('10', '♣'), ('Q', '♠'), ('J', '♣')]`\n",
    "\n",
    "Write a function `straight_flush_hand` that takes a hand as a parameter and return a boolean value.\n",
    "\n",
    "8. Test the function using `[('9', '♥'), ('8', '♦'), ('10', '♣'), ('Q', '♠'), ('J', '♣')]`\n",
    "9. Test the function using `[('9', '♥'), ('8', '♥'), ('10', '♥'), ('Q', '♥'), ('J', '♥')]`\n",
    "\n",
    "**BONUS**: In a random draw, what is the chance of getting a straight hand? What is the chance of getting a straight flush hand?"
   ]
  },
  {
   "cell_type": "code",
   "execution_count": null,
   "metadata": {},
   "outputs": [],
   "source": [
    "def draw_hand():\n",
    "    ranks = ['2','3','4','5','6','7','8','9','10','J','Q', 'K', 'A']\n",
    "    suits = ['♠', '♥', '♣', '♦']\n",
    "    deck = [(r, s) for s in suits for r in ranks ]\n",
    "    hand = random.sample(deck, 5)\n",
    "    return hand"
   ]
  },
  {
   "cell_type": "markdown",
   "metadata": {},
   "source": [
    "\n",
    "Here again there are multiple ways to approach this problem. The challenge in this problem results from the fact that the order of play cards does not correspond to numberical order (e.g., Ace is larger than 10) or the string order (e.g., 'Q' is larger than 'K').\n",
    "\n",
    "The first step is to define a mapping of the card rank, to a numerical order that reflects the rank. We can use a function or a dictionary"
   ]
  },
  {
   "cell_type": "code",
   "execution_count": null,
   "metadata": {},
   "outputs": [],
   "source": [
    "value_rank = {'2':2, '3':3, '4':4, '5':5, '6':6, '7':7, \n",
    "              '8':8, '9':9, '10':10, 'J':11, 'Q':12, 'K':13, 'A':14}"
   ]
  },
  {
   "cell_type": "markdown",
   "metadata": {},
   "source": [
    "Next, how do we know that a hand is straight? The ranks should be in order, which means that the difference between the largest rank and the smallest rank should be five. The ranks should be different too. There are three steps:\n",
    "- extract ranks from the cards\n",
    "- calculate the difference between the max and min rank, that number should be four in a straight hand\n",
    "- calculate the number of different ranks, that number should be five in a straight hand\n",
    "\n",
    "The next four cells are explanatory. We will test these ideas before putting them in a function"
   ]
  },
  {
   "cell_type": "code",
   "execution_count": null,
   "metadata": {},
   "outputs": [],
   "source": [
    "hand = [('2', '♥'), ('8', '♦'), ('2', '♣'), ('J', '♠'), ('6', '♣')]\n",
    "# extract ranks from hand\n",
    "ranks = [c[0] for c in hand]\n",
    "ranks\n",
    "\n",
    "# convert the card ranks to our internal values\n",
    "values = [value_rank[r] for r in ranks]\n",
    "values\n",
    "\n",
    "min_v = min(values)\n",
    "max_v = max(values)\n",
    "max_v - min_v\n",
    "\n",
    "# number of different ranks\n",
    "different = len(set(ranks))\n",
    "different"
   ]
  },
  {
   "cell_type": "markdown",
   "metadata": {},
   "source": [
    "Now let us put these things together in one function\n"
   ]
  },
  {
   "cell_type": "code",
   "execution_count": null,
   "metadata": {},
   "outputs": [],
   "source": [
    "def straight_hand(hand):\n",
    "    ranks = [c[0] for c in hand]\n",
    "    values = [value_rank[r] for r in ranks]\n",
    "    min_v = min(values)\n",
    "    max_v = max(values)\n",
    "    diff = max_v - min_v\n",
    "    different = len(set(ranks))\n",
    "    return ( (max_v - min_v) == 4 ) and different == 5\n",
    "\n",
    "test_6 = straight_hand([('2', '♥'), ('8', '♦'), ('2', '♣'), ('J', '♠'), ('6', '♣')])\n",
    "test_6\n",
    "\n",
    "test_7 = straight_hand([('9', '♥'), ('8', '♦'), ('10', '♣'), ('Q', '♠'), ('J', '♣')])\n",
    "test_7\n",
    "\n",
    "def flush_hand(hand):\n",
    "    suits = [c[1] for c in hand]\n",
    "    different = len(set(suits))\n",
    "    return different == 1\n",
    "\n",
    "def straight_flush_hand(hand):\n",
    "    return straight_hand(hand) and flush_hand(hand)\n",
    "\n",
    "test_8 = straight_flush_hand([('9', '♥'), ('8', '♦'), ('10', '♣'), ('Q', '♠'), ('J', '♣')])\n",
    "test_8\n",
    "\n",
    "test_9 = straight_flush_hand([('9', '♥'), ('8', '♥'), ('10', '♥'), ('Q', '♥'), ('J', '♥')])\n",
    "test_9\n"
   ]
  },
  {
   "cell_type": "markdown",
   "metadata": {},
   "source": [
    "### Bonus\n",
    "\n",
    "We will adopt a computational approach. We will generate a large number of draws and count how many straight and straight flushes are there. [The exact number can be calculated as well](https://stattrek.com/poker/probability-of-straight.aspx) and is 0.003940037553\n"
   ]
  },
  {
   "cell_type": "code",
   "execution_count": null,
   "metadata": {},
   "outputs": [],
   "source": [
    "draws = [draw_hand() for i in range(100000)]\n",
    "straight_hands = [straight_hand(hand) for hand in draws]\n",
    "chance_straight_hand = sum(straight_hands) / len(straight_hands)\n",
    "chance_straight_hand"
   ]
  },
  {
   "cell_type": "markdown",
   "metadata": {},
   "source": [
    "# Exam 1B"
   ]
  },
  {
   "cell_type": "markdown",
   "metadata": {},
   "source": [
    "## Part 1\n",
    "\n",
    "Leap Years are any year that can be exactly divided by 4 (such as 2016, 2020, 2024, etc)\n",
    "- except if it can be exactly divided by 100, then it isn't (such as 2100, 2200, etc)\n",
    "- except if it can be exactly divided by 400, then it is (such as 2000, 2400)\n",
    "\n",
    "The function `isleap` is imported into this notebook can be used to determine whether a year is a leap year (you don't need to implement this function, the above information is just for your reference if you don't know what a leap year is)\n",
    "\n",
    "1. Was year 2019 a leap year?\n",
    "- Is year 2020 a leap year?\n",
    "- Is year 2400 a leap year?\n",
    "- What are the leap years from 1990 to 2020?\n",
    "- How many leap years are there in the 21st century (i.e., 2000 to 2099)?"
   ]
  },
  {
   "cell_type": "code",
   "execution_count": null,
   "metadata": {},
   "outputs": [],
   "source": [
    "from calendar import isleap\n",
    "#or \n",
    "# if you want to implement the function\n",
    "def leap(year):\n",
    "    if year % 4 == 0:\n",
    "        if year % 100 == 0:\n",
    "            if year % 400 == 0:\n",
    "                return True\n",
    "            else:\n",
    "                return False\n",
    "        else:\n",
    "            return True\n",
    "    else:\n",
    "        return False\n",
    "#or \n",
    "# or use the builtin function\n",
    "leap = isleap"
   ]
  },
  {
   "cell_type": "code",
   "execution_count": null,
   "metadata": {},
   "outputs": [],
   "source": [
    "test_1 = leap(2019)\n",
    "test_2 = leap(2020)\n",
    "test_3 = leap(2400)\n",
    "test_4 = [year for year in range(1900, 2021) if leap(year)]\n",
    "test_5 = len([year for year in range(2000, 2100) if leap(year)])"
   ]
  },
  {
   "cell_type": "markdown",
   "metadata": {},
   "source": [
    "## Part 2\n",
    "\n",
    "The time value of money is given by the formula $FV= PV(1 + r)^n$, Where \n",
    "- FV is the future value of a sum of money\n",
    "- PV is the present value of the same amount\n",
    "- r is the interest rate, or the growth rate per period\n",
    "- n is number of periods of growth\n",
    "\n",
    "Using the formula, answer the following questions. Round all answers using `hround`\n",
    "\n",
    "6.  A house that is currently on the market  at  \\\\$450,000.  If the expected inflation rate as applied to the price of this house is 6% per year, what is its expected price after four years?\n",
    "- You  decide  to  put  \\\\$12,000  in  a  money  market  fund that  pays  interest at  the  annual  rate  of  8.4%.  You  plan  to  take the  money  out  after  one  year  and  pay  the  income  tax  on  the  interest  earned.  You  are  in the 15% tax bracket. Find the total amount available to you after taxes.\n",
    "- You expect to receive \\\\$10,000 as a bonus after one year on the job. You have calculated the present value of this bonus and the answer is \\\\$9500. What discount rate did you use in your calculation?\n",
    "- A  bank  account  pays  5.5%  annual  interest,  compounded monthly. How many (whole) years will it take the money to double in this account?"
   ]
  },
  {
   "cell_type": "code",
   "execution_count": null,
   "metadata": {},
   "outputs": [],
   "source": [
    "test_6 = hround(450000*(1+0.06)**4)\n",
    "\n",
    "initial = 12000\n",
    "interest = initial*0.084\n",
    "tax = interest * 0.15\n",
    "net = initial + interest - tax\n",
    "test_7 = hround(net)\n",
    "\n",
    "rate = 10000 / 9500 - 1\n",
    "test_8 = hround(rate)\n",
    "\n",
    "initial = 1\n",
    "money = initial\n",
    "year = 1\n",
    "while True:\n",
    "    money = money * (1 + 0.055)\n",
    "    if money >= 2 * initial:\n",
    "        break\n",
    "    else:\n",
    "        year += 1\n",
    "test_9 = year"
   ]
  },
  {
   "cell_type": "code",
   "execution_count": null,
   "metadata": {},
   "outputs": [],
   "source": []
  }
 ],
 "metadata": {
  "kernelspec": {
   "display_name": "Python 3",
   "language": "python",
   "name": "python3"
  },
  "language_info": {
   "codemirror_mode": {
    "name": "ipython",
    "version": 3
   },
   "file_extension": ".py",
   "mimetype": "text/x-python",
   "name": "python",
   "nbconvert_exporter": "python",
   "pygments_lexer": "ipython3",
   "version": "3.7.4"
  }
 },
 "nbformat": 4,
 "nbformat_minor": 2
}
